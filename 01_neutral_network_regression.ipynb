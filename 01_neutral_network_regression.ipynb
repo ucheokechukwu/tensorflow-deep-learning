{
  "nbformat": 4,
  "nbformat_minor": 0,
  "metadata": {
    "colab": {
      "provenance": [],
      "authorship_tag": "ABX9TyMjYLakXl1vkfijNOdL+CIp",
      "include_colab_link": true
    },
    "kernelspec": {
      "name": "python3",
      "display_name": "Python 3"
    },
    "language_info": {
      "name": "python"
    }
  },
  "cells": [
    {
      "cell_type": "markdown",
      "metadata": {
        "id": "view-in-github",
        "colab_type": "text"
      },
      "source": [
        "<a href=\"https://colab.research.google.com/github/ucheokechukwu/tensorflow-deep-learning/blob/main/01_neutral_network_regression.ipynb\" target=\"_parent\"><img src=\"https://colab.research.google.com/assets/colab-badge.svg\" alt=\"Open In Colab\"/></a>"
      ]
    },
    {
      "cell_type": "markdown",
      "source": [
        "# Introduction to Regression with Neural Networks in TensorFlow\n",
        "\n",
        "There are many definitions for a regression problem but in our case, we're simplying it to: **predicting a numetrical variable** based on some other combination of variables... predicting a number."
      ],
      "metadata": {
        "id": "FupcKHK19M3T"
      }
    },
    {
      "cell_type": "code",
      "source": [
        "# Import TensorFlow\n",
        "\n",
        "import tensorflow as tf\n",
        "print(tf.__version__)"
      ],
      "metadata": {
        "colab": {
          "base_uri": "https://localhost:8080/"
        },
        "id": "0miaULJ_9yCv",
        "outputId": "c935ea7c-d0f5-45e0-e7b9-b559d4e1edbd"
      },
      "execution_count": 1,
      "outputs": [
        {
          "output_type": "stream",
          "name": "stdout",
          "text": [
            "2.11.0\n"
          ]
        }
      ]
    },
    {
      "cell_type": "code",
      "source": [
        "import numpy as np\n",
        "import matplotlib.pyplot as plt\n",
        "\n",
        "# Create features\n",
        "X = np.array ([-7.0, -4.0, -1.0, 2.0, 5.0, 8.0, 11.0, 14.0])\n",
        "\n",
        "# Create labels\n",
        "y = np.array([3.0, 6.0, 9.0, 12.0, 15.0, 18.0, 21.0, 24.0])\n",
        "\n",
        "#Visualize it\n",
        "\n",
        "plt.scatter(X,y);"
      ],
      "metadata": {
        "colab": {
          "base_uri": "https://localhost:8080/",
          "height": 269
        },
        "id": "nqVydFQN96e4",
        "outputId": "bc38027a-8fa4-4487-efe1-09d0781b2bdc"
      },
      "execution_count": 2,
      "outputs": [
        {
          "output_type": "display_data",
          "data": {
            "text/plain": [
              "<Figure size 432x288 with 1 Axes>"
            ],
            "image/png": "[encoded data removed]"
          },
          "metadata": {
            "needs_background": "light"
          }
        }
      ]
    },
    {
      "cell_type": "code",
      "source": [
        "y == X+10"
      ],
      "metadata": {
        "colab": {
          "base_uri": "https://localhost:8080/"
        },
        "id": "i_LhEzHA-Tak",
        "outputId": "ae32b038-206e-479d-d6b9-1b3b8d5118e6"
      },
      "execution_count": 3,
      "outputs": [
        {
          "output_type": "execute_result",
          "data": {
            "text/plain": [
              "array([ True,  True,  True,  True,  True,  True,  True,  True])"
            ]
          },
          "metadata": {},
          "execution_count": 3
        }
      ]
    },
    {
      "cell_type": "markdown",
      "source": [
        "## Input and output shapes"
      ],
      "metadata": {
        "id": "k5MJzcjF-f-T"
      }
    },
    {
      "cell_type": "code",
      "source": [
        "# Create a demo Tensor for our housing price prediction problem\n",
        "house_info = tf.constant ([\"bedroom\", \"bathroom\", \"garage\"])\n",
        "house_price = tf.constant([939700])\n",
        "house_info, house_price"
      ],
      "metadata": {
        "colab": {
          "base_uri": "https://localhost:8080/"
        },
        "id": "ShBlFnIX-mT9",
        "outputId": "e87545c7-617d-46ce-c52d-879f040bd485"
      },
      "execution_count": 4,
      "outputs": [
        {
          "output_type": "execute_result",
          "data": {
            "text/plain": [
              "(<tf.Tensor: shape=(3,), dtype=string, numpy=array([b'bedroom', b'bathroom', b'garage'], dtype=object)>,\n",
              " <tf.Tensor: shape=(1,), dtype=int32, numpy=array([939700], dtype=int32)>)"
            ]
          },
          "metadata": {},
          "execution_count": 4
        }
      ]
    },
    {
      "cell_type": "code",
      "source": [
        "X = tf.cast(X, dtype=tf.float32)\n",
        "y = tf.cast(y, dtype=tf.float32)\n",
        "X, y"
      ],
      "metadata": {
        "colab": {
          "base_uri": "https://localhost:8080/"
        },
        "id": "h9jmhA_j-_Xo",
        "outputId": "973fd419-92d5-4750-9555-68bd2fcda56f"
      },
      "execution_count": 5,
      "outputs": [
        {
          "output_type": "execute_result",
          "data": {
            "text/plain": [
              "(<tf.Tensor: shape=(8,), dtype=float32, numpy=array([-7., -4., -1.,  2.,  5.,  8., 11., 14.], dtype=float32)>,\n",
              " <tf.Tensor: shape=(8,), dtype=float32, numpy=array([ 3.,  6.,  9., 12., 15., 18., 21., 24.], dtype=float32)>)"
            ]
          },
          "metadata": {},
          "execution_count": 5
        }
      ]
    },
    {
      "cell_type": "code",
      "source": [
        "X[0].shape, y[0].shape"
      ],
      "metadata": {
        "colab": {
          "base_uri": "https://localhost:8080/"
        },
        "id": "u31MUAT4C5KG",
        "outputId": "660e778f-0752-452c-fad3-db74b925e816"
      },
      "execution_count": 6,
      "outputs": [
        {
          "output_type": "execute_result",
          "data": {
            "text/plain": [
              "(TensorShape([]), TensorShape([]))"
            ]
          },
          "metadata": {},
          "execution_count": 6
        }
      ]
    },
    {
      "cell_type": "markdown",
      "source": [
        "## Steps in modelling with TensorFlow\n",
        "\n",
        "1. Creating a model - define the input and output layers, as well as the hidden layers of a deep learning model.\n",
        "2. Compiling a model - define:\n",
        "  * the loss function (that calculates how wrong our model is) and \n",
        "  * the optimizer (that tells the model how to improve the patterns its learning) and \n",
        "  * evaluation metrics (what we can use to rate the performance of the model)\n",
        "\n",
        "3. Fitting a model - letting the model try to find patterns between X and y."
      ],
      "metadata": {
        "id": "_TQtGjqeC8gZ"
      }
    },
    {
      "cell_type": "code",
      "source": [
        "# Set random seed to have reproducible data\n",
        "tf.random.set_seed(42)"
      ],
      "metadata": {
        "id": "weB-zqJ8E_as"
      },
      "execution_count": 7,
      "outputs": []
    },
    {
      "cell_type": "code",
      "source": [
        "# 1. Create a model using the Sequential API\n",
        "\n",
        "model = tf.keras.Sequential ([\n",
        "    tf.keras.layers.Dense(1)])\n",
        "\n",
        "# 2. Compile the model\n",
        "model.compile(loss=tf.keras.losses.mae,\n",
        "              optimizer=tf.keras.optimizers.SGD(), # sgd is stochastic gradient descent or optimzer = \"sgd\"\n",
        "              metrics=[\"mae\"]\n",
        "              ) \n",
        "\n",
        "# 3. Fit the model\n",
        "model.fit(tf.expand_dims(X, axis=-1),y,epochs=5) # Epochs is the number of attempts to fit the model"
      ],
      "metadata": {
        "colab": {
          "base_uri": "https://localhost:8080/"
        },
        "id": "kV3vSEHrNh-j",
        "outputId": "8f4d6be9-23a4-4c5a-da3d-d174be741a5c"
      },
      "execution_count": 8,
      "outputs": [
        {
          "output_type": "stream",
          "name": "stdout",
          "text": [
            "Epoch 1/5\n",
            "1/1 [==============================] - 2s 2s/step - loss: 14.6348 - mae: 14.6348\n",
            "Epoch 2/5\n",
            "1/1 [==============================] - 0s 23ms/step - loss: 14.5023 - mae: 14.5023\n",
            "Epoch 3/5\n",
            "1/1 [==============================] - 0s 17ms/step - loss: 14.3698 - mae: 14.3698\n",
            "Epoch 4/5\n",
            "1/1 [==============================] - 0s 35ms/step - loss: 14.2373 - mae: 14.2373\n",
            "Epoch 5/5\n",
            "1/1 [==============================] - 0s 24ms/step - loss: 14.1048 - mae: 14.1048\n"
          ]
        },
        {
          "output_type": "execute_result",
          "data": {
            "text/plain": [
              "<keras.callbacks.History at 0x7f98e17024c0>"
            ]
          },
          "metadata": {},
          "execution_count": 8
        }
      ]
    },
    {
      "cell_type": "code",
      "source": [],
      "metadata": {
        "id": "_fwCM4wqPJjh"
      },
      "execution_count": 8,
      "outputs": []
    },
    {
      "cell_type": "code",
      "source": [
        "model.predict([17.0])"
      ],
      "metadata": {
        "colab": {
          "base_uri": "https://localhost:8080/"
        },
        "id": "jKJbHNWYSOpB",
        "outputId": "85491769-8442-4387-bca8-3727df9c65ac"
      },
      "execution_count": 9,
      "outputs": [
        {
          "output_type": "stream",
          "name": "stdout",
          "text": [
            "1/1 [==============================] - 0s 435ms/step\n"
          ]
        },
        {
          "output_type": "execute_result",
          "data": {
            "text/plain": [
              "array([[-2.4870453]], dtype=float32)"
            ]
          },
          "metadata": {},
          "execution_count": 9
        }
      ]
    },
    {
      "cell_type": "code",
      "source": [
        "# Check out X and y\n",
        "plt.scatter(X,y)\n",
        "plt.scatter(17,27.3)"
      ],
      "metadata": {
        "colab": {
          "base_uri": "https://localhost:8080/",
          "height": 283
        },
        "id": "0nZKCkCpTwIj",
        "outputId": "5eb0c094-a483-4d4f-da1a-02327a720263"
      },
      "execution_count": 10,
      "outputs": [
        {
          "output_type": "execute_result",
          "data": {
            "text/plain": [
              "<matplotlib.collections.PathCollection at 0x7f985224bb50>"
            ]
          },
          "metadata": {},
          "execution_count": 10
        },
        {
          "output_type": "display_data",
          "data": {
            "text/plain": [
              "<Figure size 432x288 with 1 Axes>"
            ],
            "image/png": "[encoded data removed]"
          },
          "metadata": {
            "needs_background": "light"
          }
        }
      ]
    },
    {
      "cell_type": "markdown",
      "source": [
        "## How to improve our model\n",
        "\n",
        "We improve our model but adjusting the steps we took to make the model:\n",
        "\n",
        "* **Creating the model**: add more layers, increase the number of hidden units(neurons), change the activation functions.\n",
        "* **Compiling the model**: change the optimization function, change the learning rate.\n",
        "* **Fitting the model**: Increase the length of training (more epochs) or get more data"
      ],
      "metadata": {
        "id": "sIn0zbCwT1IO"
      }
    },
    {
      "cell_type": "code",
      "source": [],
      "metadata": {
        "id": "XsS_gZPIbJGW"
      },
      "execution_count": 10,
      "outputs": []
    },
    {
      "cell_type": "code",
      "source": [
        "# Rebuilding the model"
      ],
      "metadata": {
        "id": "GzxVoYijbJs_"
      },
      "execution_count": 11,
      "outputs": []
    },
    {
      "cell_type": "code",
      "source": [
        "# 1. Create the model\n",
        "model = tf.keras.Sequential ([\n",
        "    tf.keras.layers.Dense(1)])\n",
        "\n",
        "# 2. Compile the model\n",
        "model.compile (loss=tf.keras.losses.mae,\n",
        "               optimizer=tf.keras.optimizers.SGD(),\n",
        "               metrics=[\"mae\"])\n",
        "\n",
        "# 3. Build the model\n",
        "model.fit(tf.expand_dims(X, axis=-1),y,epochs=100)"
      ],
      "metadata": {
        "colab": {
          "base_uri": "https://localhost:8080/"
        },
        "id": "fa_VWKZ-bqx3",
        "outputId": "46c13557-1b62-4ed7-dc3e-83be8068ddd0"
      },
      "execution_count": 12,
      "outputs": [
        {
          "output_type": "stream",
          "name": "stdout",
          "text": [
            "Epoch 1/100\n",
            "1/1 [==============================] - 1s 1s/step - loss: 19.1069 - mae: 19.1069\n",
            "Epoch 2/100\n",
            "1/1 [==============================] - 0s 28ms/step - loss: 18.8257 - mae: 18.8257\n",
            "Epoch 3/100\n",
            "1/1 [==============================] - 0s 49ms/step - loss: 18.5444 - mae: 18.5444\n",
            "Epoch 4/100\n",
            "1/1 [==============================] - 0s 26ms/step - loss: 18.2632 - mae: 18.2632\n",
            "Epoch 5/100\n",
            "1/1 [==============================] - 0s 23ms/step - loss: 17.9819 - mae: 17.9819\n",
            "Epoch 6/100\n",
            "1/1 [==============================] - 0s 22ms/step - loss: 17.7007 - mae: 17.7007\n",
            "Epoch 7/100\n",
            "1/1 [==============================] - 0s 24ms/step - loss: 17.4194 - mae: 17.4194\n",
            "Epoch 8/100\n",
            "1/1 [==============================] - 0s 35ms/step - loss: 17.1382 - mae: 17.1382\n",
            "Epoch 9/100\n",
            "1/1 [==============================] - 0s 45ms/step - loss: 16.8569 - mae: 16.8569\n",
            "Epoch 10/100\n",
            "1/1 [==============================] - 0s 21ms/step - loss: 16.5757 - mae: 16.5757\n",
            "Epoch 11/100\n",
            "1/1 [==============================] - 0s 45ms/step - loss: 16.2944 - mae: 16.2944\n",
            "Epoch 12/100\n",
            "1/1 [==============================] - 0s 25ms/step - loss: 16.0132 - mae: 16.0132\n",
            "Epoch 13/100\n",
            "1/1 [==============================] - 0s 23ms/step - loss: 15.7319 - mae: 15.7319\n",
            "Epoch 14/100\n",
            "1/1 [==============================] - 0s 24ms/step - loss: 15.4507 - mae: 15.4507\n",
            "Epoch 15/100\n",
            "1/1 [==============================] - 0s 18ms/step - loss: 15.1694 - mae: 15.1694\n",
            "Epoch 16/100\n",
            "1/1 [==============================] - 0s 30ms/step - loss: 14.8882 - mae: 14.8882\n",
            "Epoch 17/100\n",
            "1/1 [==============================] - 0s 25ms/step - loss: 14.6779 - mae: 14.6779\n",
            "Epoch 18/100\n",
            "1/1 [==============================] - 0s 22ms/step - loss: 14.5454 - mae: 14.5454\n",
            "Epoch 19/100\n",
            "1/1 [==============================] - 0s 34ms/step - loss: 14.4129 - mae: 14.4129\n",
            "Epoch 20/100\n",
            "1/1 [==============================] - 0s 31ms/step - loss: 14.2804 - mae: 14.2804\n",
            "Epoch 21/100\n",
            "1/1 [==============================] - 0s 19ms/step - loss: 14.1479 - mae: 14.1479\n",
            "Epoch 22/100\n",
            "1/1 [==============================] - 0s 15ms/step - loss: 14.0154 - mae: 14.0154\n",
            "Epoch 23/100\n",
            "1/1 [==============================] - 0s 15ms/step - loss: 13.8829 - mae: 13.8829\n",
            "Epoch 24/100\n",
            "1/1 [==============================] - 0s 43ms/step - loss: 13.7504 - mae: 13.7504\n",
            "Epoch 25/100\n",
            "1/1 [==============================] - 0s 65ms/step - loss: 13.6179 - mae: 13.6179\n",
            "Epoch 26/100\n",
            "1/1 [==============================] - 0s 59ms/step - loss: 13.4854 - mae: 13.4854\n",
            "Epoch 27/100\n",
            "1/1 [==============================] - 0s 36ms/step - loss: 13.3529 - mae: 13.3529\n",
            "Epoch 28/100\n",
            "1/1 [==============================] - 0s 29ms/step - loss: 13.2204 - mae: 13.2204\n",
            "Epoch 29/100\n",
            "1/1 [==============================] - 0s 49ms/step - loss: 13.0879 - mae: 13.0879\n",
            "Epoch 30/100\n",
            "1/1 [==============================] - 0s 46ms/step - loss: 12.9554 - mae: 12.9554\n",
            "Epoch 31/100\n",
            "1/1 [==============================] - 0s 36ms/step - loss: 12.8229 - mae: 12.8229\n",
            "Epoch 32/100\n",
            "1/1 [==============================] - 0s 118ms/step - loss: 12.6904 - mae: 12.6904\n",
            "Epoch 33/100\n",
            "1/1 [==============================] - 0s 21ms/step - loss: 12.5579 - mae: 12.5579\n",
            "Epoch 34/100\n",
            "1/1 [==============================] - 0s 38ms/step - loss: 12.4254 - mae: 12.4254\n",
            "Epoch 35/100\n",
            "1/1 [==============================] - 0s 32ms/step - loss: 12.2929 - mae: 12.2929\n",
            "Epoch 36/100\n",
            "1/1 [==============================] - 0s 18ms/step - loss: 12.1604 - mae: 12.1604\n",
            "Epoch 37/100\n",
            "1/1 [==============================] - 0s 40ms/step - loss: 12.0279 - mae: 12.0279\n",
            "Epoch 38/100\n",
            "1/1 [==============================] - 0s 20ms/step - loss: 11.8954 - mae: 11.8954\n",
            "Epoch 39/100\n",
            "1/1 [==============================] - 0s 25ms/step - loss: 11.7629 - mae: 11.7629\n",
            "Epoch 40/100\n",
            "1/1 [==============================] - 0s 57ms/step - loss: 11.6304 - mae: 11.6304\n",
            "Epoch 41/100\n",
            "1/1 [==============================] - 0s 17ms/step - loss: 11.4979 - mae: 11.4979\n",
            "Epoch 42/100\n",
            "1/1 [==============================] - 0s 29ms/step - loss: 11.3654 - mae: 11.3654\n",
            "Epoch 43/100\n",
            "1/1 [==============================] - 0s 24ms/step - loss: 11.2329 - mae: 11.2329\n",
            "Epoch 44/100\n",
            "1/1 [==============================] - 0s 29ms/step - loss: 11.1004 - mae: 11.1004\n",
            "Epoch 45/100\n",
            "1/1 [==============================] - 0s 68ms/step - loss: 10.9679 - mae: 10.9679\n",
            "Epoch 46/100\n",
            "1/1 [==============================] - 0s 102ms/step - loss: 10.8354 - mae: 10.8354\n",
            "Epoch 47/100\n",
            "1/1 [==============================] - 0s 78ms/step - loss: 10.7029 - mae: 10.7029\n",
            "Epoch 48/100\n",
            "1/1 [==============================] - 0s 57ms/step - loss: 10.5704 - mae: 10.5704\n",
            "Epoch 49/100\n",
            "1/1 [==============================] - 0s 39ms/step - loss: 10.4379 - mae: 10.4379\n",
            "Epoch 50/100\n",
            "1/1 [==============================] - 0s 30ms/step - loss: 10.3054 - mae: 10.3054\n",
            "Epoch 51/100\n",
            "1/1 [==============================] - 0s 27ms/step - loss: 10.1729 - mae: 10.1729\n",
            "Epoch 52/100\n",
            "1/1 [==============================] - 0s 27ms/step - loss: 10.0404 - mae: 10.0404\n",
            "Epoch 53/100\n",
            "1/1 [==============================] - 0s 19ms/step - loss: 9.9079 - mae: 9.9079\n",
            "Epoch 54/100\n",
            "1/1 [==============================] - 0s 23ms/step - loss: 9.7754 - mae: 9.7754\n",
            "Epoch 55/100\n",
            "1/1 [==============================] - 0s 26ms/step - loss: 9.6429 - mae: 9.6429\n",
            "Epoch 56/100\n",
            "1/1 [==============================] - 0s 26ms/step - loss: 9.5104 - mae: 9.5104\n",
            "Epoch 57/100\n",
            "1/1 [==============================] - 0s 19ms/step - loss: 9.3779 - mae: 9.3779\n",
            "Epoch 58/100\n",
            "1/1 [==============================] - 0s 25ms/step - loss: 9.2454 - mae: 9.2454\n",
            "Epoch 59/100\n",
            "1/1 [==============================] - 0s 50ms/step - loss: 9.1129 - mae: 9.1129\n",
            "Epoch 60/100\n",
            "1/1 [==============================] - 0s 39ms/step - loss: 8.9804 - mae: 8.9804\n",
            "Epoch 61/100\n",
            "1/1 [==============================] - 0s 14ms/step - loss: 8.8479 - mae: 8.8479\n",
            "Epoch 62/100\n",
            "1/1 [==============================] - 0s 17ms/step - loss: 8.7154 - mae: 8.7154\n",
            "Epoch 63/100\n",
            "1/1 [==============================] - 0s 40ms/step - loss: 8.5829 - mae: 8.5829\n",
            "Epoch 64/100\n",
            "1/1 [==============================] - 0s 39ms/step - loss: 8.4504 - mae: 8.4504\n",
            "Epoch 65/100\n",
            "1/1 [==============================] - 0s 24ms/step - loss: 8.3179 - mae: 8.3179\n",
            "Epoch 66/100\n",
            "1/1 [==============================] - 0s 21ms/step - loss: 8.1854 - mae: 8.1854\n",
            "Epoch 67/100\n",
            "1/1 [==============================] - 0s 25ms/step - loss: 8.0529 - mae: 8.0529\n",
            "Epoch 68/100\n",
            "1/1 [==============================] - 0s 19ms/step - loss: 7.9204 - mae: 7.9204\n",
            "Epoch 69/100\n",
            "1/1 [==============================] - 0s 22ms/step - loss: 7.7879 - mae: 7.7879\n",
            "Epoch 70/100\n",
            "1/1 [==============================] - 0s 27ms/step - loss: 7.6554 - mae: 7.6554\n",
            "Epoch 71/100\n",
            "1/1 [==============================] - 0s 19ms/step - loss: 7.5229 - mae: 7.5229\n",
            "Epoch 72/100\n",
            "1/1 [==============================] - 0s 44ms/step - loss: 7.3904 - mae: 7.3904\n",
            "Epoch 73/100\n",
            "1/1 [==============================] - 0s 24ms/step - loss: 7.2579 - mae: 7.2579\n",
            "Epoch 74/100\n",
            "1/1 [==============================] - 0s 26ms/step - loss: 7.1254 - mae: 7.1254\n",
            "Epoch 75/100\n",
            "1/1 [==============================] - 0s 30ms/step - loss: 6.9929 - mae: 6.9929\n",
            "Epoch 76/100\n",
            "1/1 [==============================] - 0s 22ms/step - loss: 6.9675 - mae: 6.9675\n",
            "Epoch 77/100\n",
            "1/1 [==============================] - 0s 22ms/step - loss: 6.9619 - mae: 6.9619\n",
            "Epoch 78/100\n",
            "1/1 [==============================] - 0s 31ms/step - loss: 6.9563 - mae: 6.9563\n",
            "Epoch 79/100\n",
            "1/1 [==============================] - 0s 68ms/step - loss: 6.9506 - mae: 6.9506\n",
            "Epoch 80/100\n",
            "1/1 [==============================] - 0s 66ms/step - loss: 6.9450 - mae: 6.9450\n",
            "Epoch 81/100\n",
            "1/1 [==============================] - 0s 40ms/step - loss: 6.9394 - mae: 6.9394\n",
            "Epoch 82/100\n",
            "1/1 [==============================] - 0s 24ms/step - loss: 6.9338 - mae: 6.9338\n",
            "Epoch 83/100\n",
            "1/1 [==============================] - 0s 19ms/step - loss: 6.9281 - mae: 6.9281\n",
            "Epoch 84/100\n",
            "1/1 [==============================] - 0s 47ms/step - loss: 6.9225 - mae: 6.9225\n",
            "Epoch 85/100\n",
            "1/1 [==============================] - 0s 35ms/step - loss: 6.9169 - mae: 6.9169\n",
            "Epoch 86/100\n",
            "1/1 [==============================] - 0s 35ms/step - loss: 6.9113 - mae: 6.9113\n",
            "Epoch 87/100\n",
            "1/1 [==============================] - 0s 50ms/step - loss: 6.9056 - mae: 6.9056\n",
            "Epoch 88/100\n",
            "1/1 [==============================] - 0s 32ms/step - loss: 6.9000 - mae: 6.9000\n",
            "Epoch 89/100\n",
            "1/1 [==============================] - 0s 34ms/step - loss: 6.8944 - mae: 6.8944\n",
            "Epoch 90/100\n",
            "1/1 [==============================] - 0s 87ms/step - loss: 6.8888 - mae: 6.8888\n",
            "Epoch 91/100\n",
            "1/1 [==============================] - 0s 33ms/step - loss: 6.8831 - mae: 6.8831\n",
            "Epoch 92/100\n",
            "1/1 [==============================] - 0s 43ms/step - loss: 6.8775 - mae: 6.8775\n",
            "Epoch 93/100\n",
            "1/1 [==============================] - 0s 24ms/step - loss: 6.8719 - mae: 6.8719\n",
            "Epoch 94/100\n",
            "1/1 [==============================] - 0s 34ms/step - loss: 6.8663 - mae: 6.8663\n",
            "Epoch 95/100\n",
            "1/1 [==============================] - 0s 34ms/step - loss: 6.8606 - mae: 6.8606\n",
            "Epoch 96/100\n",
            "1/1 [==============================] - 0s 26ms/step - loss: 6.8550 - mae: 6.8550\n",
            "Epoch 97/100\n",
            "1/1 [==============================] - 0s 44ms/step - loss: 6.8494 - mae: 6.8494\n",
            "Epoch 98/100\n",
            "1/1 [==============================] - 0s 35ms/step - loss: 6.8438 - mae: 6.8438\n",
            "Epoch 99/100\n",
            "1/1 [==============================] - 0s 43ms/step - loss: 6.8381 - mae: 6.8381\n",
            "Epoch 100/100\n",
            "1/1 [==============================] - 0s 35ms/step - loss: 6.8325 - mae: 6.8325\n"
          ]
        },
        {
          "output_type": "execute_result",
          "data": {
            "text/plain": [
              "<keras.callbacks.History at 0x7f9856c883a0>"
            ]
          },
          "metadata": {},
          "execution_count": 12
        }
      ]
    },
    {
      "cell_type": "code",
      "source": [
        "model.predict([17.0])"
      ],
      "metadata": {
        "colab": {
          "base_uri": "https://localhost:8080/"
        },
        "id": "T9hfGb4VcIVH",
        "outputId": "3af18828-359e-4813-f471-898b4a998377"
      },
      "execution_count": 13,
      "outputs": [
        {
          "output_type": "stream",
          "name": "stdout",
          "text": [
            "1/1 [==============================] - 0s 312ms/step\n"
          ]
        },
        {
          "output_type": "execute_result",
          "data": {
            "text/plain": [
              "array([[29.698225]], dtype=float32)"
            ]
          },
          "metadata": {},
          "execution_count": 13
        }
      ]
    },
    {
      "cell_type": "markdown",
      "source": [
        "This test run predicted **29.686462**"
      ],
      "metadata": {
        "id": "mAZ7nIUJergF"
      }
    },
    {
      "cell_type": "code",
      "source": [
        "plt.scatter(X,y)"
      ],
      "metadata": {
        "colab": {
          "base_uri": "https://localhost:8080/",
          "height": 287
        },
        "id": "WEVhmQTQcjqe",
        "outputId": "b758f957-a958-46b0-fa9a-0edc7130c815"
      },
      "execution_count": 14,
      "outputs": [
        {
          "output_type": "execute_result",
          "data": {
            "text/plain": [
              "<matplotlib.collections.PathCollection at 0x7f9852166af0>"
            ]
          },
          "metadata": {},
          "execution_count": 14
        },
        {
          "output_type": "display_data",
          "data": {
            "text/plain": [
              "<Figure size 432x288 with 1 Axes>"
            ],
            "image/png": "[encoded data removed]"
          },
          "metadata": {
            "needs_background": "light"
          }
        }
      ]
    },
    {
      "cell_type": "code",
      "source": [
        "plt.scatter(17, model.predict([17.0]), c=\"red\");\n",
        "plt.scatter(X,y);"
      ],
      "metadata": {
        "colab": {
          "base_uri": "https://localhost:8080/",
          "height": 283
        },
        "id": "7u5DUavicl9I",
        "outputId": "c442281c-7b4a-40e4-a46d-d355561650de"
      },
      "execution_count": 15,
      "outputs": [
        {
          "output_type": "stream",
          "name": "stdout",
          "text": [
            "1/1 [==============================] - 0s 164ms/step\n"
          ]
        },
        {
          "output_type": "display_data",
          "data": {
            "text/plain": [
              "<Figure size 432x288 with 1 Axes>"
            ],
            "image/png": "[encoded data removed]"
          },
          "metadata": {
            "needs_background": "light"
          }
        }
      ]
    },
    {
      "cell_type": "code",
      "source": [
        "# 2nd change. I want to add an extra layer.\n"
      ],
      "metadata": {
        "id": "O-3sBZnGcrrs"
      },
      "execution_count": 16,
      "outputs": []
    },
    {
      "cell_type": "code",
      "source": [
        "from keras.optimizers.optimizer_v2.gradient_descent import SGD\n",
        "# 1. Create the model\n",
        "model = tf.keras.Sequential([\n",
        "    tf.keras.layers.Dense(100, activation=\"relu\"),\n",
        "    tf.keras.layers.Dense(1)\n",
        "    ])\n",
        "\n",
        "# 2. Compile the model\n",
        "model.compile(loss=tf.keras.losses.mae,\n",
        "               optimizer=tf.keras.optimizers.Adam(lr=0.01),\n",
        "               metrics=[\"mae\"])\n",
        "\n",
        "# 3. Build the model\n",
        "model.fit(tf.expand_dims(X, axis=-1),y, epochs=100)"
      ],
      "metadata": {
        "colab": {
          "base_uri": "https://localhost:8080/"
        },
        "id": "lEpyEm-fdLQj",
        "outputId": "09f35289-9ebe-4d37-d119-05936dd66719"
      },
      "execution_count": 17,
      "outputs": [
        {
          "output_type": "stream",
          "name": "stderr",
          "text": [
            "WARNING:absl:`lr` is deprecated, please use `learning_rate` instead, or use the legacy optimizer, e.g.,tf.keras.optimizers.legacy.Adam.\n"
          ]
        },
        {
          "output_type": "stream",
          "name": "stdout",
          "text": [
            "Epoch 1/100\n",
            "1/1 [==============================] - 3s 3s/step - loss: 13.3813 - mae: 13.3813\n",
            "Epoch 2/100\n",
            "1/1 [==============================] - 0s 18ms/step - loss: 13.2937 - mae: 13.2937\n",
            "Epoch 3/100\n",
            "1/1 [==============================] - 0s 13ms/step - loss: 13.2056 - mae: 13.2056\n",
            "Epoch 4/100\n",
            "1/1 [==============================] - 0s 27ms/step - loss: 13.1181 - mae: 13.1181\n",
            "Epoch 5/100\n",
            "1/1 [==============================] - 0s 26ms/step - loss: 13.0310 - mae: 13.0310\n",
            "Epoch 6/100\n",
            "1/1 [==============================] - 0s 28ms/step - loss: 12.9445 - mae: 12.9445\n",
            "Epoch 7/100\n",
            "1/1 [==============================] - 0s 26ms/step - loss: 12.8578 - mae: 12.8578\n",
            "Epoch 8/100\n",
            "1/1 [==============================] - 0s 20ms/step - loss: 12.7708 - mae: 12.7708\n",
            "Epoch 9/100\n",
            "1/1 [==============================] - 0s 25ms/step - loss: 12.6842 - mae: 12.6842\n",
            "Epoch 10/100\n",
            "1/1 [==============================] - 0s 25ms/step - loss: 12.5977 - mae: 12.5977\n",
            "Epoch 11/100\n",
            "1/1 [==============================] - 0s 24ms/step - loss: 12.5113 - mae: 12.5113\n",
            "Epoch 12/100\n",
            "1/1 [==============================] - 0s 20ms/step - loss: 12.4250 - mae: 12.4250\n",
            "Epoch 13/100\n",
            "1/1 [==============================] - 0s 25ms/step - loss: 12.3388 - mae: 12.3388\n",
            "Epoch 14/100\n",
            "1/1 [==============================] - 0s 44ms/step - loss: 12.2527 - mae: 12.2527\n",
            "Epoch 15/100\n",
            "1/1 [==============================] - 0s 28ms/step - loss: 12.1666 - mae: 12.1666\n",
            "Epoch 16/100\n",
            "1/1 [==============================] - 0s 27ms/step - loss: 12.0807 - mae: 12.0807\n",
            "Epoch 17/100\n",
            "1/1 [==============================] - 0s 42ms/step - loss: 11.9949 - mae: 11.9949\n",
            "Epoch 18/100\n",
            "1/1 [==============================] - 0s 29ms/step - loss: 11.9094 - mae: 11.9094\n",
            "Epoch 19/100\n",
            "1/1 [==============================] - 0s 28ms/step - loss: 11.8239 - mae: 11.8239\n",
            "Epoch 20/100\n",
            "1/1 [==============================] - 0s 27ms/step - loss: 11.7384 - mae: 11.7384\n",
            "Epoch 21/100\n",
            "1/1 [==============================] - 0s 53ms/step - loss: 11.6530 - mae: 11.6530\n",
            "Epoch 22/100\n",
            "1/1 [==============================] - 0s 41ms/step - loss: 11.5853 - mae: 11.5853\n",
            "Epoch 23/100\n",
            "1/1 [==============================] - 0s 30ms/step - loss: 11.5245 - mae: 11.5245\n",
            "Epoch 24/100\n",
            "1/1 [==============================] - 0s 22ms/step - loss: 11.4635 - mae: 11.4635\n",
            "Epoch 25/100\n",
            "1/1 [==============================] - 0s 69ms/step - loss: 11.4023 - mae: 11.4023\n",
            "Epoch 26/100\n",
            "1/1 [==============================] - 0s 39ms/step - loss: 11.3410 - mae: 11.3410\n",
            "Epoch 27/100\n",
            "1/1 [==============================] - 0s 42ms/step - loss: 11.2796 - mae: 11.2796\n",
            "Epoch 28/100\n",
            "1/1 [==============================] - 0s 31ms/step - loss: 11.2181 - mae: 11.2181\n",
            "Epoch 29/100\n",
            "1/1 [==============================] - 0s 22ms/step - loss: 11.1566 - mae: 11.1566\n",
            "Epoch 30/100\n",
            "1/1 [==============================] - 0s 27ms/step - loss: 11.0953 - mae: 11.0953\n",
            "Epoch 31/100\n",
            "1/1 [==============================] - 0s 35ms/step - loss: 11.0342 - mae: 11.0342\n",
            "Epoch 32/100\n",
            "1/1 [==============================] - 0s 17ms/step - loss: 10.9734 - mae: 10.9734\n",
            "Epoch 33/100\n",
            "1/1 [==============================] - 0s 20ms/step - loss: 10.9127 - mae: 10.9127\n",
            "Epoch 34/100\n",
            "1/1 [==============================] - 0s 27ms/step - loss: 10.8524 - mae: 10.8524\n",
            "Epoch 35/100\n",
            "1/1 [==============================] - 0s 40ms/step - loss: 10.7920 - mae: 10.7920\n",
            "Epoch 36/100\n",
            "1/1 [==============================] - 0s 37ms/step - loss: 10.7315 - mae: 10.7315\n",
            "Epoch 37/100\n",
            "1/1 [==============================] - 0s 41ms/step - loss: 10.6708 - mae: 10.6708\n",
            "Epoch 38/100\n",
            "1/1 [==============================] - 0s 35ms/step - loss: 10.6100 - mae: 10.6100\n",
            "Epoch 39/100\n",
            "1/1 [==============================] - 0s 25ms/step - loss: 10.5491 - mae: 10.5491\n",
            "Epoch 40/100\n",
            "1/1 [==============================] - 0s 53ms/step - loss: 10.4880 - mae: 10.4880\n",
            "Epoch 41/100\n",
            "1/1 [==============================] - 0s 65ms/step - loss: 10.4270 - mae: 10.4270\n",
            "Epoch 42/100\n",
            "1/1 [==============================] - 0s 27ms/step - loss: 10.3659 - mae: 10.3659\n",
            "Epoch 43/100\n",
            "1/1 [==============================] - 0s 22ms/step - loss: 10.3051 - mae: 10.3051\n",
            "Epoch 44/100\n",
            "1/1 [==============================] - 0s 27ms/step - loss: 10.2441 - mae: 10.2441\n",
            "Epoch 45/100\n",
            "1/1 [==============================] - 0s 14ms/step - loss: 10.1830 - mae: 10.1830\n",
            "Epoch 46/100\n",
            "1/1 [==============================] - 0s 33ms/step - loss: 10.1216 - mae: 10.1216\n",
            "Epoch 47/100\n",
            "1/1 [==============================] - 0s 63ms/step - loss: 10.0601 - mae: 10.0601\n",
            "Epoch 48/100\n",
            "1/1 [==============================] - 0s 25ms/step - loss: 9.9984 - mae: 9.9984\n",
            "Epoch 49/100\n",
            "1/1 [==============================] - 0s 29ms/step - loss: 9.9365 - mae: 9.9365\n",
            "Epoch 50/100\n",
            "1/1 [==============================] - 0s 21ms/step - loss: 9.8744 - mae: 9.8744\n",
            "Epoch 51/100\n",
            "1/1 [==============================] - 0s 61ms/step - loss: 9.8122 - mae: 9.8122\n",
            "Epoch 52/100\n",
            "1/1 [==============================] - 0s 33ms/step - loss: 9.7498 - mae: 9.7498\n",
            "Epoch 53/100\n",
            "1/1 [==============================] - 0s 24ms/step - loss: 9.6873 - mae: 9.6873\n",
            "Epoch 54/100\n",
            "1/1 [==============================] - 0s 41ms/step - loss: 9.6245 - mae: 9.6245\n",
            "Epoch 55/100\n",
            "1/1 [==============================] - 0s 36ms/step - loss: 9.5615 - mae: 9.5615\n",
            "Epoch 56/100\n",
            "1/1 [==============================] - 0s 30ms/step - loss: 9.4982 - mae: 9.4982\n",
            "Epoch 57/100\n",
            "1/1 [==============================] - 0s 14ms/step - loss: 9.4347 - mae: 9.4347\n",
            "Epoch 58/100\n",
            "1/1 [==============================] - 0s 19ms/step - loss: 9.3710 - mae: 9.3710\n",
            "Epoch 59/100\n",
            "1/1 [==============================] - 0s 18ms/step - loss: 9.3070 - mae: 9.3070\n",
            "Epoch 60/100\n",
            "1/1 [==============================] - 0s 20ms/step - loss: 9.2428 - mae: 9.2428\n",
            "Epoch 61/100\n",
            "1/1 [==============================] - 0s 13ms/step - loss: 9.1784 - mae: 9.1784\n",
            "Epoch 62/100\n",
            "1/1 [==============================] - 0s 13ms/step - loss: 9.1138 - mae: 9.1138\n",
            "Epoch 63/100\n",
            "1/1 [==============================] - 0s 15ms/step - loss: 9.0490 - mae: 9.0490\n",
            "Epoch 64/100\n",
            "1/1 [==============================] - 0s 16ms/step - loss: 8.9840 - mae: 8.9840\n",
            "Epoch 65/100\n",
            "1/1 [==============================] - 0s 8ms/step - loss: 8.9188 - mae: 8.9188\n",
            "Epoch 66/100\n",
            "1/1 [==============================] - 0s 17ms/step - loss: 8.8532 - mae: 8.8532\n",
            "Epoch 67/100\n",
            "1/1 [==============================] - 0s 50ms/step - loss: 8.7873 - mae: 8.7873\n",
            "Epoch 68/100\n",
            "1/1 [==============================] - 0s 70ms/step - loss: 8.7210 - mae: 8.7210\n",
            "Epoch 69/100\n",
            "1/1 [==============================] - 0s 59ms/step - loss: 8.6544 - mae: 8.6544\n",
            "Epoch 70/100\n",
            "1/1 [==============================] - 0s 38ms/step - loss: 8.5874 - mae: 8.5874\n",
            "Epoch 71/100\n",
            "1/1 [==============================] - 0s 80ms/step - loss: 8.5201 - mae: 8.5201\n",
            "Epoch 72/100\n",
            "1/1 [==============================] - 0s 31ms/step - loss: 8.4524 - mae: 8.4524\n",
            "Epoch 73/100\n",
            "1/1 [==============================] - 0s 47ms/step - loss: 8.3843 - mae: 8.3843\n",
            "Epoch 74/100\n",
            "1/1 [==============================] - 0s 44ms/step - loss: 8.3159 - mae: 8.3159\n",
            "Epoch 75/100\n",
            "1/1 [==============================] - 0s 68ms/step - loss: 8.2470 - mae: 8.2470\n",
            "Epoch 76/100\n",
            "1/1 [==============================] - 0s 62ms/step - loss: 8.1777 - mae: 8.1777\n",
            "Epoch 77/100\n",
            "1/1 [==============================] - 0s 98ms/step - loss: 8.1081 - mae: 8.1081\n",
            "Epoch 78/100\n",
            "1/1 [==============================] - 0s 81ms/step - loss: 8.0380 - mae: 8.0380\n",
            "Epoch 79/100\n",
            "1/1 [==============================] - 0s 61ms/step - loss: 7.9676 - mae: 7.9676\n",
            "Epoch 80/100\n",
            "1/1 [==============================] - 0s 21ms/step - loss: 7.8967 - mae: 7.8967\n",
            "Epoch 81/100\n",
            "1/1 [==============================] - 0s 27ms/step - loss: 7.8254 - mae: 7.8254\n",
            "Epoch 82/100\n",
            "1/1 [==============================] - 0s 20ms/step - loss: 7.7548 - mae: 7.7548\n",
            "Epoch 83/100\n",
            "1/1 [==============================] - 0s 25ms/step - loss: 7.6840 - mae: 7.6840\n",
            "Epoch 84/100\n",
            "1/1 [==============================] - 0s 24ms/step - loss: 7.6111 - mae: 7.6111\n",
            "Epoch 85/100\n",
            "1/1 [==============================] - 0s 14ms/step - loss: 7.5394 - mae: 7.5394\n",
            "Epoch 86/100\n",
            "1/1 [==============================] - 0s 20ms/step - loss: 7.4672 - mae: 7.4672\n",
            "Epoch 87/100\n",
            "1/1 [==============================] - 0s 25ms/step - loss: 7.3945 - mae: 7.3945\n",
            "Epoch 88/100\n",
            "1/1 [==============================] - 0s 20ms/step - loss: 7.3213 - mae: 7.3213\n",
            "Epoch 89/100\n",
            "1/1 [==============================] - 0s 23ms/step - loss: 7.2475 - mae: 7.2475\n",
            "Epoch 90/100\n",
            "1/1 [==============================] - 0s 10ms/step - loss: 7.1732 - mae: 7.1732\n",
            "Epoch 91/100\n",
            "1/1 [==============================] - 0s 38ms/step - loss: 7.0983 - mae: 7.0983\n",
            "Epoch 92/100\n",
            "1/1 [==============================] - 0s 29ms/step - loss: 7.0229 - mae: 7.0229\n",
            "Epoch 93/100\n",
            "1/1 [==============================] - 0s 35ms/step - loss: 6.9470 - mae: 6.9470\n",
            "Epoch 94/100\n",
            "1/1 [==============================] - 0s 25ms/step - loss: 6.8705 - mae: 6.8705\n",
            "Epoch 95/100\n",
            "1/1 [==============================] - 0s 28ms/step - loss: 6.7952 - mae: 6.7952\n",
            "Epoch 96/100\n",
            "1/1 [==============================] - 0s 30ms/step - loss: 6.7166 - mae: 6.7166\n",
            "Epoch 97/100\n",
            "1/1 [==============================] - 0s 31ms/step - loss: 6.6392 - mae: 6.6392\n",
            "Epoch 98/100\n",
            "1/1 [==============================] - 0s 27ms/step - loss: 6.5611 - mae: 6.5611\n",
            "Epoch 99/100\n",
            "1/1 [==============================] - 0s 17ms/step - loss: 6.4825 - mae: 6.4825\n",
            "Epoch 100/100\n",
            "1/1 [==============================] - 0s 26ms/step - loss: 6.4033 - mae: 6.4033\n"
          ]
        },
        {
          "output_type": "execute_result",
          "data": {
            "text/plain": [
              "<keras.callbacks.History at 0x7f985208dc40>"
            ]
          },
          "metadata": {},
          "execution_count": 17
        }
      ]
    },
    {
      "cell_type": "code",
      "source": [
        "model.predict([17.0])"
      ],
      "metadata": {
        "colab": {
          "base_uri": "https://localhost:8080/"
        },
        "id": "znzO-Ssyeeah",
        "outputId": "5602fe38-1e8b-472e-aabe-245e9e50358c"
      },
      "execution_count": 18,
      "outputs": [
        {
          "output_type": "stream",
          "name": "stdout",
          "text": [
            "1/1 [==============================] - 0s 118ms/step\n"
          ]
        },
        {
          "output_type": "execute_result",
          "data": {
            "text/plain": [
              "array([[21.113413]], dtype=float32)"
            ]
          },
          "metadata": {},
          "execution_count": 18
        }
      ]
    },
    {
      "cell_type": "markdown",
      "source": [
        "This model predicted **32.888565**"
      ],
      "metadata": {
        "id": "5Z7j_UCGexQG"
      }
    },
    {
      "cell_type": "code",
      "source": [
        "plt.scatter(X,y);\n",
        "plt.scatter(17.0, model.predict([17.0]), c=\"red\");"
      ],
      "metadata": {
        "colab": {
          "base_uri": "https://localhost:8080/",
          "height": 287
        },
        "id": "i7MV4Llfefw6",
        "outputId": "a6a5afe7-7553-4956-dc19-73c85cd3ac15"
      },
      "execution_count": 19,
      "outputs": [
        {
          "output_type": "stream",
          "name": "stdout",
          "text": [
            "1/1 [==============================] - 0s 88ms/step\n"
          ]
        },
        {
          "output_type": "display_data",
          "data": {
            "text/plain": [
              "<Figure size 432x288 with 1 Axes>"
            ],
            "image/png": "[encoded data removed]"
          },
          "metadata": {
            "needs_background": "light"
          }
        }
      ]
    },
    {
      "cell_type": "markdown",
      "source": [
        "Observation: it looks like this second model is **overfitting**. "
      ],
      "metadata": {
        "id": "J7T7352Sem79"
      }
    },
    {
      "cell_type": "code",
      "source": [
        "model.predict([17.0])"
      ],
      "metadata": {
        "colab": {
          "base_uri": "https://localhost:8080/"
        },
        "id": "SH0JNb7ge9x3",
        "outputId": "1fd809c9-668b-4fdb-ec74-ecb08439078a"
      },
      "execution_count": 20,
      "outputs": [
        {
          "output_type": "stream",
          "name": "stdout",
          "text": [
            "1/1 [==============================] - 0s 97ms/step\n"
          ]
        },
        {
          "output_type": "execute_result",
          "data": {
            "text/plain": [
              "array([[21.113413]], dtype=float32)"
            ]
          },
          "metadata": {},
          "execution_count": 20
        }
      ]
    },
    {
      "cell_type": "code",
      "source": [
        "plt.scatter(X,y);\n",
        "plt.scatter(17,23.905289,c=\"red\")"
      ],
      "metadata": {
        "colab": {
          "base_uri": "https://localhost:8080/",
          "height": 287
        },
        "id": "-9DU4rbyf1d3",
        "outputId": "1b6f29f8-6cc8-488c-d437-901037f327e9"
      },
      "execution_count": 21,
      "outputs": [
        {
          "output_type": "execute_result",
          "data": {
            "text/plain": [
              "<matplotlib.collections.PathCollection at 0x7f98506e3820>"
            ]
          },
          "metadata": {},
          "execution_count": 21
        },
        {
          "output_type": "display_data",
          "data": {
            "text/plain": [
              "<Figure size 432x288 with 1 Axes>"
            ],
            "image/png": "[encoded data removed]"
          },
          "metadata": {
            "needs_background": "light"
          }
        }
      ]
    },
    {
      "cell_type": "markdown",
      "source": [
        "#### Observation: The **Learning Rate** (on the optimizer) is the most effective/impactful way of improving the model without the danger of overfitting."
      ],
      "metadata": {
        "id": "sH-mXWYff7n8"
      }
    },
    {
      "cell_type": "markdown",
      "source": [
        "### Evaluating a model\n",
        "\n",
        "In practice a typical workflow for building neural networks:\n",
        "Build the model -> Fit the model -> Tweak the model -> fit it -> evaluate it -> tweak the model -> fit -> evaluate etc.\n",
        "\n",
        "When it comes to evaluation, you should visualize... visualize... visualize...\n",
        "\n",
        "Visualize: \n",
        "\n",
        "* The data - what does the data look like?\n",
        "* The model - how does it look like?\n",
        "* The model's training - how does it perform while it learns?\n",
        "* Predictions of the model - how do the predictions line up against the ground truth."
      ],
      "metadata": {
        "id": "kMTYWGzEgIQB"
      }
    },
    {
      "cell_type": "code",
      "source": [
        "# Make a bigger dataset\n",
        "X = np.arange(-100.0,100.0,4.0)\n",
        "X"
      ],
      "metadata": {
        "colab": {
          "base_uri": "https://localhost:8080/"
        },
        "id": "xs8Cv3Nxgngd",
        "outputId": "7937a6e2-3e9e-414c-e63c-88e3aacb153a"
      },
      "execution_count": 22,
      "outputs": [
        {
          "output_type": "execute_result",
          "data": {
            "text/plain": [
              "array([-100.,  -96.,  -92.,  -88.,  -84.,  -80.,  -76.,  -72.,  -68.,\n",
              "        -64.,  -60.,  -56.,  -52.,  -48.,  -44.,  -40.,  -36.,  -32.,\n",
              "        -28.,  -24.,  -20.,  -16.,  -12.,   -8.,   -4.,    0.,    4.,\n",
              "          8.,   12.,   16.,   20.,   24.,   28.,   32.,   36.,   40.,\n",
              "         44.,   48.,   52.,   56.,   60.,   64.,   68.,   72.,   76.,\n",
              "         80.,   84.,   88.,   92.,   96.])"
            ]
          },
          "metadata": {},
          "execution_count": 22
        }
      ]
    },
    {
      "cell_type": "code",
      "source": [
        "# Make labels for the dataset\n",
        "y = X + 10"
      ],
      "metadata": {
        "id": "Wi6Hv5BFg762"
      },
      "execution_count": 23,
      "outputs": []
    },
    {
      "cell_type": "code",
      "source": [
        "plt.scatter(X,y)"
      ],
      "metadata": {
        "colab": {
          "base_uri": "https://localhost:8080/",
          "height": 283
        },
        "id": "wRsG9ArghBcD",
        "outputId": "3ef59123-7620-4919-b531-5ed9731d214d"
      },
      "execution_count": 24,
      "outputs": [
        {
          "output_type": "execute_result",
          "data": {
            "text/plain": [
              "<matplotlib.collections.PathCollection at 0x7f98518e6a00>"
            ]
          },
          "metadata": {},
          "execution_count": 24
        },
        {
          "output_type": "display_data",
          "data": {
            "text/plain": [
              "<Figure size 432x288 with 1 Axes>"
            ],
            "image/png": "[encoded data removed]"
          },
          "metadata": {
            "needs_background": "light"
          }
        }
      ]
    },
    {
      "cell_type": "code",
      "source": [
        "from sklearn.model_selection import train_test_split"
      ],
      "metadata": {
        "id": "Cjl2N52LhGWT"
      },
      "execution_count": 25,
      "outputs": []
    },
    {
      "cell_type": "code",
      "source": [
        "X_train, X_test, y_train, y_test = train_test_split(X,y,test_size=0.2)"
      ],
      "metadata": {
        "id": "o-7H67N0ha4q"
      },
      "execution_count": 26,
      "outputs": []
    },
    {
      "cell_type": "code",
      "source": [
        "X_train =tf.constant(X_train)\n",
        "X_test =tf.constant(X_test)\n",
        "y_train =tf.constant(y_train)\n",
        "y_test =tf.constant(y_test)"
      ],
      "metadata": {
        "id": "x1ri2FryhgPa"
      },
      "execution_count": 27,
      "outputs": []
    },
    {
      "cell_type": "code",
      "source": [
        "plt.figure(figsize=(10,7))\n",
        "plt.scatter(X_train, y_train, c=\"cyan\", label=\"Training Data\")\n",
        "plt.scatter(X_test, y_test, c=\"red\", label=\"Testing Data\")\n",
        "plt.legend();"
      ],
      "metadata": {
        "colab": {
          "base_uri": "https://localhost:8080/",
          "height": 428
        },
        "id": "RKp8ZFcmht2h",
        "outputId": "d9310ac7-28c4-4469-fd1e-9d98cf3d4798"
      },
      "execution_count": 28,
      "outputs": [
        {
          "output_type": "display_data",
          "data": {
            "text/plain": [
              "<Figure size 720x504 with 1 Axes>"
            ],
            "image/png": "[encoded data removed]"
          },
          "metadata": {
            "needs_background": "light"
          }
        }
      ]
    },
    {
      "cell_type": "code",
      "source": [
        "# Let's create a model which builds automatically by definining the input shape argument on the first layer\n",
        "\n",
        "tf.random.set_seed(42)\n",
        "\n",
        "model = tf.keras.Sequential([\n",
        "    tf.keras.layers.Dense(10, input_shape=[1], name=\"input_layer\"),\n",
        "    tf.keras.layers.Dense(1, name=\"output_layer\") \n",
        "], name=\"model_one\")\n",
        "\n",
        "model.compile(loss = tf.keras.losses.mae,\n",
        "              optimizer=tf.keras.optimizers.SGD(learning_rate=0.01),\n",
        "              metrics=[\"mae\"])\n",
        "\n",
        "model.summary()"
      ],
      "metadata": {
        "colab": {
          "base_uri": "https://localhost:8080/"
        },
        "id": "iRHqYbnLjzoB",
        "outputId": "efdcf7b6-0e9d-4427-b4f8-c520c400f17b"
      },
      "execution_count": 29,
      "outputs": [
        {
          "output_type": "stream",
          "name": "stdout",
          "text": [
            "Model: \"model_one\"\n",
            "_________________________________________________________________\n",
            " Layer (type)                Output Shape              Param #   \n",
            "=================================================================\n",
            " input_layer (Dense)         (None, 10)                20        \n",
            "                                                                 \n",
            " output_layer (Dense)        (None, 1)                 11        \n",
            "                                                                 \n",
            "=================================================================\n",
            "Total params: 31\n",
            "Trainable params: 31\n",
            "Non-trainable params: 0\n",
            "_________________________________________________________________\n"
          ]
        }
      ]
    },
    {
      "cell_type": "markdown",
      "source": [
        "Total params - total number of parameters in the model_selection.\n",
        "\n",
        "Trainable paramaters - these are the parameters (patterns) the. model can update as it train.s\n",
        "\n",
        "Non-trainianble parameters - these parameters aren't updated, usually parameters from other models during **transfer learning**. \n",
        "\n",
        "**📖 Resource**: For a more indepth overview of the trainable parameters, check out MIT Introduction to Deep Learning."
      ],
      "metadata": {
        "id": "1XeJ819IkU6z"
      }
    },
    {
      "cell_type": "code",
      "source": [
        "model.fit(X_train, y_train, epochs=100)"
      ],
      "metadata": {
        "colab": {
          "base_uri": "https://localhost:8080/"
        },
        "id": "rkO7f8ml8NSl",
        "outputId": "6e02a9e1-e779-4574-838d-1a9a55e3b89b"
      },
      "execution_count": 30,
      "outputs": [
        {
          "output_type": "stream",
          "name": "stdout",
          "text": [
            "Epoch 1/100\n",
            "2/2 [==============================] - 1s 18ms/step - loss: 64.6880 - mae: 64.6880\n",
            "Epoch 2/100\n",
            "2/2 [==============================] - 0s 13ms/step - loss: 31.5789 - mae: 31.5789\n",
            "Epoch 3/100\n",
            "2/2 [==============================] - 0s 12ms/step - loss: 31.3092 - mae: 31.3092\n",
            "Epoch 4/100\n",
            "2/2 [==============================] - 0s 12ms/step - loss: 33.0088 - mae: 33.0088\n",
            "Epoch 5/100\n",
            "2/2 [==============================] - 0s 13ms/step - loss: 40.0083 - mae: 40.0083\n",
            "Epoch 6/100\n",
            "2/2 [==============================] - 0s 14ms/step - loss: 11.5623 - mae: 11.5623\n",
            "Epoch 7/100\n",
            "2/2 [==============================] - 0s 13ms/step - loss: 17.3951 - mae: 17.3951\n",
            "Epoch 8/100\n",
            "2/2 [==============================] - 0s 12ms/step - loss: 26.9254 - mae: 26.9254\n",
            "Epoch 9/100\n",
            "2/2 [==============================] - 0s 11ms/step - loss: 40.0279 - mae: 40.0279\n",
            "Epoch 10/100\n",
            "2/2 [==============================] - 0s 11ms/step - loss: 10.1056 - mae: 10.1056\n",
            "Epoch 11/100\n",
            "2/2 [==============================] - 0s 12ms/step - loss: 10.7287 - mae: 10.7287\n",
            "Epoch 12/100\n",
            "2/2 [==============================] - 0s 11ms/step - loss: 30.6599 - mae: 30.6599\n",
            "Epoch 13/100\n",
            "2/2 [==============================] - 0s 10ms/step - loss: 18.1731 - mae: 18.1731\n",
            "Epoch 14/100\n",
            "2/2 [==============================] - 0s 11ms/step - loss: 15.6267 - mae: 15.6267\n",
            "Epoch 15/100\n",
            "2/2 [==============================] - 0s 12ms/step - loss: 11.1420 - mae: 11.1420\n",
            "Epoch 16/100\n",
            "2/2 [==============================] - 0s 10ms/step - loss: 29.6691 - mae: 29.6691\n",
            "Epoch 17/100\n",
            "2/2 [==============================] - 0s 11ms/step - loss: 9.6574 - mae: 9.6574\n",
            "Epoch 18/100\n",
            "2/2 [==============================] - 0s 10ms/step - loss: 13.2044 - mae: 13.2044\n",
            "Epoch 19/100\n",
            "2/2 [==============================] - 0s 18ms/step - loss: 13.9370 - mae: 13.9370\n",
            "Epoch 20/100\n",
            "2/2 [==============================] - 0s 9ms/step - loss: 26.3108 - mae: 26.3108\n",
            "Epoch 21/100\n",
            "2/2 [==============================] - 0s 12ms/step - loss: 18.6830 - mae: 18.6830\n",
            "Epoch 22/100\n",
            "2/2 [==============================] - 0s 9ms/step - loss: 12.2810 - mae: 12.2810\n",
            "Epoch 23/100\n",
            "2/2 [==============================] - 0s 9ms/step - loss: 25.4630 - mae: 25.4630\n",
            "Epoch 24/100\n",
            "2/2 [==============================] - 0s 9ms/step - loss: 22.5955 - mae: 22.5955\n",
            "Epoch 25/100\n",
            "2/2 [==============================] - 0s 9ms/step - loss: 15.4094 - mae: 15.4094\n",
            "Epoch 26/100\n",
            "2/2 [==============================] - 0s 9ms/step - loss: 17.3890 - mae: 17.3890\n",
            "Epoch 27/100\n",
            "2/2 [==============================] - 0s 13ms/step - loss: 10.0856 - mae: 10.0856\n",
            "Epoch 28/100\n",
            "2/2 [==============================] - 0s 6ms/step - loss: 21.7242 - mae: 21.7242\n",
            "Epoch 29/100\n",
            "2/2 [==============================] - 0s 12ms/step - loss: 14.7238 - mae: 14.7238\n",
            "Epoch 30/100\n",
            "2/2 [==============================] - 0s 11ms/step - loss: 24.7774 - mae: 24.7774\n",
            "Epoch 31/100\n",
            "2/2 [==============================] - 0s 9ms/step - loss: 18.5834 - mae: 18.5834\n",
            "Epoch 32/100\n",
            "2/2 [==============================] - 0s 12ms/step - loss: 17.6619 - mae: 17.6619\n",
            "Epoch 33/100\n",
            "2/2 [==============================] - 0s 17ms/step - loss: 14.5084 - mae: 14.5084\n",
            "Epoch 34/100\n",
            "2/2 [==============================] - 0s 13ms/step - loss: 22.5798 - mae: 22.5798\n",
            "Epoch 35/100\n",
            "2/2 [==============================] - 0s 12ms/step - loss: 21.3014 - mae: 21.3014\n",
            "Epoch 36/100\n",
            "2/2 [==============================] - 0s 13ms/step - loss: 24.4852 - mae: 24.4852\n",
            "Epoch 37/100\n",
            "2/2 [==============================] - 0s 37ms/step - loss: 17.6176 - mae: 17.6176\n",
            "Epoch 38/100\n",
            "2/2 [==============================] - 0s 9ms/step - loss: 20.3387 - mae: 20.3387\n",
            "Epoch 39/100\n",
            "2/2 [==============================] - 0s 8ms/step - loss: 17.6991 - mae: 17.6991\n",
            "Epoch 40/100\n",
            "2/2 [==============================] - 0s 11ms/step - loss: 11.9490 - mae: 11.9490\n",
            "Epoch 41/100\n",
            "2/2 [==============================] - 0s 11ms/step - loss: 24.5607 - mae: 24.5607\n",
            "Epoch 42/100\n",
            "2/2 [==============================] - 0s 11ms/step - loss: 15.6738 - mae: 15.6738\n",
            "Epoch 43/100\n",
            "2/2 [==============================] - 0s 9ms/step - loss: 25.9953 - mae: 25.9953\n",
            "Epoch 44/100\n",
            "2/2 [==============================] - 0s 10ms/step - loss: 35.3946 - mae: 35.3946\n",
            "Epoch 45/100\n",
            "2/2 [==============================] - 0s 10ms/step - loss: 15.8861 - mae: 15.8861\n",
            "Epoch 46/100\n",
            "2/2 [==============================] - 0s 9ms/step - loss: 9.3010 - mae: 9.3010\n",
            "Epoch 47/100\n",
            "2/2 [==============================] - 0s 9ms/step - loss: 16.8973 - mae: 16.8973\n",
            "Epoch 48/100\n",
            "2/2 [==============================] - 0s 9ms/step - loss: 36.1356 - mae: 36.1356\n",
            "Epoch 49/100\n",
            "2/2 [==============================] - 0s 10ms/step - loss: 9.8843 - mae: 9.8843\n",
            "Epoch 50/100\n",
            "2/2 [==============================] - 0s 8ms/step - loss: 22.2558 - mae: 22.2558\n",
            "Epoch 51/100\n",
            "2/2 [==============================] - 0s 11ms/step - loss: 19.4578 - mae: 19.4578\n",
            "Epoch 52/100\n",
            "2/2 [==============================] - 0s 9ms/step - loss: 25.6109 - mae: 25.6109\n",
            "Epoch 53/100\n",
            "2/2 [==============================] - 0s 10ms/step - loss: 24.9970 - mae: 24.9970\n",
            "Epoch 54/100\n",
            "2/2 [==============================] - 0s 9ms/step - loss: 14.8364 - mae: 14.8364\n",
            "Epoch 55/100\n",
            "2/2 [==============================] - 0s 9ms/step - loss: 33.0315 - mae: 33.0315\n",
            "Epoch 56/100\n",
            "2/2 [==============================] - 0s 9ms/step - loss: 23.1399 - mae: 23.1399\n",
            "Epoch 57/100\n",
            "2/2 [==============================] - 0s 9ms/step - loss: 20.0328 - mae: 20.0328\n",
            "Epoch 58/100\n",
            "2/2 [==============================] - 0s 13ms/step - loss: 17.9212 - mae: 17.9212\n",
            "Epoch 59/100\n",
            "2/2 [==============================] - 0s 16ms/step - loss: 27.1594 - mae: 27.1594\n",
            "Epoch 60/100\n",
            "2/2 [==============================] - 0s 13ms/step - loss: 21.3302 - mae: 21.3302\n",
            "Epoch 61/100\n",
            "2/2 [==============================] - 0s 13ms/step - loss: 21.7935 - mae: 21.7935\n",
            "Epoch 62/100\n",
            "2/2 [==============================] - 0s 16ms/step - loss: 11.0028 - mae: 11.0028\n",
            "Epoch 63/100\n",
            "2/2 [==============================] - 0s 17ms/step - loss: 39.3507 - mae: 39.3507\n",
            "Epoch 64/100\n",
            "2/2 [==============================] - 0s 14ms/step - loss: 10.7442 - mae: 10.7442\n",
            "Epoch 65/100\n",
            "2/2 [==============================] - 0s 9ms/step - loss: 41.0079 - mae: 41.0079\n",
            "Epoch 66/100\n",
            "2/2 [==============================] - 0s 34ms/step - loss: 17.0203 - mae: 17.0203\n",
            "Epoch 67/100\n",
            "2/2 [==============================] - 0s 19ms/step - loss: 27.9752 - mae: 27.9752\n",
            "Epoch 68/100\n",
            "2/2 [==============================] - 0s 20ms/step - loss: 42.8028 - mae: 42.8028\n",
            "Epoch 69/100\n",
            "2/2 [==============================] - 0s 10ms/step - loss: 8.9796 - mae: 8.9796\n",
            "Epoch 70/100\n",
            "2/2 [==============================] - 0s 15ms/step - loss: 9.5703 - mae: 9.5703\n",
            "Epoch 71/100\n",
            "2/2 [==============================] - 0s 16ms/step - loss: 28.0486 - mae: 28.0486\n",
            "Epoch 72/100\n",
            "2/2 [==============================] - 0s 14ms/step - loss: 11.7918 - mae: 11.7918\n",
            "Epoch 73/100\n",
            "2/2 [==============================] - 0s 18ms/step - loss: 29.8421 - mae: 29.8421\n",
            "Epoch 74/100\n",
            "2/2 [==============================] - 0s 7ms/step - loss: 14.9259 - mae: 14.9259\n",
            "Epoch 75/100\n",
            "2/2 [==============================] - 0s 9ms/step - loss: 8.9687 - mae: 8.9687\n",
            "Epoch 76/100\n",
            "2/2 [==============================] - 0s 8ms/step - loss: 9.4447 - mae: 9.4447\n",
            "Epoch 77/100\n",
            "2/2 [==============================] - 0s 12ms/step - loss: 16.2958 - mae: 16.2958\n",
            "Epoch 78/100\n",
            "2/2 [==============================] - 0s 9ms/step - loss: 20.8829 - mae: 20.8829\n",
            "Epoch 79/100\n",
            "2/2 [==============================] - 0s 15ms/step - loss: 26.9136 - mae: 26.9136\n",
            "Epoch 80/100\n",
            "2/2 [==============================] - 0s 18ms/step - loss: 34.6016 - mae: 34.6016\n",
            "Epoch 81/100\n",
            "2/2 [==============================] - 0s 12ms/step - loss: 18.0140 - mae: 18.0140\n",
            "Epoch 82/100\n",
            "2/2 [==============================] - 0s 14ms/step - loss: 30.3344 - mae: 30.3344\n",
            "Epoch 83/100\n",
            "2/2 [==============================] - 0s 11ms/step - loss: 25.9439 - mae: 25.9439\n",
            "Epoch 84/100\n",
            "2/2 [==============================] - 0s 20ms/step - loss: 16.8982 - mae: 16.8982\n",
            "Epoch 85/100\n",
            "2/2 [==============================] - 0s 11ms/step - loss: 28.4470 - mae: 28.4470\n",
            "Epoch 86/100\n",
            "2/2 [==============================] - 0s 16ms/step - loss: 11.7516 - mae: 11.7516\n",
            "Epoch 87/100\n",
            "2/2 [==============================] - 0s 11ms/step - loss: 39.4823 - mae: 39.4823\n",
            "Epoch 88/100\n",
            "2/2 [==============================] - 0s 11ms/step - loss: 19.1087 - mae: 19.1087\n",
            "Epoch 89/100\n",
            "2/2 [==============================] - 0s 13ms/step - loss: 18.3667 - mae: 18.3667\n",
            "Epoch 90/100\n",
            "2/2 [==============================] - 0s 15ms/step - loss: 33.2881 - mae: 33.2881\n",
            "Epoch 91/100\n",
            "2/2 [==============================] - 0s 13ms/step - loss: 18.2116 - mae: 18.2116\n",
            "Epoch 92/100\n",
            "2/2 [==============================] - 0s 14ms/step - loss: 18.8604 - mae: 18.8604\n",
            "Epoch 93/100\n",
            "2/2 [==============================] - 0s 11ms/step - loss: 28.3879 - mae: 28.3879\n",
            "Epoch 94/100\n",
            "2/2 [==============================] - 0s 16ms/step - loss: 28.6290 - mae: 28.6290\n",
            "Epoch 95/100\n",
            "2/2 [==============================] - 0s 12ms/step - loss: 21.8158 - mae: 21.8158\n",
            "Epoch 96/100\n",
            "2/2 [==============================] - 0s 34ms/step - loss: 35.0447 - mae: 35.0447\n",
            "Epoch 97/100\n",
            "2/2 [==============================] - 0s 18ms/step - loss: 16.1268 - mae: 16.1268\n",
            "Epoch 98/100\n",
            "2/2 [==============================] - 0s 13ms/step - loss: 11.9335 - mae: 11.9335\n",
            "Epoch 99/100\n",
            "2/2 [==============================] - 0s 11ms/step - loss: 33.8027 - mae: 33.8027\n",
            "Epoch 100/100\n",
            "2/2 [==============================] - 0s 10ms/step - loss: 17.6473 - mae: 17.6473\n"
          ]
        },
        {
          "output_type": "execute_result",
          "data": {
            "text/plain": [
              "<keras.callbacks.History at 0x7f984a7d2100>"
            ]
          },
          "metadata": {},
          "execution_count": 30
        }
      ]
    },
    {
      "cell_type": "code",
      "source": [
        "model.summary()"
      ],
      "metadata": {
        "colab": {
          "base_uri": "https://localhost:8080/"
        },
        "id": "ngI1YcVh_W0J",
        "outputId": "6ca33857-620b-41c6-93e9-f2e4b4a1b07d"
      },
      "execution_count": 31,
      "outputs": [
        {
          "output_type": "stream",
          "name": "stdout",
          "text": [
            "Model: \"model_one\"\n",
            "_________________________________________________________________\n",
            " Layer (type)                Output Shape              Param #   \n",
            "=================================================================\n",
            " input_layer (Dense)         (None, 10)                20        \n",
            "                                                                 \n",
            " output_layer (Dense)        (None, 1)                 11        \n",
            "                                                                 \n",
            "=================================================================\n",
            "Total params: 31\n",
            "Trainable params: 31\n",
            "Non-trainable params: 0\n",
            "_________________________________________________________________\n"
          ]
        }
      ]
    },
    {
      "cell_type": "code",
      "source": [
        "from tensorflow.keras.utils import plot_model\n",
        "\n",
        "plot_model(model=model, show_shapes=True)"
      ],
      "metadata": {
        "colab": {
          "base_uri": "https://localhost:8080/",
          "height": 312
        },
        "id": "rqdBvy07_eis",
        "outputId": "100d1ea0-085e-4eb2-a030-cb7f72ffebd2"
      },
      "execution_count": 32,
      "outputs": [
        {
          "output_type": "execute_result",
          "data": {
            "image/png": "[encoded data removed]",
            "text/plain": [
              "<IPython.core.display.Image object>"
            ]
          },
          "metadata": {},
          "execution_count": 32
        }
      ]
    },
    {
      "cell_type": "markdown",
      "source": [
        "### Visualizing predictions:\n",
        "This is done usually by plotting or comparing ground-truth labels (`y_true` or `y_test`) against predicted values (`y_pred`)."
      ],
      "metadata": {
        "id": "EyKWRGJ94xUw"
      }
    },
    {
      "cell_type": "code",
      "source": [
        "# Make some predictions:\n",
        "y_pred = model.predict(X_test)"
      ],
      "metadata": {
        "colab": {
          "base_uri": "https://localhost:8080/"
        },
        "id": "Nt3ZFCah4_qf",
        "outputId": "890a8903-5126-4ebc-debc-e5504664fa42"
      },
      "execution_count": 33,
      "outputs": [
        {
          "output_type": "stream",
          "name": "stdout",
          "text": [
            "1/1 [==============================] - 1s 549ms/step\n"
          ]
        }
      ]
    },
    {
      "cell_type": "code",
      "source": [
        "y_pred"
      ],
      "metadata": {
        "colab": {
          "base_uri": "https://localhost:8080/"
        },
        "id": "0tfn-LjL5EON",
        "outputId": "db68df54-dd3e-4743-e141-cba8504293c6"
      },
      "execution_count": 34,
      "outputs": [
        {
          "output_type": "execute_result",
          "data": {
            "text/plain": [
              "array([[ -9.473934 ],\n",
              "       [ 69.88425  ],\n",
              "       [-27.509884 ],\n",
              "       [  4.9548254],\n",
              "       [-81.61774  ],\n",
              "       [-59.974598 ],\n",
              "       [ 66.277054 ],\n",
              "       [ 77.098625 ],\n",
              "       [-52.760212 ],\n",
              "       [ 12.169205 ]], dtype=float32)"
            ]
          },
          "metadata": {},
          "execution_count": 34
        }
      ]
    },
    {
      "cell_type": "code",
      "source": [
        "y_pred.ndim"
      ],
      "metadata": {
        "colab": {
          "base_uri": "https://localhost:8080/"
        },
        "id": "BZEa4ZPI5HUr",
        "outputId": "72e390b1-e898-4d35-98d4-1c0a4a2441de"
      },
      "execution_count": 35,
      "outputs": [
        {
          "output_type": "execute_result",
          "data": {
            "text/plain": [
              "2"
            ]
          },
          "metadata": {},
          "execution_count": 35
        }
      ]
    },
    {
      "cell_type": "code",
      "source": [
        "# Creating a plotting function\n",
        "\n",
        "\n",
        "def plot_predictions(train_data=X_train,\n",
        "                     train_labels=y_train,\n",
        "                     test_data=X_test,\n",
        "                     test_labels=y_test,\n",
        "                     predictions = y_pred):\n",
        "\n",
        "\n",
        "  plt.figure(figsize=(10,7))\n",
        "  plt.scatter(train_data,train_labels, c=\"b\", label=\"Training data\")\n",
        "  plt.scatter(test_data,test_labels, c=\"g\", label=\"Testing data\")\n",
        "  plt.scatter(test_data, predictions, c=\"r\", label=\"Predictions\")\n",
        "  plt.legend();"
      ],
      "metadata": {
        "id": "GDJf3yNC5I0w"
      },
      "execution_count": 36,
      "outputs": []
    },
    {
      "cell_type": "code",
      "source": [
        "plot_predictions()\n"
      ],
      "metadata": {
        "colab": {
          "base_uri": "https://localhost:8080/",
          "height": 428
        },
        "id": "qfLnXAjq6Qqb",
        "outputId": "7f1464f0-258a-4307-aa4f-0b0ddfa925ea"
      },
      "execution_count": 37,
      "outputs": [
        {
          "output_type": "display_data",
          "data": {
            "text/plain": [
              "<Figure size 720x504 with 1 Axes>"
            ],
            "image/png": "[encoded data removed]"
          },
          "metadata": {
            "needs_background": "light"
          }
        }
      ]
    },
    {
      "cell_type": "code",
      "source": [],
      "metadata": {
        "id": "x21gb6lR6SEa"
      },
      "execution_count": 37,
      "outputs": []
    },
    {
      "cell_type": "markdown",
      "source": [
        "### Evaluating model with regression evaluation metrics\n",
        "\n",
        "Depending on the problem, there are differente evaluation metrics to evaluate model's performance:\n",
        "* **mae**,\n",
        "* **mse**"
      ],
      "metadata": {
        "id": "0nutJtw87B_K"
      }
    },
    {
      "cell_type": "code",
      "source": [
        "mae = tf.metrics.mean_absolute_error(y_true = y_test,\n",
        "                                     y_pred = tf.constant(y_pred))\n",
        "mae"
      ],
      "metadata": {
        "colab": {
          "base_uri": "https://localhost:8080/"
        },
        "id": "3CPnvEhD71DB",
        "outputId": "5f7415f8-66f7-4839-8ade-6c5e151456df"
      },
      "execution_count": 38,
      "outputs": [
        {
          "output_type": "execute_result",
          "data": {
            "text/plain": [
              "<tf.Tensor: shape=(10,), dtype=float32, numpy=\n",
              "array([52.694786, 71.9537  , 57.403954, 51.2     , 90.09419 , 72.77968 ,\n",
              "       70.51082 , 74.839455, 68.05613 , 51.2     ], dtype=float32)>"
            ]
          },
          "metadata": {},
          "execution_count": 38
        }
      ]
    },
    {
      "cell_type": "code",
      "source": [
        "y_test.shape"
      ],
      "metadata": {
        "colab": {
          "base_uri": "https://localhost:8080/"
        },
        "id": "lp31vN599Tf5",
        "outputId": "7d6b4b1a-66b1-4c53-ee9b-eb5a478618ba"
      },
      "execution_count": 39,
      "outputs": [
        {
          "output_type": "execute_result",
          "data": {
            "text/plain": [
              "TensorShape([10])"
            ]
          },
          "metadata": {},
          "execution_count": 39
        }
      ]
    },
    {
      "cell_type": "code",
      "source": [
        "y_pred.shape"
      ],
      "metadata": {
        "colab": {
          "base_uri": "https://localhost:8080/"
        },
        "id": "sWTjr_YE96wH",
        "outputId": "55355ca0-a3c3-4189-ae54-6d2f1ae3f78e"
      },
      "execution_count": 40,
      "outputs": [
        {
          "output_type": "execute_result",
          "data": {
            "text/plain": [
              "(10, 1)"
            ]
          },
          "metadata": {},
          "execution_count": 40
        }
      ]
    },
    {
      "cell_type": "markdown",
      "source": [
        "`y_test` has an extra dimension so we should `tf.squeeze()` it."
      ],
      "metadata": {
        "id": "T2iy8lon970n"
      }
    },
    {
      "cell_type": "code",
      "source": [
        "mae = tf.metrics.mean_absolute_error(y_true = y_test,\n",
        "                                     y_pred = tf.squeeze(tf.constant(y_pred)))\n",
        "mae"
      ],
      "metadata": {
        "colab": {
          "base_uri": "https://localhost:8080/"
        },
        "id": "v_MzlPhi-FQI",
        "outputId": "6ba9c6af-c44b-4fc5-cff7-5a3e9e0209b2"
      },
      "execution_count": 41,
      "outputs": [
        {
          "output_type": "execute_result",
          "data": {
            "text/plain": [
              "<tf.Tensor: shape=(), dtype=float32, numpy=8.571693>"
            ]
          },
          "metadata": {},
          "execution_count": 41
        }
      ]
    },
    {
      "cell_type": "code",
      "source": [
        "# Calculate the mean squared error\n",
        "\n",
        "tf.metrics.mean_squared_error (y_true = y_test,\n",
        "                               y_pred = tf.squeeze(tf.constant(y_pred)))"
      ],
      "metadata": {
        "colab": {
          "base_uri": "https://localhost:8080/"
        },
        "id": "ldDISfpC-LU3",
        "outputId": "d2df5fa5-1abd-445c-b02d-d0989a844005"
      },
      "execution_count": 42,
      "outputs": [
        {
          "output_type": "execute_result",
          "data": {
            "text/plain": [
              "<tf.Tensor: shape=(), dtype=float32, numpy=106.89272>"
            ]
          },
          "metadata": {},
          "execution_count": 42
        }
      ]
    },
    {
      "cell_type": "code",
      "source": [
        "# Functions for MAE and MSE\n",
        "\n",
        "def mae(y_true, y_preds):\n",
        "  return tf.metrics.mean_absolute_error(y_true, tf.squeeze(tf.constant(y_preds)))\n",
        "\n",
        "def mse(y_true, y_preds):\n",
        "  return tf.metrics.mean_squared_error(y_true, tf.squeeze(tf.constant(y_preds)))"
      ],
      "metadata": {
        "id": "g74a6Fdv-Xkd"
      },
      "execution_count": 43,
      "outputs": []
    },
    {
      "cell_type": "markdown",
      "source": [
        "### How do we improve our model?\n",
        "1. Get more data (more opportunities to learn patterns)\n",
        "2. Make models larger (using a more complex model - more layers, more nodes (hidden units))\n",
        "3. Train for longer (more epochs)"
      ],
      "metadata": {
        "id": "LxIkLAe6ANF3"
      }
    },
    {
      "cell_type": "markdown",
      "source": [
        "### \"Experiment... experiment... experiment...\"\n",
        "\n",
        "* 3 model experiments:\n",
        "\n",
        "1. `model_1` - baseline, one layer trained for 100 epochs.\n",
        "2. `model_2` - two layers, trained for 100 epochs\n",
        "3. `model_3` - two layers, trained for 500 epochs"
      ],
      "metadata": {
        "id": "GbHJyNC3_1-c"
      }
    },
    {
      "cell_type": "markdown",
      "source": [
        "**Build `model_1`**"
      ],
      "metadata": {
        "id": "AGrWoDhOAbmW"
      }
    },
    {
      "cell_type": "code",
      "source": [
        "tf.random.set_seed(42)\n",
        "\n",
        "model_1 = tf.keras.Sequential([\n",
        "    tf.keras.layers.Dense(1, name=\"input_layer\", input_shape=[1])\n",
        "], name=\"model_1\")\n",
        "\n",
        "model_1.compile(loss=tf.keras.losses.mae,\n",
        "                optimizer=tf.keras.optimizers.SGD(),\n",
        "                metrics=\"mae\")\n",
        "\n",
        "model_1.summary()\n"
      ],
      "metadata": {
        "colab": {
          "base_uri": "https://localhost:8080/"
        },
        "id": "XUYFq1FKA1PL",
        "outputId": "cd967314-2af2-4d19-abbb-8c12740b6ea1"
      },
      "execution_count": 44,
      "outputs": [
        {
          "output_type": "stream",
          "name": "stdout",
          "text": [
            "Model: \"model_1\"\n",
            "_________________________________________________________________\n",
            " Layer (type)                Output Shape              Param #   \n",
            "=================================================================\n",
            " input_layer (Dense)         (None, 1)                 2         \n",
            "                                                                 \n",
            "=================================================================\n",
            "Total params: 2\n",
            "Trainable params: 2\n",
            "Non-trainable params: 0\n",
            "_________________________________________________________________\n"
          ]
        }
      ]
    },
    {
      "cell_type": "code",
      "source": [
        "model_1.fit(tf.expand_dims(X_train, axis=-1), y_train, epochs=100)"
      ],
      "metadata": {
        "colab": {
          "base_uri": "https://localhost:8080/"
        },
        "id": "KcKtGPA9CQ9E",
        "outputId": "73239eb0-0280-4e04-8d4b-99225b9f1060"
      },
      "execution_count": 45,
      "outputs": [
        {
          "output_type": "stream",
          "name": "stdout",
          "text": [
            "Epoch 1/100\n",
            "2/2 [==============================] - 1s 22ms/step - loss: 123.8523 - mae: 123.8523\n",
            "Epoch 2/100\n",
            "2/2 [==============================] - 0s 11ms/step - loss: 79.5338 - mae: 79.5338\n",
            "Epoch 3/100\n",
            "2/2 [==============================] - 0s 10ms/step - loss: 32.4512 - mae: 32.4512\n",
            "Epoch 4/100\n",
            "2/2 [==============================] - 0s 9ms/step - loss: 15.9197 - mae: 15.9197\n",
            "Epoch 5/100\n",
            "2/2 [==============================] - 0s 11ms/step - loss: 10.4441 - mae: 10.4441\n",
            "Epoch 6/100\n",
            "2/2 [==============================] - 0s 9ms/step - loss: 12.5290 - mae: 12.5290\n",
            "Epoch 7/100\n",
            "2/2 [==============================] - 0s 12ms/step - loss: 10.0254 - mae: 10.0254\n",
            "Epoch 8/100\n",
            "2/2 [==============================] - 0s 10ms/step - loss: 10.0614 - mae: 10.0614\n",
            "Epoch 9/100\n",
            "2/2 [==============================] - 0s 9ms/step - loss: 10.2002 - mae: 10.2002\n",
            "Epoch 10/100\n",
            "2/2 [==============================] - 0s 9ms/step - loss: 9.7995 - mae: 9.7995\n",
            "Epoch 11/100\n",
            "2/2 [==============================] - 0s 10ms/step - loss: 10.1327 - mae: 10.1327\n",
            "Epoch 12/100\n",
            "2/2 [==============================] - 0s 11ms/step - loss: 10.9046 - mae: 10.9046\n",
            "Epoch 13/100\n",
            "2/2 [==============================] - 0s 8ms/step - loss: 9.9205 - mae: 9.9205\n",
            "Epoch 14/100\n",
            "2/2 [==============================] - 0s 9ms/step - loss: 10.2287 - mae: 10.2287\n",
            "Epoch 15/100\n",
            "2/2 [==============================] - 0s 8ms/step - loss: 10.7055 - mae: 10.7055\n",
            "Epoch 16/100\n",
            "2/2 [==============================] - 0s 15ms/step - loss: 9.7654 - mae: 9.7654\n",
            "Epoch 17/100\n",
            "2/2 [==============================] - 0s 14ms/step - loss: 9.5514 - mae: 9.5514\n",
            "Epoch 18/100\n",
            "2/2 [==============================] - 0s 14ms/step - loss: 11.3366 - mae: 11.3366\n",
            "Epoch 19/100\n",
            "2/2 [==============================] - 0s 14ms/step - loss: 10.1166 - mae: 10.1166\n",
            "Epoch 20/100\n",
            "2/2 [==============================] - 0s 15ms/step - loss: 11.2993 - mae: 11.2993\n",
            "Epoch 21/100\n",
            "2/2 [==============================] - 0s 13ms/step - loss: 9.8965 - mae: 9.8965\n",
            "Epoch 22/100\n",
            "2/2 [==============================] - 0s 8ms/step - loss: 10.1454 - mae: 10.1454\n",
            "Epoch 23/100\n",
            "2/2 [==============================] - 0s 9ms/step - loss: 9.8834 - mae: 9.8834\n",
            "Epoch 24/100\n",
            "2/2 [==============================] - 0s 9ms/step - loss: 12.0380 - mae: 12.0380\n",
            "Epoch 25/100\n",
            "2/2 [==============================] - 0s 8ms/step - loss: 9.5754 - mae: 9.5754\n",
            "Epoch 26/100\n",
            "2/2 [==============================] - 0s 10ms/step - loss: 11.5613 - mae: 11.5613\n",
            "Epoch 27/100\n",
            "2/2 [==============================] - 0s 10ms/step - loss: 9.9055 - mae: 9.9055\n",
            "Epoch 28/100\n",
            "2/2 [==============================] - 0s 9ms/step - loss: 13.1804 - mae: 13.1804\n",
            "Epoch 29/100\n",
            "2/2 [==============================] - 0s 10ms/step - loss: 9.2189 - mae: 9.2189\n",
            "Epoch 30/100\n",
            "2/2 [==============================] - 0s 22ms/step - loss: 12.8022 - mae: 12.8022\n",
            "Epoch 31/100\n",
            "2/2 [==============================] - 0s 16ms/step - loss: 14.6912 - mae: 14.6912\n",
            "Epoch 32/100\n",
            "2/2 [==============================] - 0s 9ms/step - loss: 9.5581 - mae: 9.5581\n",
            "Epoch 33/100\n",
            "2/2 [==============================] - 0s 15ms/step - loss: 10.0716 - mae: 10.0716\n",
            "Epoch 34/100\n",
            "2/2 [==============================] - 0s 14ms/step - loss: 10.4090 - mae: 10.4090\n",
            "Epoch 35/100\n",
            "2/2 [==============================] - 0s 11ms/step - loss: 10.3684 - mae: 10.3684\n",
            "Epoch 36/100\n",
            "2/2 [==============================] - 0s 17ms/step - loss: 15.5959 - mae: 15.5959\n",
            "Epoch 37/100\n",
            "2/2 [==============================] - 0s 13ms/step - loss: 9.6601 - mae: 9.6601\n",
            "Epoch 38/100\n",
            "2/2 [==============================] - 0s 15ms/step - loss: 11.6581 - mae: 11.6581\n",
            "Epoch 39/100\n",
            "2/2 [==============================] - 0s 15ms/step - loss: 16.9538 - mae: 16.9538\n",
            "Epoch 40/100\n",
            "2/2 [==============================] - 0s 13ms/step - loss: 10.4442 - mae: 10.4442\n",
            "Epoch 41/100\n",
            "2/2 [==============================] - 0s 10ms/step - loss: 9.4355 - mae: 9.4355\n",
            "Epoch 42/100\n",
            "2/2 [==============================] - 0s 10ms/step - loss: 9.4054 - mae: 9.4054\n",
            "Epoch 43/100\n",
            "2/2 [==============================] - 0s 9ms/step - loss: 9.3547 - mae: 9.3547\n",
            "Epoch 44/100\n",
            "2/2 [==============================] - 0s 10ms/step - loss: 9.5905 - mae: 9.5905\n",
            "Epoch 45/100\n",
            "2/2 [==============================] - 0s 9ms/step - loss: 14.2997 - mae: 14.2997\n",
            "Epoch 46/100\n",
            "2/2 [==============================] - 0s 7ms/step - loss: 15.3241 - mae: 15.3241\n",
            "Epoch 47/100\n",
            "2/2 [==============================] - 0s 15ms/step - loss: 12.0987 - mae: 12.0987\n",
            "Epoch 48/100\n",
            "2/2 [==============================] - 0s 8ms/step - loss: 9.2795 - mae: 9.2795\n",
            "Epoch 49/100\n",
            "2/2 [==============================] - 0s 9ms/step - loss: 14.3030 - mae: 14.3030\n",
            "Epoch 50/100\n",
            "2/2 [==============================] - 0s 9ms/step - loss: 9.1664 - mae: 9.1664\n",
            "Epoch 51/100\n",
            "2/2 [==============================] - 0s 10ms/step - loss: 9.5059 - mae: 9.5059\n",
            "Epoch 52/100\n",
            "2/2 [==============================] - 0s 9ms/step - loss: 9.0358 - mae: 9.0358\n",
            "Epoch 53/100\n",
            "2/2 [==============================] - 0s 11ms/step - loss: 9.3550 - mae: 9.3550\n",
            "Epoch 54/100\n",
            "2/2 [==============================] - 0s 9ms/step - loss: 9.3009 - mae: 9.3009\n",
            "Epoch 55/100\n",
            "2/2 [==============================] - 0s 10ms/step - loss: 9.9520 - mae: 9.9520\n",
            "Epoch 56/100\n",
            "2/2 [==============================] - 0s 9ms/step - loss: 12.3118 - mae: 12.3118\n",
            "Epoch 57/100\n",
            "2/2 [==============================] - 0s 9ms/step - loss: 11.7566 - mae: 11.7566\n",
            "Epoch 58/100\n",
            "2/2 [==============================] - 0s 9ms/step - loss: 9.8432 - mae: 9.8432\n",
            "Epoch 59/100\n",
            "2/2 [==============================] - 0s 9ms/step - loss: 8.7922 - mae: 8.7922\n",
            "Epoch 60/100\n",
            "2/2 [==============================] - 0s 9ms/step - loss: 14.2889 - mae: 14.2889\n",
            "Epoch 61/100\n",
            "2/2 [==============================] - 0s 13ms/step - loss: 9.1549 - mae: 9.1549\n",
            "Epoch 62/100\n",
            "2/2 [==============================] - 0s 8ms/step - loss: 9.2199 - mae: 9.2199\n",
            "Epoch 63/100\n",
            "2/2 [==============================] - 0s 9ms/step - loss: 11.5726 - mae: 11.5726\n",
            "Epoch 64/100\n",
            "2/2 [==============================] - 0s 12ms/step - loss: 8.9616 - mae: 8.9616\n",
            "Epoch 65/100\n",
            "2/2 [==============================] - 0s 11ms/step - loss: 11.7331 - mae: 11.7331\n",
            "Epoch 66/100\n",
            "2/2 [==============================] - 0s 13ms/step - loss: 9.1875 - mae: 9.1875\n",
            "Epoch 67/100\n",
            "2/2 [==============================] - 0s 22ms/step - loss: 9.4847 - mae: 9.4847\n",
            "Epoch 68/100\n",
            "2/2 [==============================] - 0s 12ms/step - loss: 13.5471 - mae: 13.5471\n",
            "Epoch 69/100\n",
            "2/2 [==============================] - 0s 13ms/step - loss: 13.5778 - mae: 13.5778\n",
            "Epoch 70/100\n",
            "2/2 [==============================] - 0s 8ms/step - loss: 9.3104 - mae: 9.3104\n",
            "Epoch 71/100\n",
            "2/2 [==============================] - 0s 8ms/step - loss: 10.9179 - mae: 10.9179\n",
            "Epoch 72/100\n",
            "2/2 [==============================] - 0s 8ms/step - loss: 14.3279 - mae: 14.3279\n",
            "Epoch 73/100\n",
            "2/2 [==============================] - 0s 8ms/step - loss: 14.7400 - mae: 14.7400\n",
            "Epoch 74/100\n",
            "2/2 [==============================] - 0s 9ms/step - loss: 8.5558 - mae: 8.5558\n",
            "Epoch 75/100\n",
            "2/2 [==============================] - 0s 13ms/step - loss: 17.0101 - mae: 17.0101\n",
            "Epoch 76/100\n",
            "2/2 [==============================] - 0s 8ms/step - loss: 10.7878 - mae: 10.7878\n",
            "Epoch 77/100\n",
            "2/2 [==============================] - 0s 9ms/step - loss: 12.6265 - mae: 12.6265\n",
            "Epoch 78/100\n",
            "2/2 [==============================] - 0s 10ms/step - loss: 8.8127 - mae: 8.8127\n",
            "Epoch 79/100\n",
            "2/2 [==============================] - 0s 10ms/step - loss: 8.9386 - mae: 8.9386\n",
            "Epoch 80/100\n",
            "2/2 [==============================] - 0s 12ms/step - loss: 14.3349 - mae: 14.3349\n",
            "Epoch 81/100\n",
            "2/2 [==============================] - 0s 13ms/step - loss: 9.4463 - mae: 9.4463\n",
            "Epoch 82/100\n",
            "2/2 [==============================] - 0s 13ms/step - loss: 8.6210 - mae: 8.6210\n",
            "Epoch 83/100\n",
            "2/2 [==============================] - 0s 15ms/step - loss: 8.3974 - mae: 8.3974\n",
            "Epoch 84/100\n",
            "2/2 [==============================] - 0s 9ms/step - loss: 14.2024 - mae: 14.2024\n",
            "Epoch 85/100\n",
            "2/2 [==============================] - 0s 9ms/step - loss: 8.8979 - mae: 8.8979\n",
            "Epoch 86/100\n",
            "2/2 [==============================] - 0s 9ms/step - loss: 10.2157 - mae: 10.2157\n",
            "Epoch 87/100\n",
            "2/2 [==============================] - 0s 10ms/step - loss: 17.4744 - mae: 17.4744\n",
            "Epoch 88/100\n",
            "2/2 [==============================] - 0s 11ms/step - loss: 8.6382 - mae: 8.6382\n",
            "Epoch 89/100\n",
            "2/2 [==============================] - 0s 11ms/step - loss: 8.8440 - mae: 8.8440\n",
            "Epoch 90/100\n",
            "2/2 [==============================] - 0s 11ms/step - loss: 8.9379 - mae: 8.9379\n",
            "Epoch 91/100\n",
            "2/2 [==============================] - 0s 10ms/step - loss: 9.4289 - mae: 9.4289\n",
            "Epoch 92/100\n",
            "2/2 [==============================] - 0s 19ms/step - loss: 13.7171 - mae: 13.7171\n",
            "Epoch 93/100\n",
            "2/2 [==============================] - 0s 14ms/step - loss: 15.4072 - mae: 15.4072\n",
            "Epoch 94/100\n",
            "2/2 [==============================] - 0s 16ms/step - loss: 16.0500 - mae: 16.0500\n",
            "Epoch 95/100\n",
            "2/2 [==============================] - 0s 19ms/step - loss: 9.6767 - mae: 9.6767\n",
            "Epoch 96/100\n",
            "2/2 [==============================] - 0s 16ms/step - loss: 21.8735 - mae: 21.8735\n",
            "Epoch 97/100\n",
            "2/2 [==============================] - 0s 12ms/step - loss: 8.6479 - mae: 8.6479\n",
            "Epoch 98/100\n",
            "2/2 [==============================] - 0s 12ms/step - loss: 8.2087 - mae: 8.2087\n",
            "Epoch 99/100\n",
            "2/2 [==============================] - 0s 12ms/step - loss: 8.9055 - mae: 8.9055\n",
            "Epoch 100/100\n",
            "2/2 [==============================] - 0s 12ms/step - loss: 17.0087 - mae: 17.0087\n"
          ]
        },
        {
          "output_type": "execute_result",
          "data": {
            "text/plain": [
              "<keras.callbacks.History at 0x7f984972f550>"
            ]
          },
          "metadata": {},
          "execution_count": 45
        }
      ]
    },
    {
      "cell_type": "code",
      "source": [
        "def prediction_function (model, \n",
        "                         X_test=X_test,\n",
        "                         y_true=y_test):\n",
        "  \n",
        "  \"\"\"Function for evaluating the model. \n",
        "  Prints the data and reports the MAE & MSE.\n",
        "  Return the predicted labels.\n",
        "  \"\"\"\n",
        "  y_pred = model.predict(X_test)\n",
        "  plt.scatter(X_train, y_train, c=\"b\", label=\"Training Data\")\n",
        "  plt.scatter(X_test, y_test, c=\"g\", label=\"Test Data\")\n",
        "  plt.scatter(X_test, y_pred, c=\"r\", label=\"Predictions\")\n",
        "  plt.legend();\n",
        "  mae_ = mae(y_true, y_pred).numpy()\n",
        "  mse_ = mse(y_true, y_pred).numpy()\n",
        "  print(f\"The MAE is: {mae_}\")\n",
        "  print(f\"The MSE is: {mse_}\")\n",
        "  return (y_pred, mae_, mse_)"
      ],
      "metadata": {
        "id": "Th8LzblxCdjn"
      },
      "execution_count": 46,
      "outputs": []
    },
    {
      "cell_type": "code",
      "source": [
        "y_pred_1, mae_1, mse_1 = prediction_function(model_1, X_test, y_test)"
      ],
      "metadata": {
        "colab": {
          "base_uri": "https://localhost:8080/",
          "height": 356
        },
        "id": "Z1Sg65VjM2I4",
        "outputId": "3084acd6-21b9-47d7-a400-81a8ebde0806"
      },
      "execution_count": 47,
      "outputs": [
        {
          "output_type": "stream",
          "name": "stderr",
          "text": [
            "WARNING:tensorflow:5 out of the last 8 calls to <function Model.make_predict_function.<locals>.predict_function at 0x7f9859c85670> triggered tf.function retracing. Tracing is expensive and the excessive number of tracings could be due to (1) creating @tf.function repeatedly in a loop, (2) passing tensors with different shapes, (3) passing Python objects instead of tensors. For (1), please define your @tf.function outside of the loop. For (2), @tf.function has reduce_retracing=True option that can avoid unnecessary retracing. For (3), please refer to https://www.tensorflow.org/guide/function#controlling_retracing and https://www.tensorflow.org/api_docs/python/tf/function for  more details.\n"
          ]
        },
        {
          "output_type": "stream",
          "name": "stdout",
          "text": [
            "1/1 [==============================] - 0s 83ms/step\n",
            "The MAE is: 19.013839721679688\n",
            "The MSE is: 515.9591674804688\n"
          ]
        },
        {
          "output_type": "display_data",
          "data": {
            "text/plain": [
              "<Figure size 432x288 with 1 Axes>"
            ],
            "image/png": "[encoded data removed]"
          },
          "metadata": {
            "needs_background": "light"
          }
        }
      ]
    },
    {
      "cell_type": "code",
      "source": [
        "y_pred_1"
      ],
      "metadata": {
        "colab": {
          "base_uri": "https://localhost:8080/"
        },
        "id": "l1eWQ48_NFkq",
        "outputId": "c93b11c1-2c0d-4f36-8334-f76454f885e3"
      },
      "execution_count": 48,
      "outputs": [
        {
          "output_type": "execute_result",
          "data": {
            "text/plain": [
              "array([[ -6.2038107],\n",
              "       [ 50.56121  ],\n",
              "       [-19.104952 ],\n",
              "       [  4.1171026],\n",
              "       [-57.80838  ],\n",
              "       [-42.327007 ],\n",
              "       [ 47.980984 ],\n",
              "       [ 55.72167  ],\n",
              "       [-37.166553 ],\n",
              "       [  9.277559 ]], dtype=float32)"
            ]
          },
          "metadata": {},
          "execution_count": 48
        }
      ]
    },
    {
      "cell_type": "code",
      "source": [],
      "metadata": {
        "id": "njavXZdxPh50"
      },
      "execution_count": 48,
      "outputs": []
    },
    {
      "cell_type": "markdown",
      "source": [
        "**Build `model_2`** \n",
        "*(adding 2 layers and 10 hidden units)*"
      ],
      "metadata": {
        "id": "USqsNwfaOVoE"
      }
    },
    {
      "cell_type": "code",
      "source": [
        "model_2 = tf.keras.Sequential([\n",
        "    tf.keras.layers.Dense(10, name=\"input_layer\", input_shape=[1]),\n",
        "    tf.keras.layers.Dense(1, name=\"hidden_layer\")\n",
        "], name=\"model_2\")\n",
        "\n",
        "model_2.compile(loss=tf.keras.losses.mae,\n",
        "                optimizer=tf.keras.optimizers.SGD(),\n",
        "                metrics=\"mae\")\n",
        "model_2.summary()"
      ],
      "metadata": {
        "colab": {
          "base_uri": "https://localhost:8080/"
        },
        "id": "JmJsxiQrOhLj",
        "outputId": "9c4fec9a-0f86-402d-8bbd-bedce8d38271"
      },
      "execution_count": 49,
      "outputs": [
        {
          "output_type": "stream",
          "name": "stdout",
          "text": [
            "Model: \"model_2\"\n",
            "_________________________________________________________________\n",
            " Layer (type)                Output Shape              Param #   \n",
            "=================================================================\n",
            " input_layer (Dense)         (None, 10)                20        \n",
            "                                                                 \n",
            " hidden_layer (Dense)        (None, 1)                 11        \n",
            "                                                                 \n",
            "=================================================================\n",
            "Total params: 31\n",
            "Trainable params: 31\n",
            "Non-trainable params: 0\n",
            "_________________________________________________________________\n"
          ]
        }
      ]
    },
    {
      "cell_type": "code",
      "source": [
        "model_2.fit(tf.expand_dims(X_train, axis=-1), y_train, epochs=100)"
      ],
      "metadata": {
        "colab": {
          "base_uri": "https://localhost:8080/"
        },
        "id": "BF-AF4gQQAAO",
        "outputId": "4908396e-3eba-4419-a063-b3e458d6e39a"
      },
      "execution_count": 50,
      "outputs": [
        {
          "output_type": "stream",
          "name": "stdout",
          "text": [
            "Epoch 1/100\n",
            "2/2 [==============================] - 0s 9ms/step - loss: 68.2131 - mae: 68.2131\n",
            "Epoch 2/100\n",
            "2/2 [==============================] - 0s 6ms/step - loss: 37.8057 - mae: 37.8057\n",
            "Epoch 3/100\n",
            "2/2 [==============================] - 0s 6ms/step - loss: 33.0942 - mae: 33.0942\n",
            "Epoch 4/100\n",
            "2/2 [==============================] - 0s 8ms/step - loss: 14.5556 - mae: 14.5556\n",
            "Epoch 5/100\n",
            "2/2 [==============================] - 0s 7ms/step - loss: 14.2667 - mae: 14.2667\n",
            "Epoch 6/100\n",
            "2/2 [==============================] - 0s 8ms/step - loss: 22.7915 - mae: 22.7915\n",
            "Epoch 7/100\n",
            "2/2 [==============================] - 0s 7ms/step - loss: 9.7189 - mae: 9.7189\n",
            "Epoch 8/100\n",
            "2/2 [==============================] - 0s 7ms/step - loss: 10.1184 - mae: 10.1184\n",
            "Epoch 9/100\n",
            "2/2 [==============================] - 0s 9ms/step - loss: 10.4275 - mae: 10.4275\n",
            "Epoch 10/100\n",
            "2/2 [==============================] - 0s 7ms/step - loss: 17.2181 - mae: 17.2181\n",
            "Epoch 11/100\n",
            "2/2 [==============================] - 0s 7ms/step - loss: 33.8599 - mae: 33.8599\n",
            "Epoch 12/100\n",
            "2/2 [==============================] - 0s 6ms/step - loss: 27.2698 - mae: 27.2698\n",
            "Epoch 13/100\n",
            "2/2 [==============================] - 0s 6ms/step - loss: 17.8403 - mae: 17.8403\n",
            "Epoch 14/100\n",
            "2/2 [==============================] - 0s 12ms/step - loss: 35.2012 - mae: 35.2012\n",
            "Epoch 15/100\n",
            "2/2 [==============================] - 0s 9ms/step - loss: 14.1904 - mae: 14.1904\n",
            "Epoch 16/100\n",
            "2/2 [==============================] - 0s 6ms/step - loss: 21.0723 - mae: 21.0723\n",
            "Epoch 17/100\n",
            "2/2 [==============================] - 0s 8ms/step - loss: 9.5623 - mae: 9.5623\n",
            "Epoch 18/100\n",
            "2/2 [==============================] - 0s 7ms/step - loss: 15.0028 - mae: 15.0028\n",
            "Epoch 19/100\n",
            "2/2 [==============================] - 0s 8ms/step - loss: 16.3863 - mae: 16.3863\n",
            "Epoch 20/100\n",
            "2/2 [==============================] - 0s 7ms/step - loss: 25.9406 - mae: 25.9406\n",
            "Epoch 21/100\n",
            "2/2 [==============================] - 0s 8ms/step - loss: 9.6385 - mae: 9.6385\n",
            "Epoch 22/100\n",
            "2/2 [==============================] - 0s 7ms/step - loss: 19.1569 - mae: 19.1569\n",
            "Epoch 23/100\n",
            "2/2 [==============================] - 0s 8ms/step - loss: 10.5512 - mae: 10.5512\n",
            "Epoch 24/100\n",
            "2/2 [==============================] - 0s 7ms/step - loss: 26.6168 - mae: 26.6168\n",
            "Epoch 25/100\n",
            "2/2 [==============================] - 0s 7ms/step - loss: 46.5892 - mae: 46.5892\n",
            "Epoch 26/100\n",
            "2/2 [==============================] - 0s 7ms/step - loss: 23.5105 - mae: 23.5105\n",
            "Epoch 27/100\n",
            "2/2 [==============================] - 0s 7ms/step - loss: 18.2575 - mae: 18.2575\n",
            "Epoch 28/100\n",
            "2/2 [==============================] - 0s 7ms/step - loss: 26.7324 - mae: 26.7324\n",
            "Epoch 29/100\n",
            "2/2 [==============================] - 0s 7ms/step - loss: 9.7734 - mae: 9.7734\n",
            "Epoch 30/100\n",
            "2/2 [==============================] - 0s 7ms/step - loss: 10.3762 - mae: 10.3762\n",
            "Epoch 31/100\n",
            "2/2 [==============================] - 0s 6ms/step - loss: 20.0373 - mae: 20.0373\n",
            "Epoch 32/100\n",
            "2/2 [==============================] - 0s 6ms/step - loss: 18.3868 - mae: 18.3868\n",
            "Epoch 33/100\n",
            "2/2 [==============================] - 0s 7ms/step - loss: 15.0435 - mae: 15.0435\n",
            "Epoch 34/100\n",
            "2/2 [==============================] - 0s 7ms/step - loss: 20.9261 - mae: 20.9261\n",
            "Epoch 35/100\n",
            "2/2 [==============================] - 0s 7ms/step - loss: 25.9936 - mae: 25.9936\n",
            "Epoch 36/100\n",
            "2/2 [==============================] - 0s 7ms/step - loss: 31.8481 - mae: 31.8481\n",
            "Epoch 37/100\n",
            "2/2 [==============================] - 0s 7ms/step - loss: 25.8551 - mae: 25.8551\n",
            "Epoch 38/100\n",
            "2/2 [==============================] - 0s 8ms/step - loss: 14.8265 - mae: 14.8265\n",
            "Epoch 39/100\n",
            "2/2 [==============================] - 0s 7ms/step - loss: 37.3814 - mae: 37.3814\n",
            "Epoch 40/100\n",
            "2/2 [==============================] - 0s 9ms/step - loss: 9.7966 - mae: 9.7966\n",
            "Epoch 41/100\n",
            "2/2 [==============================] - 0s 6ms/step - loss: 13.3989 - mae: 13.3989\n",
            "Epoch 42/100\n",
            "2/2 [==============================] - 0s 7ms/step - loss: 15.6516 - mae: 15.6516\n",
            "Epoch 43/100\n",
            "2/2 [==============================] - 0s 7ms/step - loss: 9.4777 - mae: 9.4777\n",
            "Epoch 44/100\n",
            "2/2 [==============================] - 0s 6ms/step - loss: 36.1685 - mae: 36.1685\n",
            "Epoch 45/100\n",
            "2/2 [==============================] - 0s 7ms/step - loss: 16.6626 - mae: 16.6626\n",
            "Epoch 46/100\n",
            "2/2 [==============================] - 0s 9ms/step - loss: 12.1835 - mae: 12.1835\n",
            "Epoch 47/100\n",
            "2/2 [==============================] - 0s 7ms/step - loss: 24.4160 - mae: 24.4160\n",
            "Epoch 48/100\n",
            "2/2 [==============================] - 0s 7ms/step - loss: 16.6516 - mae: 16.6516\n",
            "Epoch 49/100\n",
            "2/2 [==============================] - 0s 7ms/step - loss: 20.1412 - mae: 20.1412\n",
            "Epoch 50/100\n",
            "2/2 [==============================] - 0s 7ms/step - loss: 20.8730 - mae: 20.8730\n",
            "Epoch 51/100\n",
            "2/2 [==============================] - 0s 10ms/step - loss: 21.5648 - mae: 21.5648\n",
            "Epoch 52/100\n",
            "2/2 [==============================] - 0s 8ms/step - loss: 18.0708 - mae: 18.0708\n",
            "Epoch 53/100\n",
            "2/2 [==============================] - 0s 6ms/step - loss: 32.8665 - mae: 32.8665\n",
            "Epoch 54/100\n",
            "2/2 [==============================] - 0s 7ms/step - loss: 16.9661 - mae: 16.9661\n",
            "Epoch 55/100\n",
            "2/2 [==============================] - 0s 9ms/step - loss: 12.9796 - mae: 12.9796\n",
            "Epoch 56/100\n",
            "2/2 [==============================] - 0s 7ms/step - loss: 24.7405 - mae: 24.7405\n",
            "Epoch 57/100\n",
            "2/2 [==============================] - 0s 7ms/step - loss: 22.0521 - mae: 22.0521\n",
            "Epoch 58/100\n",
            "2/2 [==============================] - 0s 6ms/step - loss: 18.2420 - mae: 18.2420\n",
            "Epoch 59/100\n",
            "2/2 [==============================] - 0s 7ms/step - loss: 27.5224 - mae: 27.5224\n",
            "Epoch 60/100\n",
            "2/2 [==============================] - 0s 7ms/step - loss: 21.7382 - mae: 21.7382\n",
            "Epoch 61/100\n",
            "2/2 [==============================] - 0s 7ms/step - loss: 18.7305 - mae: 18.7305\n",
            "Epoch 62/100\n",
            "2/2 [==============================] - 0s 8ms/step - loss: 27.3974 - mae: 27.3974\n",
            "Epoch 63/100\n",
            "2/2 [==============================] - 0s 11ms/step - loss: 43.5360 - mae: 43.5360\n",
            "Epoch 64/100\n",
            "2/2 [==============================] - 0s 9ms/step - loss: 9.1737 - mae: 9.1737\n",
            "Epoch 65/100\n",
            "2/2 [==============================] - 0s 7ms/step - loss: 17.0964 - mae: 17.0964\n",
            "Epoch 66/100\n",
            "2/2 [==============================] - 0s 7ms/step - loss: 22.7959 - mae: 22.7959\n",
            "Epoch 67/100\n",
            "2/2 [==============================] - 0s 7ms/step - loss: 19.3124 - mae: 19.3124\n",
            "Epoch 68/100\n",
            "2/2 [==============================] - 0s 7ms/step - loss: 15.3763 - mae: 15.3763\n",
            "Epoch 69/100\n",
            "2/2 [==============================] - 0s 6ms/step - loss: 8.8982 - mae: 8.8982\n",
            "Epoch 70/100\n",
            "2/2 [==============================] - 0s 7ms/step - loss: 8.8362 - mae: 8.8362\n",
            "Epoch 71/100\n",
            "2/2 [==============================] - 0s 7ms/step - loss: 19.8139 - mae: 19.8139\n",
            "Epoch 72/100\n",
            "2/2 [==============================] - 0s 7ms/step - loss: 19.5719 - mae: 19.5719\n",
            "Epoch 73/100\n",
            "2/2 [==============================] - 0s 6ms/step - loss: 27.8517 - mae: 27.8517\n",
            "Epoch 74/100\n",
            "2/2 [==============================] - 0s 9ms/step - loss: 20.0097 - mae: 20.0097\n",
            "Epoch 75/100\n",
            "2/2 [==============================] - 0s 7ms/step - loss: 8.9152 - mae: 8.9152\n",
            "Epoch 76/100\n",
            "2/2 [==============================] - 0s 7ms/step - loss: 9.4574 - mae: 9.4574\n",
            "Epoch 77/100\n",
            "2/2 [==============================] - 0s 7ms/step - loss: 29.5821 - mae: 29.5821\n",
            "Epoch 78/100\n",
            "2/2 [==============================] - 0s 7ms/step - loss: 19.7645 - mae: 19.7645\n",
            "Epoch 79/100\n",
            "2/2 [==============================] - 0s 9ms/step - loss: 25.8408 - mae: 25.8408\n",
            "Epoch 80/100\n",
            "2/2 [==============================] - 0s 7ms/step - loss: 11.8556 - mae: 11.8556\n",
            "Epoch 81/100\n",
            "2/2 [==============================] - 0s 9ms/step - loss: 8.8717 - mae: 8.8717\n",
            "Epoch 82/100\n",
            "2/2 [==============================] - 0s 8ms/step - loss: 17.0849 - mae: 17.0849\n",
            "Epoch 83/100\n",
            "2/2 [==============================] - 0s 8ms/step - loss: 24.7365 - mae: 24.7365\n",
            "Epoch 84/100\n",
            "2/2 [==============================] - 0s 7ms/step - loss: 24.5467 - mae: 24.5467\n",
            "Epoch 85/100\n",
            "2/2 [==============================] - 0s 7ms/step - loss: 11.6365 - mae: 11.6365\n",
            "Epoch 86/100\n",
            "2/2 [==============================] - 0s 8ms/step - loss: 13.3423 - mae: 13.3423\n",
            "Epoch 87/100\n",
            "2/2 [==============================] - 0s 6ms/step - loss: 37.8947 - mae: 37.8947\n",
            "Epoch 88/100\n",
            "2/2 [==============================] - 0s 7ms/step - loss: 8.8789 - mae: 8.8789\n",
            "Epoch 89/100\n",
            "2/2 [==============================] - 0s 7ms/step - loss: 9.9097 - mae: 9.9097\n",
            "Epoch 90/100\n",
            "2/2 [==============================] - 0s 7ms/step - loss: 29.2781 - mae: 29.2781\n",
            "Epoch 91/100\n",
            "2/2 [==============================] - 0s 7ms/step - loss: 14.0200 - mae: 14.0200\n",
            "Epoch 92/100\n",
            "2/2 [==============================] - 0s 7ms/step - loss: 22.0413 - mae: 22.0413\n",
            "Epoch 93/100\n",
            "2/2 [==============================] - 0s 8ms/step - loss: 32.8050 - mae: 32.8050\n",
            "Epoch 94/100\n",
            "2/2 [==============================] - 0s 10ms/step - loss: 19.8694 - mae: 19.8694\n",
            "Epoch 95/100\n",
            "2/2 [==============================] - 0s 9ms/step - loss: 22.4097 - mae: 22.4097\n",
            "Epoch 96/100\n",
            "2/2 [==============================] - 0s 7ms/step - loss: 36.2980 - mae: 36.2980\n",
            "Epoch 97/100\n",
            "2/2 [==============================] - 0s 7ms/step - loss: 11.1777 - mae: 11.1777\n",
            "Epoch 98/100\n",
            "2/2 [==============================] - 0s 8ms/step - loss: 29.4979 - mae: 29.4979\n",
            "Epoch 99/100\n",
            "2/2 [==============================] - 0s 8ms/step - loss: 14.1603 - mae: 14.1603\n",
            "Epoch 100/100\n",
            "2/2 [==============================] - 0s 7ms/step - loss: 15.6250 - mae: 15.6250\n"
          ]
        },
        {
          "output_type": "execute_result",
          "data": {
            "text/plain": [
              "<keras.callbacks.History at 0x7f9859bb42b0>"
            ]
          },
          "metadata": {},
          "execution_count": 50
        }
      ]
    },
    {
      "cell_type": "code",
      "source": [
        "y_pred_2, mae_2, mse_2 = prediction_function(model_2, X_test, y_test)"
      ],
      "metadata": {
        "colab": {
          "base_uri": "https://localhost:8080/",
          "height": 356
        },
        "id": "drKYAfFPQqLA",
        "outputId": "4af5f9d7-5a50-4f23-a08e-b86c0e2062f8"
      },
      "execution_count": 51,
      "outputs": [
        {
          "output_type": "stream",
          "name": "stderr",
          "text": [
            "WARNING:tensorflow:6 out of the last 9 calls to <function Model.make_predict_function.<locals>.predict_function at 0x7f9859bb13a0> triggered tf.function retracing. Tracing is expensive and the excessive number of tracings could be due to (1) creating @tf.function repeatedly in a loop, (2) passing tensors with different shapes, (3) passing Python objects instead of tensors. For (1), please define your @tf.function outside of the loop. For (2), @tf.function has reduce_retracing=True option that can avoid unnecessary retracing. For (3), please refer to https://www.tensorflow.org/guide/function#controlling_retracing and https://www.tensorflow.org/api_docs/python/tf/function for  more details.\n"
          ]
        },
        {
          "output_type": "stream",
          "name": "stdout",
          "text": [
            "1/1 [==============================] - 0s 60ms/step\n",
            "The MAE is: 8.530996322631836\n",
            "The MSE is: 73.1279067993164\n"
          ]
        },
        {
          "output_type": "display_data",
          "data": {
            "text/plain": [
              "<Figure size 432x288 with 1 Axes>"
            ],
            "image/png": "[encoded data removed]"
          },
          "metadata": {
            "needs_background": "light"
          }
        }
      ]
    },
    {
      "cell_type": "markdown",
      "source": [
        "**Build `model_3`**\n",
        "*(2 layers, trained for 500 epochs)"
      ],
      "metadata": {
        "id": "9yylGMOJQrFe"
      }
    },
    {
      "cell_type": "code",
      "source": [
        "model_3 = tf.keras.Sequential([\n",
        "    tf.keras.layers.Dense(10, name=\"input_layer\", input_shape=[1]),\n",
        "    tf.keras.layers.Dense(1, name=\"hidden_layer\")\n",
        "], name=\"model_3\")\n",
        "\n",
        "model_3.compile(loss=tf.keras.losses.mae,\n",
        "                optimizer=tf.keras.optimizers.SGD())\n",
        "\n",
        "model_3.summary()"
      ],
      "metadata": {
        "colab": {
          "base_uri": "https://localhost:8080/"
        },
        "id": "h58xfI-dacv0",
        "outputId": "035a8a2a-d56c-4ef5-e9e0-e446ca48a2ba"
      },
      "execution_count": 52,
      "outputs": [
        {
          "output_type": "stream",
          "name": "stdout",
          "text": [
            "Model: \"model_3\"\n",
            "_________________________________________________________________\n",
            " Layer (type)                Output Shape              Param #   \n",
            "=================================================================\n",
            " input_layer (Dense)         (None, 10)                20        \n",
            "                                                                 \n",
            " hidden_layer (Dense)        (None, 1)                 11        \n",
            "                                                                 \n",
            "=================================================================\n",
            "Total params: 31\n",
            "Trainable params: 31\n",
            "Non-trainable params: 0\n",
            "_________________________________________________________________\n"
          ]
        }
      ]
    },
    {
      "cell_type": "code",
      "source": [
        "model_3.fit(tf.expand_dims(X_train, axis=-1), y_train, epochs=500)"
      ],
      "metadata": {
        "colab": {
          "base_uri": "https://localhost:8080/"
        },
        "id": "-qNHA7UbbBhQ",
        "outputId": "58a46a39-d9cd-43a3-be41-33d7a0c3d6cd"
      },
      "execution_count": 53,
      "outputs": [
        {
          "output_type": "stream",
          "name": "stdout",
          "text": [
            "Epoch 1/500\n",
            "2/2 [==============================] - 0s 6ms/step - loss: 47.2408\n",
            "Epoch 2/500\n",
            "2/2 [==============================] - 0s 9ms/step - loss: 20.5130\n",
            "Epoch 3/500\n",
            "2/2 [==============================] - 0s 7ms/step - loss: 12.2788\n",
            "Epoch 4/500\n",
            "2/2 [==============================] - 0s 6ms/step - loss: 34.4223\n",
            "Epoch 5/500\n",
            "2/2 [==============================] - 0s 8ms/step - loss: 28.7222\n",
            "Epoch 6/500\n",
            "2/2 [==============================] - 0s 6ms/step - loss: 15.8239\n",
            "Epoch 7/500\n",
            "2/2 [==============================] - 0s 6ms/step - loss: 15.0310\n",
            "Epoch 8/500\n",
            "2/2 [==============================] - 0s 6ms/step - loss: 26.0123\n",
            "Epoch 9/500\n",
            "2/2 [==============================] - 0s 6ms/step - loss: 24.8419\n",
            "Epoch 10/500\n",
            "2/2 [==============================] - 0s 7ms/step - loss: 12.9049\n",
            "Epoch 11/500\n",
            "2/2 [==============================] - 0s 5ms/step - loss: 32.3706\n",
            "Epoch 12/500\n",
            "2/2 [==============================] - 0s 6ms/step - loss: 31.2909\n",
            "Epoch 13/500\n",
            "2/2 [==============================] - 0s 6ms/step - loss: 17.2110\n",
            "Epoch 14/500\n",
            "2/2 [==============================] - 0s 11ms/step - loss: 35.4588\n",
            "Epoch 15/500\n",
            "2/2 [==============================] - 0s 7ms/step - loss: 13.2207\n",
            "Epoch 16/500\n",
            "2/2 [==============================] - 0s 6ms/step - loss: 25.4430\n",
            "Epoch 17/500\n",
            "2/2 [==============================] - 0s 6ms/step - loss: 9.6554\n",
            "Epoch 18/500\n",
            "2/2 [==============================] - 0s 6ms/step - loss: 14.0874\n",
            "Epoch 19/500\n",
            "2/2 [==============================] - 0s 7ms/step - loss: 16.5500\n",
            "Epoch 20/500\n",
            "2/2 [==============================] - 0s 6ms/step - loss: 26.1725\n",
            "Epoch 21/500\n",
            "2/2 [==============================] - 0s 5ms/step - loss: 9.7008\n",
            "Epoch 22/500\n",
            "2/2 [==============================] - 0s 8ms/step - loss: 18.5310\n",
            "Epoch 23/500\n",
            "2/2 [==============================] - 0s 5ms/step - loss: 10.6320\n",
            "Epoch 24/500\n",
            "2/2 [==============================] - 0s 6ms/step - loss: 26.9566\n",
            "Epoch 25/500\n",
            "2/2 [==============================] - 0s 7ms/step - loss: 45.5116\n",
            "Epoch 26/500\n",
            "2/2 [==============================] - 0s 7ms/step - loss: 22.6360\n",
            "Epoch 27/500\n",
            "2/2 [==============================] - 0s 6ms/step - loss: 16.3929\n",
            "Epoch 28/500\n",
            "2/2 [==============================] - 0s 6ms/step - loss: 27.4887\n",
            "Epoch 29/500\n",
            "2/2 [==============================] - 0s 6ms/step - loss: 20.1472\n",
            "Epoch 30/500\n",
            "2/2 [==============================] - 0s 8ms/step - loss: 10.4426\n",
            "Epoch 31/500\n",
            "2/2 [==============================] - 0s 7ms/step - loss: 29.7939\n",
            "Epoch 32/500\n",
            "2/2 [==============================] - 0s 6ms/step - loss: 16.9435\n",
            "Epoch 33/500\n",
            "2/2 [==============================] - 0s 6ms/step - loss: 14.6175\n",
            "Epoch 34/500\n",
            "2/2 [==============================] - 0s 8ms/step - loss: 22.7261\n",
            "Epoch 35/500\n",
            "2/2 [==============================] - 0s 7ms/step - loss: 21.4493\n",
            "Epoch 36/500\n",
            "2/2 [==============================] - 0s 8ms/step - loss: 24.6460\n",
            "Epoch 37/500\n",
            "2/2 [==============================] - 0s 6ms/step - loss: 17.7826\n",
            "Epoch 38/500\n",
            "2/2 [==============================] - 0s 6ms/step - loss: 20.5717\n",
            "Epoch 39/500\n",
            "2/2 [==============================] - 0s 8ms/step - loss: 16.9497\n",
            "Epoch 40/500\n",
            "2/2 [==============================] - 0s 9ms/step - loss: 16.3044\n",
            "Epoch 41/500\n",
            "2/2 [==============================] - 0s 7ms/step - loss: 9.1101\n",
            "Epoch 42/500\n",
            "2/2 [==============================] - 0s 6ms/step - loss: 19.1744\n",
            "Epoch 43/500\n",
            "2/2 [==============================] - 0s 9ms/step - loss: 25.7935\n",
            "Epoch 44/500\n",
            "2/2 [==============================] - 0s 8ms/step - loss: 35.9626\n",
            "Epoch 45/500\n",
            "2/2 [==============================] - 0s 7ms/step - loss: 16.2530\n",
            "Epoch 46/500\n",
            "2/2 [==============================] - 0s 6ms/step - loss: 9.3945\n",
            "Epoch 47/500\n",
            "2/2 [==============================] - 0s 6ms/step - loss: 16.8486\n",
            "Epoch 48/500\n",
            "2/2 [==============================] - 0s 7ms/step - loss: 36.0266\n",
            "Epoch 49/500\n",
            "2/2 [==============================] - 0s 7ms/step - loss: 9.9819\n",
            "Epoch 50/500\n",
            "2/2 [==============================] - 0s 9ms/step - loss: 22.1637\n",
            "Epoch 51/500\n",
            "2/2 [==============================] - 0s 6ms/step - loss: 19.3987\n",
            "Epoch 52/500\n",
            "2/2 [==============================] - 0s 7ms/step - loss: 25.4955\n",
            "Epoch 53/500\n",
            "2/2 [==============================] - 0s 6ms/step - loss: 25.5112\n",
            "Epoch 54/500\n",
            "2/2 [==============================] - 0s 6ms/step - loss: 15.8256\n",
            "Epoch 55/500\n",
            "2/2 [==============================] - 0s 6ms/step - loss: 33.1056\n",
            "Epoch 56/500\n",
            "2/2 [==============================] - 0s 6ms/step - loss: 22.9919\n",
            "Epoch 57/500\n",
            "2/2 [==============================] - 0s 5ms/step - loss: 19.8666\n",
            "Epoch 58/500\n",
            "2/2 [==============================] - 0s 6ms/step - loss: 18.0056\n",
            "Epoch 59/500\n",
            "2/2 [==============================] - 0s 5ms/step - loss: 27.2527\n",
            "Epoch 60/500\n",
            "2/2 [==============================] - 0s 7ms/step - loss: 21.4292\n",
            "Epoch 61/500\n",
            "2/2 [==============================] - 0s 7ms/step - loss: 21.9489\n",
            "Epoch 62/500\n",
            "2/2 [==============================] - 0s 5ms/step - loss: 10.1002\n",
            "Epoch 63/500\n",
            "2/2 [==============================] - 0s 6ms/step - loss: 46.1952\n",
            "Epoch 64/500\n",
            "2/2 [==============================] - 0s 8ms/step - loss: 9.2726\n",
            "Epoch 65/500\n",
            "2/2 [==============================] - 0s 7ms/step - loss: 16.6684\n",
            "Epoch 66/500\n",
            "2/2 [==============================] - 0s 7ms/step - loss: 22.0959\n",
            "Epoch 67/500\n",
            "2/2 [==============================] - 0s 6ms/step - loss: 21.2779\n",
            "Epoch 68/500\n",
            "2/2 [==============================] - 0s 6ms/step - loss: 9.3784\n",
            "Epoch 69/500\n",
            "2/2 [==============================] - 0s 6ms/step - loss: 13.7653\n",
            "Epoch 70/500\n",
            "2/2 [==============================] - 0s 6ms/step - loss: 23.3244\n",
            "Epoch 71/500\n",
            "2/2 [==============================] - 0s 6ms/step - loss: 16.8741\n",
            "Epoch 72/500\n",
            "2/2 [==============================] - 0s 7ms/step - loss: 23.8049\n",
            "Epoch 73/500\n",
            "2/2 [==============================] - 0s 6ms/step - loss: 8.9511\n",
            "Epoch 74/500\n",
            "2/2 [==============================] - 0s 7ms/step - loss: 9.6797\n",
            "Epoch 75/500\n",
            "2/2 [==============================] - 0s 6ms/step - loss: 22.7093\n",
            "Epoch 76/500\n",
            "2/2 [==============================] - 0s 6ms/step - loss: 13.1797\n",
            "Epoch 77/500\n",
            "2/2 [==============================] - 0s 7ms/step - loss: 19.1351\n",
            "Epoch 78/500\n",
            "2/2 [==============================] - 0s 7ms/step - loss: 19.9664\n",
            "Epoch 79/500\n",
            "2/2 [==============================] - 0s 6ms/step - loss: 26.1609\n",
            "Epoch 80/500\n",
            "2/2 [==============================] - 0s 9ms/step - loss: 25.0296\n",
            "Epoch 81/500\n",
            "2/2 [==============================] - 0s 7ms/step - loss: 19.4847\n",
            "Epoch 82/500\n",
            "2/2 [==============================] - 0s 7ms/step - loss: 29.1234\n",
            "Epoch 83/500\n",
            "2/2 [==============================] - 0s 10ms/step - loss: 29.6973\n",
            "Epoch 84/500\n",
            "2/2 [==============================] - 0s 6ms/step - loss: 16.2434\n",
            "Epoch 85/500\n",
            "2/2 [==============================] - 0s 6ms/step - loss: 27.4174\n",
            "Epoch 86/500\n",
            "2/2 [==============================] - 0s 8ms/step - loss: 11.8631\n",
            "Epoch 87/500\n",
            "2/2 [==============================] - 0s 6ms/step - loss: 43.4361\n",
            "Epoch 88/500\n",
            "2/2 [==============================] - 0s 7ms/step - loss: 22.5193\n",
            "Epoch 89/500\n",
            "2/2 [==============================] - 0s 7ms/step - loss: 19.1590\n",
            "Epoch 90/500\n",
            "2/2 [==============================] - 0s 7ms/step - loss: 24.1970\n",
            "Epoch 91/500\n",
            "2/2 [==============================] - 0s 6ms/step - loss: 20.0885\n",
            "Epoch 92/500\n",
            "2/2 [==============================] - 0s 9ms/step - loss: 21.5794\n",
            "Epoch 93/500\n",
            "2/2 [==============================] - 0s 7ms/step - loss: 32.5485\n",
            "Epoch 94/500\n",
            "2/2 [==============================] - 0s 8ms/step - loss: 20.7254\n",
            "Epoch 95/500\n",
            "2/2 [==============================] - 0s 6ms/step - loss: 22.3388\n",
            "Epoch 96/500\n",
            "2/2 [==============================] - 0s 6ms/step - loss: 36.1063\n",
            "Epoch 97/500\n",
            "2/2 [==============================] - 0s 9ms/step - loss: 11.4340\n",
            "Epoch 98/500\n",
            "2/2 [==============================] - 0s 6ms/step - loss: 30.2357\n",
            "Epoch 99/500\n",
            "2/2 [==============================] - 0s 6ms/step - loss: 14.5900\n",
            "Epoch 100/500\n",
            "2/2 [==============================] - 0s 8ms/step - loss: 16.4795\n",
            "Epoch 101/500\n",
            "2/2 [==============================] - 0s 8ms/step - loss: 10.4241\n",
            "Epoch 102/500\n",
            "2/2 [==============================] - 0s 8ms/step - loss: 35.7586\n",
            "Epoch 103/500\n",
            "2/2 [==============================] - 0s 10ms/step - loss: 16.0219\n",
            "Epoch 104/500\n",
            "2/2 [==============================] - 0s 7ms/step - loss: 25.8430\n",
            "Epoch 105/500\n",
            "2/2 [==============================] - 0s 7ms/step - loss: 9.3000\n",
            "Epoch 106/500\n",
            "2/2 [==============================] - 0s 7ms/step - loss: 44.5739\n",
            "Epoch 107/500\n",
            "2/2 [==============================] - 0s 6ms/step - loss: 22.6613\n",
            "Epoch 108/500\n",
            "2/2 [==============================] - 0s 6ms/step - loss: 8.4409\n",
            "Epoch 109/500\n",
            "2/2 [==============================] - 0s 6ms/step - loss: 34.8596\n",
            "Epoch 110/500\n",
            "2/2 [==============================] - 0s 10ms/step - loss: 9.7580\n",
            "Epoch 111/500\n",
            "2/2 [==============================] - 0s 10ms/step - loss: 34.1678\n",
            "Epoch 112/500\n",
            "2/2 [==============================] - 0s 6ms/step - loss: 20.4835\n",
            "Epoch 113/500\n",
            "2/2 [==============================] - 0s 6ms/step - loss: 14.8947\n",
            "Epoch 114/500\n",
            "2/2 [==============================] - 0s 10ms/step - loss: 39.5319\n",
            "Epoch 115/500\n",
            "2/2 [==============================] - 0s 6ms/step - loss: 12.7438\n",
            "Epoch 116/500\n",
            "2/2 [==============================] - 0s 10ms/step - loss: 36.0712\n",
            "Epoch 117/500\n",
            "2/2 [==============================] - 0s 8ms/step - loss: 9.6775\n",
            "Epoch 118/500\n",
            "2/2 [==============================] - 0s 8ms/step - loss: 25.3377\n",
            "Epoch 119/500\n",
            "2/2 [==============================] - 0s 9ms/step - loss: 19.3698\n",
            "Epoch 120/500\n",
            "2/2 [==============================] - 0s 8ms/step - loss: 25.0212\n",
            "Epoch 121/500\n",
            "2/2 [==============================] - 0s 7ms/step - loss: 20.0074\n",
            "Epoch 122/500\n",
            "2/2 [==============================] - 0s 5ms/step - loss: 30.2473\n",
            "Epoch 123/500\n",
            "2/2 [==============================] - 0s 6ms/step - loss: 34.3229\n",
            "Epoch 124/500\n",
            "2/2 [==============================] - 0s 7ms/step - loss: 11.8662\n",
            "Epoch 125/500\n",
            "2/2 [==============================] - 0s 6ms/step - loss: 25.1267\n",
            "Epoch 126/500\n",
            "2/2 [==============================] - 0s 7ms/step - loss: 37.0843\n",
            "Epoch 127/500\n",
            "2/2 [==============================] - 0s 6ms/step - loss: 19.5721\n",
            "Epoch 128/500\n",
            "2/2 [==============================] - 0s 7ms/step - loss: 17.0598\n",
            "Epoch 129/500\n",
            "2/2 [==============================] - 0s 6ms/step - loss: 25.0833\n",
            "Epoch 130/500\n",
            "2/2 [==============================] - 0s 6ms/step - loss: 14.9937\n",
            "Epoch 131/500\n",
            "2/2 [==============================] - 0s 7ms/step - loss: 8.6644\n",
            "Epoch 132/500\n",
            "2/2 [==============================] - 0s 7ms/step - loss: 50.0597\n",
            "Epoch 133/500\n",
            "2/2 [==============================] - 0s 8ms/step - loss: 14.9446\n",
            "Epoch 134/500\n",
            "2/2 [==============================] - 0s 6ms/step - loss: 22.9475\n",
            "Epoch 135/500\n",
            "2/2 [==============================] - 0s 7ms/step - loss: 19.1372\n",
            "Epoch 136/500\n",
            "2/2 [==============================] - 0s 7ms/step - loss: 38.3456\n",
            "Epoch 137/500\n",
            "2/2 [==============================] - 0s 7ms/step - loss: 8.0805\n",
            "Epoch 138/500\n",
            "2/2 [==============================] - 0s 6ms/step - loss: 10.0664\n",
            "Epoch 139/500\n",
            "2/2 [==============================] - 0s 6ms/step - loss: 23.3891\n",
            "Epoch 140/500\n",
            "2/2 [==============================] - 0s 8ms/step - loss: 17.5859\n",
            "Epoch 141/500\n",
            "2/2 [==============================] - 0s 7ms/step - loss: 29.5634\n",
            "Epoch 142/500\n",
            "2/2 [==============================] - 0s 6ms/step - loss: 8.3897\n",
            "Epoch 143/500\n",
            "2/2 [==============================] - 0s 12ms/step - loss: 23.7716\n",
            "Epoch 144/500\n",
            "2/2 [==============================] - 0s 7ms/step - loss: 20.3068\n",
            "Epoch 145/500\n",
            "2/2 [==============================] - 0s 6ms/step - loss: 20.4008\n",
            "Epoch 146/500\n",
            "2/2 [==============================] - 0s 12ms/step - loss: 21.3531\n",
            "Epoch 147/500\n",
            "2/2 [==============================] - 0s 9ms/step - loss: 22.7362\n",
            "Epoch 148/500\n",
            "2/2 [==============================] - 0s 6ms/step - loss: 26.0021\n",
            "Epoch 149/500\n",
            "2/2 [==============================] - 0s 10ms/step - loss: 7.7995\n",
            "Epoch 150/500\n",
            "2/2 [==============================] - 0s 8ms/step - loss: 17.4935\n",
            "Epoch 151/500\n",
            "2/2 [==============================] - 0s 8ms/step - loss: 33.4433\n",
            "Epoch 152/500\n",
            "2/2 [==============================] - 0s 6ms/step - loss: 15.8969\n",
            "Epoch 153/500\n",
            "2/2 [==============================] - 0s 8ms/step - loss: 14.2713\n",
            "Epoch 154/500\n",
            "2/2 [==============================] - 0s 7ms/step - loss: 11.4072\n",
            "Epoch 155/500\n",
            "2/2 [==============================] - 0s 8ms/step - loss: 24.4226\n",
            "Epoch 156/500\n",
            "2/2 [==============================] - 0s 8ms/step - loss: 14.7215\n",
            "Epoch 157/500\n",
            "2/2 [==============================] - 0s 6ms/step - loss: 37.8722\n",
            "Epoch 158/500\n",
            "2/2 [==============================] - 0s 7ms/step - loss: 8.9584\n",
            "Epoch 159/500\n",
            "2/2 [==============================] - 0s 8ms/step - loss: 24.8332\n",
            "Epoch 160/500\n",
            "2/2 [==============================] - 0s 6ms/step - loss: 15.8663\n",
            "Epoch 161/500\n",
            "2/2 [==============================] - 0s 7ms/step - loss: 20.7967\n",
            "Epoch 162/500\n",
            "2/2 [==============================] - 0s 6ms/step - loss: 20.7559\n",
            "Epoch 163/500\n",
            "2/2 [==============================] - 0s 9ms/step - loss: 24.2675\n",
            "Epoch 164/500\n",
            "2/2 [==============================] - 0s 7ms/step - loss: 18.6425\n",
            "Epoch 165/500\n",
            "2/2 [==============================] - 0s 6ms/step - loss: 22.6219\n",
            "Epoch 166/500\n",
            "2/2 [==============================] - 0s 7ms/step - loss: 21.0934\n",
            "Epoch 167/500\n",
            "2/2 [==============================] - 0s 7ms/step - loss: 8.9123\n",
            "Epoch 168/500\n",
            "2/2 [==============================] - 0s 6ms/step - loss: 27.4880\n",
            "Epoch 169/500\n",
            "2/2 [==============================] - 0s 7ms/step - loss: 15.4911\n",
            "Epoch 170/500\n",
            "2/2 [==============================] - 0s 6ms/step - loss: 12.8156\n",
            "Epoch 171/500\n",
            "2/2 [==============================] - 0s 6ms/step - loss: 27.2915\n",
            "Epoch 172/500\n",
            "2/2 [==============================] - 0s 7ms/step - loss: 24.3273\n",
            "Epoch 173/500\n",
            "2/2 [==============================] - 0s 5ms/step - loss: 8.3573\n",
            "Epoch 174/500\n",
            "2/2 [==============================] - 0s 9ms/step - loss: 23.5433\n",
            "Epoch 175/500\n",
            "2/2 [==============================] - 0s 13ms/step - loss: 7.4794\n",
            "Epoch 176/500\n",
            "2/2 [==============================] - 0s 7ms/step - loss: 14.4444\n",
            "Epoch 177/500\n",
            "2/2 [==============================] - 0s 8ms/step - loss: 18.5642\n",
            "Epoch 178/500\n",
            "2/2 [==============================] - 0s 7ms/step - loss: 40.2917\n",
            "Epoch 179/500\n",
            "2/2 [==============================] - 0s 9ms/step - loss: 17.5074\n",
            "Epoch 180/500\n",
            "2/2 [==============================] - 0s 9ms/step - loss: 18.9984\n",
            "Epoch 181/500\n",
            "2/2 [==============================] - 0s 9ms/step - loss: 34.9955\n",
            "Epoch 182/500\n",
            "2/2 [==============================] - 0s 6ms/step - loss: 8.3333\n",
            "Epoch 183/500\n",
            "2/2 [==============================] - 0s 11ms/step - loss: 22.9540\n",
            "Epoch 184/500\n",
            "2/2 [==============================] - 0s 10ms/step - loss: 17.7402\n",
            "Epoch 185/500\n",
            "2/2 [==============================] - 0s 9ms/step - loss: 29.8020\n",
            "Epoch 186/500\n",
            "2/2 [==============================] - 0s 7ms/step - loss: 28.4977\n",
            "Epoch 187/500\n",
            "2/2 [==============================] - 0s 7ms/step - loss: 18.0410\n",
            "Epoch 188/500\n",
            "2/2 [==============================] - 0s 7ms/step - loss: 36.1096\n",
            "Epoch 189/500\n",
            "2/2 [==============================] - 0s 6ms/step - loss: 7.6435\n",
            "Epoch 190/500\n",
            "2/2 [==============================] - 0s 7ms/step - loss: 13.9222\n",
            "Epoch 191/500\n",
            "2/2 [==============================] - 0s 7ms/step - loss: 14.6180\n",
            "Epoch 192/500\n",
            "2/2 [==============================] - 0s 8ms/step - loss: 15.9305\n",
            "Epoch 193/500\n",
            "2/2 [==============================] - 0s 10ms/step - loss: 18.6155\n",
            "Epoch 194/500\n",
            "2/2 [==============================] - 0s 11ms/step - loss: 34.6983\n",
            "Epoch 195/500\n",
            "2/2 [==============================] - 0s 8ms/step - loss: 12.0773\n",
            "Epoch 196/500\n",
            "2/2 [==============================] - 0s 8ms/step - loss: 8.6696\n",
            "Epoch 197/500\n",
            "2/2 [==============================] - 0s 10ms/step - loss: 39.5829\n",
            "Epoch 198/500\n",
            "2/2 [==============================] - 0s 9ms/step - loss: 7.5661\n",
            "Epoch 199/500\n",
            "2/2 [==============================] - 0s 9ms/step - loss: 14.8429\n",
            "Epoch 200/500\n",
            "2/2 [==============================] - 0s 8ms/step - loss: 17.9873\n",
            "Epoch 201/500\n",
            "2/2 [==============================] - 0s 6ms/step - loss: 30.2342\n",
            "Epoch 202/500\n",
            "2/2 [==============================] - 0s 5ms/step - loss: 32.5634\n",
            "Epoch 203/500\n",
            "2/2 [==============================] - 0s 8ms/step - loss: 12.5827\n",
            "Epoch 204/500\n",
            "2/2 [==============================] - 0s 6ms/step - loss: 18.0597\n",
            "Epoch 205/500\n",
            "2/2 [==============================] - 0s 7ms/step - loss: 41.3897\n",
            "Epoch 206/500\n",
            "2/2 [==============================] - 0s 8ms/step - loss: 8.0719\n",
            "Epoch 207/500\n",
            "2/2 [==============================] - 0s 7ms/step - loss: 28.2021\n",
            "Epoch 208/500\n",
            "2/2 [==============================] - 0s 6ms/step - loss: 19.9379\n",
            "Epoch 209/500\n",
            "2/2 [==============================] - 0s 10ms/step - loss: 11.2360\n",
            "Epoch 210/500\n",
            "2/2 [==============================] - 0s 9ms/step - loss: 23.1959\n",
            "Epoch 211/500\n",
            "2/2 [==============================] - 0s 8ms/step - loss: 16.4808\n",
            "Epoch 212/500\n",
            "2/2 [==============================] - 0s 6ms/step - loss: 28.6318\n",
            "Epoch 213/500\n",
            "2/2 [==============================] - 0s 5ms/step - loss: 33.7755\n",
            "Epoch 214/500\n",
            "2/2 [==============================] - 0s 8ms/step - loss: 15.6335\n",
            "Epoch 215/500\n",
            "2/2 [==============================] - 0s 9ms/step - loss: 31.7944\n",
            "Epoch 216/500\n",
            "2/2 [==============================] - 0s 9ms/step - loss: 6.9401\n",
            "Epoch 217/500\n",
            "2/2 [==============================] - 0s 7ms/step - loss: 11.8888\n",
            "Epoch 218/500\n",
            "2/2 [==============================] - 0s 6ms/step - loss: 20.1846\n",
            "Epoch 219/500\n",
            "2/2 [==============================] - 0s 11ms/step - loss: 25.3987\n",
            "Epoch 220/500\n",
            "2/2 [==============================] - 0s 6ms/step - loss: 37.7368\n",
            "Epoch 221/500\n",
            "2/2 [==============================] - 0s 8ms/step - loss: 9.5077\n",
            "Epoch 222/500\n",
            "2/2 [==============================] - 0s 8ms/step - loss: 22.4082\n",
            "Epoch 223/500\n",
            "2/2 [==============================] - 0s 8ms/step - loss: 20.4903\n",
            "Epoch 224/500\n",
            "2/2 [==============================] - 0s 7ms/step - loss: 23.0949\n",
            "Epoch 225/500\n",
            "2/2 [==============================] - 0s 9ms/step - loss: 20.7386\n",
            "Epoch 226/500\n",
            "2/2 [==============================] - 0s 6ms/step - loss: 29.1334\n",
            "Epoch 227/500\n",
            "2/2 [==============================] - 0s 9ms/step - loss: 36.5562\n",
            "Epoch 228/500\n",
            "2/2 [==============================] - 0s 7ms/step - loss: 11.4965\n",
            "Epoch 229/500\n",
            "2/2 [==============================] - 0s 6ms/step - loss: 16.5193\n",
            "Epoch 230/500\n",
            "2/2 [==============================] - 0s 7ms/step - loss: 31.5192\n",
            "Epoch 231/500\n",
            "2/2 [==============================] - 0s 6ms/step - loss: 25.9410\n",
            "Epoch 232/500\n",
            "2/2 [==============================] - 0s 6ms/step - loss: 8.7535\n",
            "Epoch 233/500\n",
            "2/2 [==============================] - 0s 9ms/step - loss: 28.3356\n",
            "Epoch 234/500\n",
            "2/2 [==============================] - 0s 7ms/step - loss: 19.4332\n",
            "Epoch 235/500\n",
            "2/2 [==============================] - 0s 9ms/step - loss: 21.7576\n",
            "Epoch 236/500\n",
            "2/2 [==============================] - 0s 7ms/step - loss: 7.0024\n",
            "Epoch 237/500\n",
            "2/2 [==============================] - 0s 7ms/step - loss: 25.4601\n",
            "Epoch 238/500\n",
            "2/2 [==============================] - 0s 9ms/step - loss: 15.9324\n",
            "Epoch 239/500\n",
            "2/2 [==============================] - 0s 7ms/step - loss: 39.2867\n",
            "Epoch 240/500\n",
            "2/2 [==============================] - 0s 9ms/step - loss: 16.4835\n",
            "Epoch 241/500\n",
            "2/2 [==============================] - 0s 6ms/step - loss: 31.5196\n",
            "Epoch 242/500\n",
            "2/2 [==============================] - 0s 9ms/step - loss: 17.3478\n",
            "Epoch 243/500\n",
            "2/2 [==============================] - 0s 12ms/step - loss: 8.8139\n",
            "Epoch 244/500\n",
            "2/2 [==============================] - 0s 12ms/step - loss: 18.6224\n",
            "Epoch 245/500\n",
            "2/2 [==============================] - 0s 10ms/step - loss: 25.2495\n",
            "Epoch 246/500\n",
            "2/2 [==============================] - 0s 12ms/step - loss: 27.5052\n",
            "Epoch 247/500\n",
            "2/2 [==============================] - 0s 12ms/step - loss: 20.6108\n",
            "Epoch 248/500\n",
            "2/2 [==============================] - 0s 18ms/step - loss: 19.1416\n",
            "Epoch 249/500\n",
            "2/2 [==============================] - 0s 30ms/step - loss: 39.1510\n",
            "Epoch 250/500\n",
            "2/2 [==============================] - 0s 34ms/step - loss: 7.0468\n",
            "Epoch 251/500\n",
            "2/2 [==============================] - 0s 23ms/step - loss: 28.7526\n",
            "Epoch 252/500\n",
            "2/2 [==============================] - 0s 16ms/step - loss: 20.0326\n",
            "Epoch 253/500\n",
            "2/2 [==============================] - 0s 9ms/step - loss: 9.1582\n",
            "Epoch 254/500\n",
            "2/2 [==============================] - 0s 12ms/step - loss: 25.9872\n",
            "Epoch 255/500\n",
            "2/2 [==============================] - 0s 17ms/step - loss: 20.5417\n",
            "Epoch 256/500\n",
            "2/2 [==============================] - 0s 10ms/step - loss: 20.3806\n",
            "Epoch 257/500\n",
            "2/2 [==============================] - 0s 18ms/step - loss: 16.2246\n",
            "Epoch 258/500\n",
            "2/2 [==============================] - 0s 30ms/step - loss: 13.2523\n",
            "Epoch 259/500\n",
            "2/2 [==============================] - 0s 21ms/step - loss: 24.1480\n",
            "Epoch 260/500\n",
            "2/2 [==============================] - 0s 19ms/step - loss: 7.0616\n",
            "Epoch 261/500\n",
            "2/2 [==============================] - 0s 22ms/step - loss: 18.7267\n",
            "Epoch 262/500\n",
            "2/2 [==============================] - 0s 21ms/step - loss: 16.0414\n",
            "Epoch 263/500\n",
            "2/2 [==============================] - 0s 19ms/step - loss: 27.3990\n",
            "Epoch 264/500\n",
            "2/2 [==============================] - 0s 15ms/step - loss: 38.2631\n",
            "Epoch 265/500\n",
            "2/2 [==============================] - 0s 19ms/step - loss: 14.4569\n",
            "Epoch 266/500\n",
            "2/2 [==============================] - 0s 12ms/step - loss: 19.6632\n",
            "Epoch 267/500\n",
            "2/2 [==============================] - 0s 17ms/step - loss: 18.7503\n",
            "Epoch 268/500\n",
            "2/2 [==============================] - 0s 16ms/step - loss: 24.5140\n",
            "Epoch 269/500\n",
            "2/2 [==============================] - 0s 13ms/step - loss: 7.1129\n",
            "Epoch 270/500\n",
            "2/2 [==============================] - 0s 14ms/step - loss: 39.4475\n",
            "Epoch 271/500\n",
            "2/2 [==============================] - 0s 17ms/step - loss: 7.0482\n",
            "Epoch 272/500\n",
            "2/2 [==============================] - 0s 21ms/step - loss: 49.9851\n",
            "Epoch 273/500\n",
            "2/2 [==============================] - 0s 17ms/step - loss: 6.7106\n",
            "Epoch 274/500\n",
            "2/2 [==============================] - 0s 19ms/step - loss: 14.6499\n",
            "Epoch 275/500\n",
            "2/2 [==============================] - 0s 16ms/step - loss: 6.5912\n",
            "Epoch 276/500\n",
            "2/2 [==============================] - 0s 18ms/step - loss: 21.9893\n",
            "Epoch 277/500\n",
            "2/2 [==============================] - 0s 13ms/step - loss: 31.6549\n",
            "Epoch 278/500\n",
            "2/2 [==============================] - 0s 16ms/step - loss: 17.2771\n",
            "Epoch 279/500\n",
            "2/2 [==============================] - 0s 17ms/step - loss: 29.6496\n",
            "Epoch 280/500\n",
            "2/2 [==============================] - 0s 25ms/step - loss: 28.6940\n",
            "Epoch 281/500\n",
            "2/2 [==============================] - 0s 18ms/step - loss: 15.6998\n",
            "Epoch 282/500\n",
            "2/2 [==============================] - 0s 16ms/step - loss: 6.2305\n",
            "Epoch 283/500\n",
            "2/2 [==============================] - 0s 20ms/step - loss: 12.1874\n",
            "Epoch 284/500\n",
            "2/2 [==============================] - 0s 20ms/step - loss: 22.9505\n",
            "Epoch 285/500\n",
            "2/2 [==============================] - 0s 23ms/step - loss: 33.8632\n",
            "Epoch 286/500\n",
            "2/2 [==============================] - 0s 22ms/step - loss: 6.1714\n",
            "Epoch 287/500\n",
            "2/2 [==============================] - 0s 13ms/step - loss: 6.5551\n",
            "Epoch 288/500\n",
            "2/2 [==============================] - 0s 23ms/step - loss: 19.2227\n",
            "Epoch 289/500\n",
            "2/2 [==============================] - 0s 12ms/step - loss: 33.7834\n",
            "Epoch 290/500\n",
            "2/2 [==============================] - 0s 24ms/step - loss: 18.7077\n",
            "Epoch 291/500\n",
            "2/2 [==============================] - 0s 22ms/step - loss: 6.1198\n",
            "Epoch 292/500\n",
            "2/2 [==============================] - 0s 21ms/step - loss: 6.2018\n",
            "Epoch 293/500\n",
            "2/2 [==============================] - 0s 21ms/step - loss: 19.3369\n",
            "Epoch 294/500\n",
            "2/2 [==============================] - 0s 15ms/step - loss: 37.4585\n",
            "Epoch 295/500\n",
            "2/2 [==============================] - 0s 14ms/step - loss: 6.5149\n",
            "Epoch 296/500\n",
            "2/2 [==============================] - 0s 16ms/step - loss: 26.7565\n",
            "Epoch 297/500\n",
            "2/2 [==============================] - 0s 14ms/step - loss: 28.8502\n",
            "Epoch 298/500\n",
            "2/2 [==============================] - 0s 12ms/step - loss: 6.0331\n",
            "Epoch 299/500\n",
            "2/2 [==============================] - 0s 14ms/step - loss: 7.7957\n",
            "Epoch 300/500\n",
            "2/2 [==============================] - 0s 19ms/step - loss: 24.6047\n",
            "Epoch 301/500\n",
            "2/2 [==============================] - 0s 14ms/step - loss: 6.8992\n",
            "Epoch 302/500\n",
            "2/2 [==============================] - 0s 8ms/step - loss: 24.2433\n",
            "Epoch 303/500\n",
            "2/2 [==============================] - 0s 6ms/step - loss: 15.5216\n",
            "Epoch 304/500\n",
            "2/2 [==============================] - 0s 7ms/step - loss: 26.0678\n",
            "Epoch 305/500\n",
            "2/2 [==============================] - 0s 7ms/step - loss: 20.7560\n",
            "Epoch 306/500\n",
            "2/2 [==============================] - 0s 6ms/step - loss: 17.2225\n",
            "Epoch 307/500\n",
            "2/2 [==============================] - 0s 7ms/step - loss: 22.3219\n",
            "Epoch 308/500\n",
            "2/2 [==============================] - 0s 8ms/step - loss: 38.5264\n",
            "Epoch 309/500\n",
            "2/2 [==============================] - 0s 7ms/step - loss: 16.7380\n",
            "Epoch 310/500\n",
            "2/2 [==============================] - 0s 7ms/step - loss: 27.9517\n",
            "Epoch 311/500\n",
            "2/2 [==============================] - 0s 7ms/step - loss: 43.6347\n",
            "Epoch 312/500\n",
            "2/2 [==============================] - 0s 7ms/step - loss: 5.8235\n",
            "Epoch 313/500\n",
            "2/2 [==============================] - 0s 7ms/step - loss: 5.7674\n",
            "Epoch 314/500\n",
            "2/2 [==============================] - 0s 8ms/step - loss: 5.7689\n",
            "Epoch 315/500\n",
            "2/2 [==============================] - 0s 10ms/step - loss: 46.5312\n",
            "Epoch 316/500\n",
            "2/2 [==============================] - 0s 7ms/step - loss: 6.2156\n",
            "Epoch 317/500\n",
            "2/2 [==============================] - 0s 12ms/step - loss: 20.5946\n",
            "Epoch 318/500\n",
            "2/2 [==============================] - 0s 10ms/step - loss: 11.2067\n",
            "Epoch 319/500\n",
            "2/2 [==============================] - 0s 20ms/step - loss: 13.0904\n",
            "Epoch 320/500\n",
            "2/2 [==============================] - 0s 12ms/step - loss: 13.6528\n",
            "Epoch 321/500\n",
            "2/2 [==============================] - 0s 14ms/step - loss: 18.6128\n",
            "Epoch 322/500\n",
            "2/2 [==============================] - 0s 20ms/step - loss: 24.0429\n",
            "Epoch 323/500\n",
            "2/2 [==============================] - 0s 20ms/step - loss: 15.8196\n",
            "Epoch 324/500\n",
            "2/2 [==============================] - 0s 26ms/step - loss: 23.2154\n",
            "Epoch 325/500\n",
            "2/2 [==============================] - 0s 22ms/step - loss: 17.7584\n",
            "Epoch 326/500\n",
            "2/2 [==============================] - 0s 30ms/step - loss: 28.1803\n",
            "Epoch 327/500\n",
            "2/2 [==============================] - 0s 20ms/step - loss: 30.6100\n",
            "Epoch 328/500\n",
            "2/2 [==============================] - 0s 16ms/step - loss: 16.2345\n",
            "Epoch 329/500\n",
            "2/2 [==============================] - 0s 14ms/step - loss: 11.6980\n",
            "Epoch 330/500\n",
            "2/2 [==============================] - 0s 15ms/step - loss: 24.6863\n",
            "Epoch 331/500\n",
            "2/2 [==============================] - 0s 15ms/step - loss: 34.5064\n",
            "Epoch 332/500\n",
            "2/2 [==============================] - 0s 12ms/step - loss: 14.1762\n",
            "Epoch 333/500\n",
            "2/2 [==============================] - 0s 8ms/step - loss: 20.6645\n",
            "Epoch 334/500\n",
            "2/2 [==============================] - 0s 7ms/step - loss: 25.7941\n",
            "Epoch 335/500\n",
            "2/2 [==============================] - 0s 7ms/step - loss: 11.6250\n",
            "Epoch 336/500\n",
            "2/2 [==============================] - 0s 7ms/step - loss: 22.8538\n",
            "Epoch 337/500\n",
            "2/2 [==============================] - 0s 17ms/step - loss: 47.8282\n",
            "Epoch 338/500\n",
            "2/2 [==============================] - 0s 25ms/step - loss: 6.9377\n",
            "Epoch 339/500\n",
            "2/2 [==============================] - 0s 11ms/step - loss: 23.0933\n",
            "Epoch 340/500\n",
            "2/2 [==============================] - 0s 9ms/step - loss: 12.5903\n",
            "Epoch 341/500\n",
            "2/2 [==============================] - 0s 18ms/step - loss: 23.0656\n",
            "Epoch 342/500\n",
            "2/2 [==============================] - 0s 13ms/step - loss: 5.7445\n",
            "Epoch 343/500\n",
            "2/2 [==============================] - 0s 15ms/step - loss: 9.5897\n",
            "Epoch 344/500\n",
            "2/2 [==============================] - 0s 13ms/step - loss: 15.1081\n",
            "Epoch 345/500\n",
            "2/2 [==============================] - 0s 14ms/step - loss: 17.7256\n",
            "Epoch 346/500\n",
            "2/2 [==============================] - 0s 11ms/step - loss: 20.4161\n",
            "Epoch 347/500\n",
            "2/2 [==============================] - 0s 11ms/step - loss: 18.7488\n",
            "Epoch 348/500\n",
            "2/2 [==============================] - 0s 7ms/step - loss: 23.2647\n",
            "Epoch 349/500\n",
            "2/2 [==============================] - 0s 7ms/step - loss: 17.2553\n",
            "Epoch 350/500\n",
            "2/2 [==============================] - 0s 7ms/step - loss: 9.8180\n",
            "Epoch 351/500\n",
            "2/2 [==============================] - 0s 6ms/step - loss: 36.0645\n",
            "Epoch 352/500\n",
            "2/2 [==============================] - 0s 7ms/step - loss: 13.5248\n",
            "Epoch 353/500\n",
            "2/2 [==============================] - 0s 7ms/step - loss: 13.5085\n",
            "Epoch 354/500\n",
            "2/2 [==============================] - 0s 13ms/step - loss: 21.7021\n",
            "Epoch 355/500\n",
            "2/2 [==============================] - 0s 12ms/step - loss: 37.3773\n",
            "Epoch 356/500\n",
            "2/2 [==============================] - 0s 8ms/step - loss: 5.2281\n",
            "Epoch 357/500\n",
            "2/2 [==============================] - 0s 6ms/step - loss: 7.4700\n",
            "Epoch 358/500\n",
            "2/2 [==============================] - 0s 12ms/step - loss: 54.7926\n",
            "Epoch 359/500\n",
            "2/2 [==============================] - 0s 11ms/step - loss: 5.1809\n",
            "Epoch 360/500\n",
            "2/2 [==============================] - 0s 11ms/step - loss: 16.6100\n",
            "Epoch 361/500\n",
            "2/2 [==============================] - 0s 13ms/step - loss: 23.3834\n",
            "Epoch 362/500\n",
            "2/2 [==============================] - 0s 12ms/step - loss: 44.7469\n",
            "Epoch 363/500\n",
            "2/2 [==============================] - 0s 21ms/step - loss: 25.0145\n",
            "Epoch 364/500\n",
            "2/2 [==============================] - 0s 17ms/step - loss: 16.7709\n",
            "Epoch 365/500\n",
            "2/2 [==============================] - 0s 18ms/step - loss: 40.7098\n",
            "Epoch 366/500\n",
            "2/2 [==============================] - 0s 10ms/step - loss: 17.7277\n",
            "Epoch 367/500\n",
            "2/2 [==============================] - 0s 10ms/step - loss: 42.2708\n",
            "Epoch 368/500\n",
            "2/2 [==============================] - 0s 8ms/step - loss: 19.4514\n",
            "Epoch 369/500\n",
            "2/2 [==============================] - 0s 8ms/step - loss: 20.8946\n",
            "Epoch 370/500\n",
            "2/2 [==============================] - 0s 8ms/step - loss: 25.5715\n",
            "Epoch 371/500\n",
            "2/2 [==============================] - 0s 7ms/step - loss: 39.8315\n",
            "Epoch 372/500\n",
            "2/2 [==============================] - 0s 6ms/step - loss: 16.2254\n",
            "Epoch 373/500\n",
            "2/2 [==============================] - 0s 9ms/step - loss: 16.3390\n",
            "Epoch 374/500\n",
            "2/2 [==============================] - 0s 7ms/step - loss: 27.4341\n",
            "Epoch 375/500\n",
            "2/2 [==============================] - 0s 7ms/step - loss: 37.3439\n",
            "Epoch 376/500\n",
            "2/2 [==============================] - 0s 6ms/step - loss: 16.2279\n",
            "Epoch 377/500\n",
            "2/2 [==============================] - 0s 7ms/step - loss: 28.6597\n",
            "Epoch 378/500\n",
            "2/2 [==============================] - 0s 7ms/step - loss: 30.1397\n",
            "Epoch 379/500\n",
            "2/2 [==============================] - 0s 13ms/step - loss: 7.4960\n",
            "Epoch 380/500\n",
            "2/2 [==============================] - 0s 7ms/step - loss: 29.7084\n",
            "Epoch 381/500\n",
            "2/2 [==============================] - 0s 8ms/step - loss: 17.8817\n",
            "Epoch 382/500\n",
            "2/2 [==============================] - 0s 11ms/step - loss: 5.1977\n",
            "Epoch 383/500\n",
            "2/2 [==============================] - 0s 10ms/step - loss: 43.4007\n",
            "Epoch 384/500\n",
            "2/2 [==============================] - 0s 11ms/step - loss: 20.9730\n",
            "Epoch 385/500\n",
            "2/2 [==============================] - 0s 7ms/step - loss: 7.6708\n",
            "Epoch 386/500\n",
            "2/2 [==============================] - 0s 8ms/step - loss: 11.6390\n",
            "Epoch 387/500\n",
            "2/2 [==============================] - 0s 13ms/step - loss: 18.6977\n",
            "Epoch 388/500\n",
            "2/2 [==============================] - 0s 17ms/step - loss: 29.6977\n",
            "Epoch 389/500\n",
            "2/2 [==============================] - 0s 8ms/step - loss: 28.6025\n",
            "Epoch 390/500\n",
            "2/2 [==============================] - 0s 14ms/step - loss: 19.5095\n",
            "Epoch 391/500\n",
            "2/2 [==============================] - 0s 11ms/step - loss: 35.0640\n",
            "Epoch 392/500\n",
            "2/2 [==============================] - 0s 13ms/step - loss: 16.3574\n",
            "Epoch 393/500\n",
            "2/2 [==============================] - 0s 13ms/step - loss: 11.9911\n",
            "Epoch 394/500\n",
            "2/2 [==============================] - 0s 9ms/step - loss: 17.4327\n",
            "Epoch 395/500\n",
            "2/2 [==============================] - 0s 13ms/step - loss: 20.3706\n",
            "Epoch 396/500\n",
            "2/2 [==============================] - 0s 13ms/step - loss: 34.1033\n",
            "Epoch 397/500\n",
            "2/2 [==============================] - 0s 9ms/step - loss: 19.6833\n",
            "Epoch 398/500\n",
            "2/2 [==============================] - 0s 14ms/step - loss: 17.1041\n",
            "Epoch 399/500\n",
            "2/2 [==============================] - 0s 11ms/step - loss: 35.6794\n",
            "Epoch 400/500\n",
            "2/2 [==============================] - 0s 16ms/step - loss: 10.5386\n",
            "Epoch 401/500\n",
            "2/2 [==============================] - 0s 10ms/step - loss: 16.3551\n",
            "Epoch 402/500\n",
            "2/2 [==============================] - 0s 16ms/step - loss: 18.2467\n",
            "Epoch 403/500\n",
            "2/2 [==============================] - 0s 24ms/step - loss: 37.8049\n",
            "Epoch 404/500\n",
            "2/2 [==============================] - 0s 16ms/step - loss: 5.2310\n",
            "Epoch 405/500\n",
            "2/2 [==============================] - 0s 13ms/step - loss: 46.8606\n",
            "Epoch 406/500\n",
            "2/2 [==============================] - 0s 17ms/step - loss: 13.9096\n",
            "Epoch 407/500\n",
            "2/2 [==============================] - 0s 13ms/step - loss: 7.7758\n",
            "Epoch 408/500\n",
            "2/2 [==============================] - 0s 11ms/step - loss: 24.4986\n",
            "Epoch 409/500\n",
            "2/2 [==============================] - 0s 10ms/step - loss: 43.2082\n",
            "Epoch 410/500\n",
            "2/2 [==============================] - 0s 15ms/step - loss: 12.6333\n",
            "Epoch 411/500\n",
            "2/2 [==============================] - 0s 14ms/step - loss: 11.9095\n",
            "Epoch 412/500\n",
            "2/2 [==============================] - 0s 12ms/step - loss: 34.2744\n",
            "Epoch 413/500\n",
            "2/2 [==============================] - 0s 16ms/step - loss: 23.0344\n",
            "Epoch 414/500\n",
            "2/2 [==============================] - 0s 15ms/step - loss: 17.8021\n",
            "Epoch 415/500\n",
            "2/2 [==============================] - 0s 12ms/step - loss: 5.8325\n",
            "Epoch 416/500\n",
            "2/2 [==============================] - 0s 12ms/step - loss: 36.1869\n",
            "Epoch 417/500\n",
            "2/2 [==============================] - 0s 10ms/step - loss: 23.3046\n",
            "Epoch 418/500\n",
            "2/2 [==============================] - 0s 35ms/step - loss: 9.9422\n",
            "Epoch 419/500\n",
            "2/2 [==============================] - 0s 14ms/step - loss: 18.8260\n",
            "Epoch 420/500\n",
            "2/2 [==============================] - 0s 17ms/step - loss: 32.6776\n",
            "Epoch 421/500\n",
            "2/2 [==============================] - 0s 14ms/step - loss: 25.9918\n",
            "Epoch 422/500\n",
            "2/2 [==============================] - 0s 17ms/step - loss: 19.6354\n",
            "Epoch 423/500\n",
            "2/2 [==============================] - 0s 19ms/step - loss: 32.4994\n",
            "Epoch 424/500\n",
            "2/2 [==============================] - 0s 20ms/step - loss: 22.8912\n",
            "Epoch 425/500\n",
            "2/2 [==============================] - 0s 19ms/step - loss: 8.3899\n",
            "Epoch 426/500\n",
            "2/2 [==============================] - 0s 6ms/step - loss: 13.5700\n",
            "Epoch 427/500\n",
            "2/2 [==============================] - 0s 12ms/step - loss: 12.1715\n",
            "Epoch 428/500\n",
            "2/2 [==============================] - 0s 17ms/step - loss: 5.0211\n",
            "Epoch 429/500\n",
            "2/2 [==============================] - 0s 16ms/step - loss: 42.0989\n",
            "Epoch 430/500\n",
            "2/2 [==============================] - 0s 13ms/step - loss: 12.1349\n",
            "Epoch 431/500\n",
            "2/2 [==============================] - 0s 15ms/step - loss: 17.5257\n",
            "Epoch 432/500\n",
            "2/2 [==============================] - 0s 12ms/step - loss: 34.2935\n",
            "Epoch 433/500\n",
            "2/2 [==============================] - 0s 14ms/step - loss: 18.2705\n",
            "Epoch 434/500\n",
            "2/2 [==============================] - 0s 7ms/step - loss: 20.4960\n",
            "Epoch 435/500\n",
            "2/2 [==============================] - 0s 14ms/step - loss: 19.6190\n",
            "Epoch 436/500\n",
            "2/2 [==============================] - 0s 14ms/step - loss: 32.9635\n",
            "Epoch 437/500\n",
            "2/2 [==============================] - 0s 7ms/step - loss: 22.9001\n",
            "Epoch 438/500\n",
            "2/2 [==============================] - 0s 12ms/step - loss: 11.6380\n",
            "Epoch 439/500\n",
            "2/2 [==============================] - 0s 13ms/step - loss: 20.3832\n",
            "Epoch 440/500\n",
            "2/2 [==============================] - 0s 12ms/step - loss: 45.7583\n",
            "Epoch 441/500\n",
            "2/2 [==============================] - 0s 12ms/step - loss: 7.3922\n",
            "Epoch 442/500\n",
            "2/2 [==============================] - 0s 12ms/step - loss: 29.9935\n",
            "Epoch 443/500\n",
            "2/2 [==============================] - 0s 10ms/step - loss: 4.8027\n",
            "Epoch 444/500\n",
            "2/2 [==============================] - 0s 13ms/step - loss: 12.4592\n",
            "Epoch 445/500\n",
            "2/2 [==============================] - 0s 9ms/step - loss: 24.7804\n",
            "Epoch 446/500\n",
            "2/2 [==============================] - 0s 9ms/step - loss: 20.4016\n",
            "Epoch 447/500\n",
            "2/2 [==============================] - 0s 8ms/step - loss: 22.3392\n",
            "Epoch 448/500\n",
            "2/2 [==============================] - 0s 7ms/step - loss: 20.5902\n",
            "Epoch 449/500\n",
            "2/2 [==============================] - 0s 7ms/step - loss: 32.7526\n",
            "Epoch 450/500\n",
            "2/2 [==============================] - 0s 7ms/step - loss: 25.5874\n",
            "Epoch 451/500\n",
            "2/2 [==============================] - 0s 10ms/step - loss: 16.1589\n",
            "Epoch 452/500\n",
            "2/2 [==============================] - 0s 7ms/step - loss: 22.8369\n",
            "Epoch 453/500\n",
            "2/2 [==============================] - 0s 10ms/step - loss: 22.7484\n",
            "Epoch 454/500\n",
            "2/2 [==============================] - 0s 7ms/step - loss: 37.6824\n",
            "Epoch 455/500\n",
            "2/2 [==============================] - 0s 8ms/step - loss: 13.7476\n",
            "Epoch 456/500\n",
            "2/2 [==============================] - 0s 8ms/step - loss: 33.1550\n",
            "Epoch 457/500\n",
            "2/2 [==============================] - 0s 26ms/step - loss: 18.1339\n",
            "Epoch 458/500\n",
            "2/2 [==============================] - 0s 24ms/step - loss: 18.3637\n",
            "Epoch 459/500\n",
            "2/2 [==============================] - 0s 15ms/step - loss: 33.1137\n",
            "Epoch 460/500\n",
            "2/2 [==============================] - 0s 8ms/step - loss: 14.4410\n",
            "Epoch 461/500\n",
            "2/2 [==============================] - 0s 7ms/step - loss: 15.4226\n",
            "Epoch 462/500\n",
            "2/2 [==============================] - 0s 7ms/step - loss: 33.9505\n",
            "Epoch 463/500\n",
            "2/2 [==============================] - 0s 7ms/step - loss: 24.2750\n",
            "Epoch 464/500\n",
            "2/2 [==============================] - 0s 7ms/step - loss: 4.4547\n",
            "Epoch 465/500\n",
            "2/2 [==============================] - 0s 7ms/step - loss: 12.6227\n",
            "Epoch 466/500\n",
            "2/2 [==============================] - 0s 6ms/step - loss: 20.0510\n",
            "Epoch 467/500\n",
            "2/2 [==============================] - 0s 7ms/step - loss: 30.2926\n",
            "Epoch 468/500\n",
            "2/2 [==============================] - 0s 7ms/step - loss: 26.7285\n",
            "Epoch 469/500\n",
            "2/2 [==============================] - 0s 7ms/step - loss: 19.9474\n",
            "Epoch 470/500\n",
            "2/2 [==============================] - 0s 9ms/step - loss: 21.3956\n",
            "Epoch 471/500\n",
            "2/2 [==============================] - 0s 6ms/step - loss: 22.6147\n",
            "Epoch 472/500\n",
            "2/2 [==============================] - 0s 7ms/step - loss: 17.4798\n",
            "Epoch 473/500\n",
            "2/2 [==============================] - 0s 18ms/step - loss: 22.4650\n",
            "Epoch 474/500\n",
            "2/2 [==============================] - 0s 7ms/step - loss: 20.7032\n",
            "Epoch 475/500\n",
            "2/2 [==============================] - 0s 7ms/step - loss: 22.8678\n",
            "Epoch 476/500\n",
            "2/2 [==============================] - 0s 6ms/step - loss: 18.0741\n",
            "Epoch 477/500\n",
            "2/2 [==============================] - 0s 9ms/step - loss: 17.1904\n",
            "Epoch 478/500\n",
            "2/2 [==============================] - 0s 7ms/step - loss: 28.2062\n",
            "Epoch 479/500\n",
            "2/2 [==============================] - 0s 7ms/step - loss: 30.5662\n",
            "Epoch 480/500\n",
            "2/2 [==============================] - 0s 9ms/step - loss: 25.2420\n",
            "Epoch 481/500\n",
            "2/2 [==============================] - 0s 8ms/step - loss: 14.9511\n",
            "Epoch 482/500\n",
            "2/2 [==============================] - 0s 7ms/step - loss: 40.6403\n",
            "Epoch 483/500\n",
            "2/2 [==============================] - 0s 8ms/step - loss: 15.1548\n",
            "Epoch 484/500\n",
            "2/2 [==============================] - 0s 7ms/step - loss: 22.5009\n",
            "Epoch 485/500\n",
            "2/2 [==============================] - 0s 7ms/step - loss: 12.8144\n",
            "Epoch 486/500\n",
            "2/2 [==============================] - 0s 7ms/step - loss: 16.0264\n",
            "Epoch 487/500\n",
            "2/2 [==============================] - 0s 6ms/step - loss: 24.1732\n",
            "Epoch 488/500\n",
            "2/2 [==============================] - 0s 19ms/step - loss: 51.3721\n",
            "Epoch 489/500\n",
            "2/2 [==============================] - 0s 11ms/step - loss: 17.0417\n",
            "Epoch 490/500\n",
            "2/2 [==============================] - 0s 11ms/step - loss: 30.9764\n",
            "Epoch 491/500\n",
            "2/2 [==============================] - 0s 12ms/step - loss: 22.4724\n",
            "Epoch 492/500\n",
            "2/2 [==============================] - 0s 10ms/step - loss: 17.5136\n",
            "Epoch 493/500\n",
            "2/2 [==============================] - 0s 22ms/step - loss: 36.7892\n",
            "Epoch 494/500\n",
            "2/2 [==============================] - 0s 17ms/step - loss: 4.4003\n",
            "Epoch 495/500\n",
            "2/2 [==============================] - 0s 8ms/step - loss: 13.9446\n",
            "Epoch 496/500\n",
            "2/2 [==============================] - 0s 9ms/step - loss: 15.7764\n",
            "Epoch 497/500\n",
            "2/2 [==============================] - 0s 10ms/step - loss: 19.8493\n",
            "Epoch 498/500\n",
            "2/2 [==============================] - 0s 6ms/step - loss: 34.8276\n",
            "Epoch 499/500\n",
            "2/2 [==============================] - 0s 7ms/step - loss: 9.7209\n",
            "Epoch 500/500\n",
            "2/2 [==============================] - 0s 5ms/step - loss: 4.2907\n"
          ]
        },
        {
          "output_type": "execute_result",
          "data": {
            "text/plain": [
              "<keras.callbacks.History at 0x7f9859a7fa00>"
            ]
          },
          "metadata": {},
          "execution_count": 53
        }
      ]
    },
    {
      "cell_type": "code",
      "source": [
        "y_pred_3, mae_3, mse_3 = prediction_function(model_3, X_test, y_test)"
      ],
      "metadata": {
        "colab": {
          "base_uri": "https://localhost:8080/",
          "height": 319
        },
        "id": "mFrmrOJhbEEp",
        "outputId": "69d3f683-4e7f-4b64-b6c9-3fe596ac68cd"
      },
      "execution_count": 54,
      "outputs": [
        {
          "output_type": "stream",
          "name": "stdout",
          "text": [
            "1/1 [==============================] - 0s 268ms/step\n",
            "The MAE is: 8.26904582977295\n",
            "The MSE is: 87.35928344726562\n"
          ]
        },
        {
          "output_type": "display_data",
          "data": {
            "text/plain": [
              "<Figure size 432x288 with 1 Axes>"
            ],
            "image/png": "[encoded data removed]"
          },
          "metadata": {
            "needs_background": "light"
          }
        }
      ]
    },
    {
      "cell_type": "markdown",
      "source": [
        "**OVERFITTING!**"
      ],
      "metadata": {
        "id": "yHSXxu0CnRgT"
      }
    },
    {
      "cell_type": "markdown",
      "source": [
        "## Comparing the results of our experiments\n",
        "\n",
        "We've run a few experiments, let's compare the results."
      ],
      "metadata": {
        "id": "OewwwCAy58Lr"
      }
    },
    {
      "cell_type": "code",
      "source": [
        "import pandas as pd\n",
        "\n",
        "model_results = [[\"model_1\", mae_1, mse_1],\n",
        "                 [\"model_2\", mae_2, mse_2],\n",
        "                 [\"model_3\", mae_3, mse_3]]\n",
        "\n",
        "all_results = pd.DataFrame(model_results, columns=[\"model\", \"mae\", \"mse\"])\n",
        "                 "
      ],
      "metadata": {
        "id": "QZoaw5dc6UEg"
      },
      "execution_count": 55,
      "outputs": []
    },
    {
      "cell_type": "code",
      "source": [
        "all_results"
      ],
      "metadata": {
        "colab": {
          "base_uri": "https://localhost:8080/",
          "height": 143
        },
        "id": "Zon1UB5_8C0_",
        "outputId": "097726ef-78ac-43ab-daf5-719f9b9674ab"
      },
      "execution_count": 56,
      "outputs": [
        {
          "output_type": "execute_result",
          "data": {
            "text/plain": [
              "     model        mae         mse\n",
              "0  model_1  19.013840  515.959167\n",
              "1  model_2   8.530996   73.127907\n",
              "2  model_3   8.269046   87.359283"
            ],
            "text/html": [
              "\n",
              "  <div id=\"df-75f85af2-8a5b-405c-989e-d4ede217265a\">\n",
              "    <div class=\"colab-df-container\">\n",
              "      <div>\n",
              "<style scoped>\n",
              "    .dataframe tbody tr th:only-of-type {\n",
              "        vertical-align: middle;\n",
              "    }\n",
              "\n",
              "    .dataframe tbody tr th {\n",
              "        vertical-align: top;\n",
              "    }\n",
              "\n",
              "    .dataframe thead th {\n",
              "        text-align: right;\n",
              "    }\n",
              "</style>\n",
              "<table border=\"1\" class=\"dataframe\">\n",
              "  <thead>\n",
              "    <tr style=\"text-align: right;\">\n",
              "      <th></th>\n",
              "      <th>model</th>\n",
              "      <th>mae</th>\n",
              "      <th>mse</th>\n",
              "    </tr>\n",
              "  </thead>\n",
              "  <tbody>\n",
              "    <tr>\n",
              "      <th>0</th>\n",
              "      <td>model_1</td>\n",
              "      <td>19.013840</td>\n",
              "      <td>515.959167</td>\n",
              "    </tr>\n",
              "    <tr>\n",
              "      <th>1</th>\n",
              "      <td>model_2</td>\n",
              "      <td>8.530996</td>\n",
              "      <td>73.127907</td>\n",
              "    </tr>\n",
              "    <tr>\n",
              "      <th>2</th>\n",
              "      <td>model_3</td>\n",
              "      <td>8.269046</td>\n",
              "      <td>87.359283</td>\n",
              "    </tr>\n",
              "  </tbody>\n",
              "</table>\n",
              "</div>\n",
              "      <button class=\"colab-df-convert\" onclick=\"convertToInteractive('df-75f85af2-8a5b-405c-989e-d4ede217265a')\"\n",
              "              title=\"Convert this dataframe to an interactive table.\"\n",
              "              style=\"display:none;\">\n",
              "        \n",
              "  <svg xmlns=\"http://www.w3.org/2000/svg\" height=\"24px\"viewBox=\"0 0 24 24\"\n",
              "       width=\"24px\">\n",
              "    <path d=\"M0 0h24v24H0V0z\" fill=\"none\"/>\n",
              "    <path d=\"M18.56 5.44l.94 2.06.94-2.06 2.06-.94-2.06-.94-.94-2.06-.94 2.06-2.06.94zm-11 1L8.5 8.5l.94-2.06 2.06-.94-2.06-.94L8.5 2.5l-.94 2.06-2.06.94zm10 10l.94 2.06.94-2.06 2.06-.94-2.06-.94-.94-2.06-.94 2.06-2.06.94z\"/><path d=\"M17.41 7.96l-1.37-1.37c-.4-.4-.92-.59-1.43-.59-.52 0-1.04.2-1.43.59L10.3 9.45l-7.72 7.72c-.78.78-.78 2.05 0 2.83L4 21.41c.39.39.9.59 1.41.59.51 0 1.02-.2 1.41-.59l7.78-7.78 2.81-2.81c.8-.78.8-2.07 0-2.86zM5.41 20L4 18.59l7.72-7.72 1.47 1.35L5.41 20z\"/>\n",
              "  </svg>\n",
              "      </button>\n",
              "      \n",
              "  <style>\n",
              "    .colab-df-container {\n",
              "      display:flex;\n",
              "      flex-wrap:wrap;\n",
              "      gap: 12px;\n",
              "    }\n",
              "\n",
              "    .colab-df-convert {\n",
              "      background-color: #E8F0FE;\n",
              "      border: none;\n",
              "      border-radius: 50%;\n",
              "      cursor: pointer;\n",
              "      display: none;\n",
              "      fill: #1967D2;\n",
              "      height: 32px;\n",
              "      padding: 0 0 0 0;\n",
              "      width: 32px;\n",
              "    }\n",
              "\n",
              "    .colab-df-convert:hover {\n",
              "      background-color: #E2EBFA;\n",
              "      box-shadow: 0px 1px 2px rgba(60, 64, 67, 0.3), 0px 1px 3px 1px rgba(60, 64, 67, 0.15);\n",
              "      fill: #174EA6;\n",
              "    }\n",
              "\n",
              "    [theme=dark] .colab-df-convert {\n",
              "      background-color: #3B4455;\n",
              "      fill: #D2E3FC;\n",
              "    }\n",
              "\n",
              "    [theme=dark] .colab-df-convert:hover {\n",
              "      background-color: #434B5C;\n",
              "      box-shadow: 0px 1px 3px 1px rgba(0, 0, 0, 0.15);\n",
              "      filter: drop-shadow(0px 1px 2px rgba(0, 0, 0, 0.3));\n",
              "      fill: #FFFFFF;\n",
              "    }\n",
              "  </style>\n",
              "\n",
              "      <script>\n",
              "        const buttonEl =\n",
              "          document.querySelector('#df-75f85af2-8a5b-405c-989e-d4ede217265a button.colab-df-convert');\n",
              "        buttonEl.style.display =\n",
              "          google.colab.kernel.accessAllowed ? 'block' : 'none';\n",
              "\n",
              "        async function convertToInteractive(key) {\n",
              "          const element = document.querySelector('#df-75f85af2-8a5b-405c-989e-d4ede217265a');\n",
              "          const dataTable =\n",
              "            await google.colab.kernel.invokeFunction('convertToInteractive',\n",
              "                                                     [key], {});\n",
              "          if (!dataTable) return;\n",
              "\n",
              "          const docLinkHtml = 'Like what you see? Visit the ' +\n",
              "            '<a target=\"_blank\" href=https://colab.research.google.com/notebooks/data_table.ipynb>data table notebook</a>'\n",
              "            + ' to learn more about interactive tables.';\n",
              "          element.innerHTML = '';\n",
              "          dataTable['output_type'] = 'display_data';\n",
              "          await google.colab.output.renderOutput(dataTable, element);\n",
              "          const docLink = document.createElement('div');\n",
              "          docLink.innerHTML = docLinkHtml;\n",
              "          element.appendChild(docLink);\n",
              "        }\n",
              "      </script>\n",
              "    </div>\n",
              "  </div>\n",
              "  "
            ]
          },
          "metadata": {},
          "execution_count": 56
        }
      ]
    },
    {
      "cell_type": "code",
      "source": [
        "model_2.summary()"
      ],
      "metadata": {
        "colab": {
          "base_uri": "https://localhost:8080/"
        },
        "id": "9KIlnyjA8Nid",
        "outputId": "f20ecd28-b54b-44d7-f049-b809f5c28a2a"
      },
      "execution_count": 57,
      "outputs": [
        {
          "output_type": "stream",
          "name": "stdout",
          "text": [
            "Model: \"model_2\"\n",
            "_________________________________________________________________\n",
            " Layer (type)                Output Shape              Param #   \n",
            "=================================================================\n",
            " input_layer (Dense)         (None, 10)                20        \n",
            "                                                                 \n",
            " hidden_layer (Dense)        (None, 1)                 11        \n",
            "                                                                 \n",
            "=================================================================\n",
            "Total params: 31\n",
            "Trainable params: 31\n",
            "Non-trainable params: 0\n",
            "_________________________________________________________________\n"
          ]
        }
      ]
    },
    {
      "cell_type": "markdown",
      "source": [
        "🔑 **Note**: A main goal is to minimise the time between experiments. The more things I figure out that won't work and in turn getting close to figuring our what does. \n",
        "Remember the motto is \"experiment... experiment... experiment...\n",
        "\n",
        "## Tracking Experiments\n",
        "\n",
        "A good habit is to track the results of all experiments. Which can be tedious when running a lot of experiments. However there are tools:\n",
        "\n",
        "📖 As you build more models, use:\n",
        "* TensorBoard - a component of the TF library that tracks modelling experiments.\n",
        "* Weights & Biases - a tool for tracking all kinds of ML experiments and plugs straight into Tensorboard"
      ],
      "metadata": {
        "id": "vpDGKkgt8ulY"
      }
    },
    {
      "cell_type": "markdown",
      "source": [
        "## Saving & Loading models:\n",
        "There are 2 main formats:\n",
        "\n",
        "1. The SavedModel format - the default\n",
        "2. The HDF5 format - which is used for large file handling.\n",
        "\n",
        "**Observation** - the second format gives a single file while the first format produces a folder.\n",
        "\n",
        "Both formats are loaded with the same method: `tf.keras.models.load_model(\"FILEPATH\")`"
      ],
      "metadata": {
        "id": "1_QRPaDG8P3t"
      }
    },
    {
      "cell_type": "code",
      "source": [
        "# SavedModel format\n",
        "model_2.save(\"best_model\")"
      ],
      "metadata": {
        "colab": {
          "base_uri": "https://localhost:8080/"
        },
        "id": "xTua8HVD9opF",
        "outputId": "877cdec1-f3d9-43a8-829d-403f2fe270e3"
      },
      "execution_count": 62,
      "outputs": [
        {
          "output_type": "stream",
          "name": "stderr",
          "text": [
            "WARNING:absl:Found untraced functions such as _update_step_xla while saving (showing 1 of 1). These functions will not be directly callable after loading.\n"
          ]
        }
      ]
    },
    {
      "cell_type": "code",
      "source": [
        "# HDF5 format\n",
        "model_2.save(\"best_model_HD5_format.h5\")"
      ],
      "metadata": {
        "id": "gH6RLTAS-0a1"
      },
      "execution_count": 60,
      "outputs": []
    },
    {
      "cell_type": "code",
      "source": [
        "new_model_savedmodel = tf.keras.models.load_model(\"/content/best_model\")"
      ],
      "metadata": {
        "id": "zzobXXnm_APP"
      },
      "execution_count": 61,
      "outputs": []
    },
    {
      "cell_type": "code",
      "source": [
        "new_model_hdf5 = tf.keras.models.load_model(\"/content/best_model_HD5_format.h5\")"
      ],
      "metadata": {
        "id": "WFgObX1b_c0Q"
      },
      "execution_count": 64,
      "outputs": []
    },
    {
      "cell_type": "code",
      "source": [
        "\n",
        "prediction_function (model_2, X_test, y_test)"
      ],
      "metadata": {
        "colab": {
          "base_uri": "https://localhost:8080/",
          "height": 551
        },
        "id": "BVzSh0oA_yN6",
        "outputId": "a575c0e8-9819-4212-9e2e-cadde37bc17c"
      },
      "execution_count": 65,
      "outputs": [
        {
          "output_type": "stream",
          "name": "stdout",
          "text": [
            "1/1 [==============================] - 0s 114ms/step\n",
            "The MAE is: 8.530996322631836\n",
            "The MSE is: 73.1279067993164\n",
            "1/1 [==============================] - 0s 48ms/step\n",
            "The MAE is: 8.530996322631836\n",
            "The MSE is: 73.1279067993164\n"
          ]
        },
        {
          "output_type": "execute_result",
          "data": {
            "text/plain": [
              "(array([[-10.633534],\n",
              "        [ 78.234085],\n",
              "        [-30.83072 ],\n",
              "        [  5.524213],\n",
              "        [-91.42227 ],\n",
              "        [-67.185646],\n",
              "        [ 74.19465 ],\n",
              "        [ 86.31295 ],\n",
              "        [-59.106777],\n",
              "        [ 13.603088]], dtype=float32), 8.530996, 73.12791)"
            ]
          },
          "metadata": {},
          "execution_count": 65
        },
        {
          "output_type": "display_data",
          "data": {
            "text/plain": [
              "<Figure size 432x288 with 1 Axes>"
            ],
            "image/png": "[encoded data removed]"
          },
          "metadata": {
            "needs_background": "light"
          }
        }
      ]
    },
    {
      "cell_type": "code",
      "source": [
        "prediction_function (new_model_savedmodel, X_test, y_test)"
      ],
      "metadata": {
        "colab": {
          "base_uri": "https://localhost:8080/",
          "height": 497
        },
        "id": "Bflp_mIz_8zH",
        "outputId": "9ef60985-1d62-4fe5-8f80-caa9af5e20de"
      },
      "execution_count": 66,
      "outputs": [
        {
          "output_type": "stream",
          "name": "stdout",
          "text": [
            "1/1 [==============================] - 0s 49ms/step\n",
            "The MAE is: 8.530996322631836\n",
            "The MSE is: 73.1279067993164\n"
          ]
        },
        {
          "output_type": "execute_result",
          "data": {
            "text/plain": [
              "(array([[-10.633534],\n",
              "        [ 78.234085],\n",
              "        [-30.83072 ],\n",
              "        [  5.524213],\n",
              "        [-91.42227 ],\n",
              "        [-67.185646],\n",
              "        [ 74.19465 ],\n",
              "        [ 86.31295 ],\n",
              "        [-59.106777],\n",
              "        [ 13.603088]], dtype=float32), 8.530996, 73.12791)"
            ]
          },
          "metadata": {},
          "execution_count": 66
        },
        {
          "output_type": "display_data",
          "data": {
            "text/plain": [
              "<Figure size 432x288 with 1 Axes>"
            ],
            "image/png": "[encoded data removed]"
          },
          "metadata": {
            "needs_background": "light"
          }
        }
      ]
    },
    {
      "cell_type": "code",
      "source": [],
      "metadata": {
        "id": "L4Tx5CUyAAby"
      },
      "execution_count": null,
      "outputs": []
    }
  ]
}