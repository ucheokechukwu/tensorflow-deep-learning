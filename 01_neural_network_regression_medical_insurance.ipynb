{
  "nbformat": 4,
  "nbformat_minor": 0,
  "metadata": {
    "colab": {
      "provenance": [],
      "authorship_tag": "ABX9TyMemWWkZ/Bxdsib5i2FCl0D",
      "include_colab_link": true
    },
    "kernelspec": {
      "name": "python3",
      "display_name": "Python 3"
    },
    "language_info": {
      "name": "python"
    }
  },
  "cells": [
    {
      "cell_type": "markdown",
      "metadata": {
        "id": "view-in-github",
        "colab_type": "text"
      },
      "source": [
        "<a href=\"https://colab.research.google.com/github/ucheokechukwu/tensorflow-deep-learning/blob/main/01_neural_network_regression_medical_insurance.ipynb\" target=\"_parent\"><img src=\"https://colab.research.google.com/assets/colab-badge.svg\" alt=\"Open In Colab\"/></a>"
      ]
    },
    {
      "cell_type": "markdown",
      "source": [
        "# Medical Cost Personal Dataset\n",
        "Insurance Forecast with Linear Regression\n",
        "\n",
        "* Link: https://www.kaggle.com/datasets/mirichoi0218/insurance"
      ],
      "metadata": {
        "id": "XJPR08aTHXN6"
      }
    },
    {
      "cell_type": "code",
      "source": [
        "# Import required libraries\n",
        "import tensorflow as tf\n",
        "import pandas as pd\n",
        "import matplotlib.pyplot as plt"
      ],
      "metadata": {
        "id": "Yd5xS5x4HztV"
      },
      "execution_count": 37,
      "outputs": []
    },
    {
      "cell_type": "code",
      "source": [
        "insurance = pd.read_csv(\"https://raw.githubusercontent.com/stedy/Machine-Learning-with-R-datasets/master/insurance.csv\")"
      ],
      "metadata": {
        "id": "I2wSxkmSH4jz"
      },
      "execution_count": 38,
      "outputs": []
    },
    {
      "cell_type": "code",
      "source": [
        "insurance.head()"
      ],
      "metadata": {
        "colab": {
          "base_uri": "https://localhost:8080/",
          "height": 206
        },
        "id": "mscX0ZIpIH29",
        "outputId": "c30b97dc-0aea-4c59-9143-53d1beb9e3bf"
      },
      "execution_count": 39,
      "outputs": [
        {
          "output_type": "execute_result",
          "data": {
            "text/plain": [
              "   age     sex     bmi  children smoker     region      charges\n",
              "0   19  female  27.900         0    yes  southwest  16884.92400\n",
              "1   18    male  33.770         1     no  southeast   1725.55230\n",
              "2   28    male  33.000         3     no  southeast   4449.46200\n",
              "3   33    male  22.705         0     no  northwest  21984.47061\n",
              "4   32    male  28.880         0     no  northwest   3866.85520"
            ],
            "text/html": [
              "\n",
              "  <div id=\"df-26775086-463d-401f-8ce3-a71973a02e22\">\n",
              "    <div class=\"colab-df-container\">\n",
              "      <div>\n",
              "<style scoped>\n",
              "    .dataframe tbody tr th:only-of-type {\n",
              "        vertical-align: middle;\n",
              "    }\n",
              "\n",
              "    .dataframe tbody tr th {\n",
              "        vertical-align: top;\n",
              "    }\n",
              "\n",
              "    .dataframe thead th {\n",
              "        text-align: right;\n",
              "    }\n",
              "</style>\n",
              "<table border=\"1\" class=\"dataframe\">\n",
              "  <thead>\n",
              "    <tr style=\"text-align: right;\">\n",
              "      <th></th>\n",
              "      <th>age</th>\n",
              "      <th>sex</th>\n",
              "      <th>bmi</th>\n",
              "      <th>children</th>\n",
              "      <th>smoker</th>\n",
              "      <th>region</th>\n",
              "      <th>charges</th>\n",
              "    </tr>\n",
              "  </thead>\n",
              "  <tbody>\n",
              "    <tr>\n",
              "      <th>0</th>\n",
              "      <td>19</td>\n",
              "      <td>female</td>\n",
              "      <td>27.900</td>\n",
              "      <td>0</td>\n",
              "      <td>yes</td>\n",
              "      <td>southwest</td>\n",
              "      <td>16884.92400</td>\n",
              "    </tr>\n",
              "    <tr>\n",
              "      <th>1</th>\n",
              "      <td>18</td>\n",
              "      <td>male</td>\n",
              "      <td>33.770</td>\n",
              "      <td>1</td>\n",
              "      <td>no</td>\n",
              "      <td>southeast</td>\n",
              "      <td>1725.55230</td>\n",
              "    </tr>\n",
              "    <tr>\n",
              "      <th>2</th>\n",
              "      <td>28</td>\n",
              "      <td>male</td>\n",
              "      <td>33.000</td>\n",
              "      <td>3</td>\n",
              "      <td>no</td>\n",
              "      <td>southeast</td>\n",
              "      <td>4449.46200</td>\n",
              "    </tr>\n",
              "    <tr>\n",
              "      <th>3</th>\n",
              "      <td>33</td>\n",
              "      <td>male</td>\n",
              "      <td>22.705</td>\n",
              "      <td>0</td>\n",
              "      <td>no</td>\n",
              "      <td>northwest</td>\n",
              "      <td>21984.47061</td>\n",
              "    </tr>\n",
              "    <tr>\n",
              "      <th>4</th>\n",
              "      <td>32</td>\n",
              "      <td>male</td>\n",
              "      <td>28.880</td>\n",
              "      <td>0</td>\n",
              "      <td>no</td>\n",
              "      <td>northwest</td>\n",
              "      <td>3866.85520</td>\n",
              "    </tr>\n",
              "  </tbody>\n",
              "</table>\n",
              "</div>\n",
              "      <button class=\"colab-df-convert\" onclick=\"convertToInteractive('df-26775086-463d-401f-8ce3-a71973a02e22')\"\n",
              "              title=\"Convert this dataframe to an interactive table.\"\n",
              "              style=\"display:none;\">\n",
              "        \n",
              "  <svg xmlns=\"http://www.w3.org/2000/svg\" height=\"24px\"viewBox=\"0 0 24 24\"\n",
              "       width=\"24px\">\n",
              "    <path d=\"M0 0h24v24H0V0z\" fill=\"none\"/>\n",
              "    <path d=\"M18.56 5.44l.94 2.06.94-2.06 2.06-.94-2.06-.94-.94-2.06-.94 2.06-2.06.94zm-11 1L8.5 8.5l.94-2.06 2.06-.94-2.06-.94L8.5 2.5l-.94 2.06-2.06.94zm10 10l.94 2.06.94-2.06 2.06-.94-2.06-.94-.94-2.06-.94 2.06-2.06.94z\"/><path d=\"M17.41 7.96l-1.37-1.37c-.4-.4-.92-.59-1.43-.59-.52 0-1.04.2-1.43.59L10.3 9.45l-7.72 7.72c-.78.78-.78 2.05 0 2.83L4 21.41c.39.39.9.59 1.41.59.51 0 1.02-.2 1.41-.59l7.78-7.78 2.81-2.81c.8-.78.8-2.07 0-2.86zM5.41 20L4 18.59l7.72-7.72 1.47 1.35L5.41 20z\"/>\n",
              "  </svg>\n",
              "      </button>\n",
              "      \n",
              "  <style>\n",
              "    .colab-df-container {\n",
              "      display:flex;\n",
              "      flex-wrap:wrap;\n",
              "      gap: 12px;\n",
              "    }\n",
              "\n",
              "    .colab-df-convert {\n",
              "      background-color: #E8F0FE;\n",
              "      border: none;\n",
              "      border-radius: 50%;\n",
              "      cursor: pointer;\n",
              "      display: none;\n",
              "      fill: #1967D2;\n",
              "      height: 32px;\n",
              "      padding: 0 0 0 0;\n",
              "      width: 32px;\n",
              "    }\n",
              "\n",
              "    .colab-df-convert:hover {\n",
              "      background-color: #E2EBFA;\n",
              "      box-shadow: 0px 1px 2px rgba(60, 64, 67, 0.3), 0px 1px 3px 1px rgba(60, 64, 67, 0.15);\n",
              "      fill: #174EA6;\n",
              "    }\n",
              "\n",
              "    [theme=dark] .colab-df-convert {\n",
              "      background-color: #3B4455;\n",
              "      fill: #D2E3FC;\n",
              "    }\n",
              "\n",
              "    [theme=dark] .colab-df-convert:hover {\n",
              "      background-color: #434B5C;\n",
              "      box-shadow: 0px 1px 3px 1px rgba(0, 0, 0, 0.15);\n",
              "      filter: drop-shadow(0px 1px 2px rgba(0, 0, 0, 0.3));\n",
              "      fill: #FFFFFF;\n",
              "    }\n",
              "  </style>\n",
              "\n",
              "      <script>\n",
              "        const buttonEl =\n",
              "          document.querySelector('#df-26775086-463d-401f-8ce3-a71973a02e22 button.colab-df-convert');\n",
              "        buttonEl.style.display =\n",
              "          google.colab.kernel.accessAllowed ? 'block' : 'none';\n",
              "\n",
              "        async function convertToInteractive(key) {\n",
              "          const element = document.querySelector('#df-26775086-463d-401f-8ce3-a71973a02e22');\n",
              "          const dataTable =\n",
              "            await google.colab.kernel.invokeFunction('convertToInteractive',\n",
              "                                                     [key], {});\n",
              "          if (!dataTable) return;\n",
              "\n",
              "          const docLinkHtml = 'Like what you see? Visit the ' +\n",
              "            '<a target=\"_blank\" href=https://colab.research.google.com/notebooks/data_table.ipynb>data table notebook</a>'\n",
              "            + ' to learn more about interactive tables.';\n",
              "          element.innerHTML = '';\n",
              "          dataTable['output_type'] = 'display_data';\n",
              "          await google.colab.output.renderOutput(dataTable, element);\n",
              "          const docLink = document.createElement('div');\n",
              "          docLink.innerHTML = docLinkHtml;\n",
              "          element.appendChild(docLink);\n",
              "        }\n",
              "      </script>\n",
              "    </div>\n",
              "  </div>\n",
              "  "
            ]
          },
          "metadata": {},
          "execution_count": 39
        }
      ]
    },
    {
      "cell_type": "code",
      "source": [
        "insurance"
      ],
      "metadata": {
        "colab": {
          "base_uri": "https://localhost:8080/",
          "height": 424
        },
        "id": "cJNUnkcLIQGR",
        "outputId": "f4ca6209-41f7-4fe1-b69d-35fa68adde58"
      },
      "execution_count": 40,
      "outputs": [
        {
          "output_type": "execute_result",
          "data": {
            "text/plain": [
              "      age     sex     bmi  children smoker     region      charges\n",
              "0      19  female  27.900         0    yes  southwest  16884.92400\n",
              "1      18    male  33.770         1     no  southeast   1725.55230\n",
              "2      28    male  33.000         3     no  southeast   4449.46200\n",
              "3      33    male  22.705         0     no  northwest  21984.47061\n",
              "4      32    male  28.880         0     no  northwest   3866.85520\n",
              "...   ...     ...     ...       ...    ...        ...          ...\n",
              "1333   50    male  30.970         3     no  northwest  10600.54830\n",
              "1334   18  female  31.920         0     no  northeast   2205.98080\n",
              "1335   18  female  36.850         0     no  southeast   1629.83350\n",
              "1336   21  female  25.800         0     no  southwest   2007.94500\n",
              "1337   61  female  29.070         0    yes  northwest  29141.36030\n",
              "\n",
              "[1338 rows x 7 columns]"
            ],
            "text/html": [
              "\n",
              "  <div id=\"df-d982c2dd-b8a8-4189-93a3-edb504333936\">\n",
              "    <div class=\"colab-df-container\">\n",
              "      <div>\n",
              "<style scoped>\n",
              "    .dataframe tbody tr th:only-of-type {\n",
              "        vertical-align: middle;\n",
              "    }\n",
              "\n",
              "    .dataframe tbody tr th {\n",
              "        vertical-align: top;\n",
              "    }\n",
              "\n",
              "    .dataframe thead th {\n",
              "        text-align: right;\n",
              "    }\n",
              "</style>\n",
              "<table border=\"1\" class=\"dataframe\">\n",
              "  <thead>\n",
              "    <tr style=\"text-align: right;\">\n",
              "      <th></th>\n",
              "      <th>age</th>\n",
              "      <th>sex</th>\n",
              "      <th>bmi</th>\n",
              "      <th>children</th>\n",
              "      <th>smoker</th>\n",
              "      <th>region</th>\n",
              "      <th>charges</th>\n",
              "    </tr>\n",
              "  </thead>\n",
              "  <tbody>\n",
              "    <tr>\n",
              "      <th>0</th>\n",
              "      <td>19</td>\n",
              "      <td>female</td>\n",
              "      <td>27.900</td>\n",
              "      <td>0</td>\n",
              "      <td>yes</td>\n",
              "      <td>southwest</td>\n",
              "      <td>16884.92400</td>\n",
              "    </tr>\n",
              "    <tr>\n",
              "      <th>1</th>\n",
              "      <td>18</td>\n",
              "      <td>male</td>\n",
              "      <td>33.770</td>\n",
              "      <td>1</td>\n",
              "      <td>no</td>\n",
              "      <td>southeast</td>\n",
              "      <td>1725.55230</td>\n",
              "    </tr>\n",
              "    <tr>\n",
              "      <th>2</th>\n",
              "      <td>28</td>\n",
              "      <td>male</td>\n",
              "      <td>33.000</td>\n",
              "      <td>3</td>\n",
              "      <td>no</td>\n",
              "      <td>southeast</td>\n",
              "      <td>4449.46200</td>\n",
              "    </tr>\n",
              "    <tr>\n",
              "      <th>3</th>\n",
              "      <td>33</td>\n",
              "      <td>male</td>\n",
              "      <td>22.705</td>\n",
              "      <td>0</td>\n",
              "      <td>no</td>\n",
              "      <td>northwest</td>\n",
              "      <td>21984.47061</td>\n",
              "    </tr>\n",
              "    <tr>\n",
              "      <th>4</th>\n",
              "      <td>32</td>\n",
              "      <td>male</td>\n",
              "      <td>28.880</td>\n",
              "      <td>0</td>\n",
              "      <td>no</td>\n",
              "      <td>northwest</td>\n",
              "      <td>3866.85520</td>\n",
              "    </tr>\n",
              "    <tr>\n",
              "      <th>...</th>\n",
              "      <td>...</td>\n",
              "      <td>...</td>\n",
              "      <td>...</td>\n",
              "      <td>...</td>\n",
              "      <td>...</td>\n",
              "      <td>...</td>\n",
              "      <td>...</td>\n",
              "    </tr>\n",
              "    <tr>\n",
              "      <th>1333</th>\n",
              "      <td>50</td>\n",
              "      <td>male</td>\n",
              "      <td>30.970</td>\n",
              "      <td>3</td>\n",
              "      <td>no</td>\n",
              "      <td>northwest</td>\n",
              "      <td>10600.54830</td>\n",
              "    </tr>\n",
              "    <tr>\n",
              "      <th>1334</th>\n",
              "      <td>18</td>\n",
              "      <td>female</td>\n",
              "      <td>31.920</td>\n",
              "      <td>0</td>\n",
              "      <td>no</td>\n",
              "      <td>northeast</td>\n",
              "      <td>2205.98080</td>\n",
              "    </tr>\n",
              "    <tr>\n",
              "      <th>1335</th>\n",
              "      <td>18</td>\n",
              "      <td>female</td>\n",
              "      <td>36.850</td>\n",
              "      <td>0</td>\n",
              "      <td>no</td>\n",
              "      <td>southeast</td>\n",
              "      <td>1629.83350</td>\n",
              "    </tr>\n",
              "    <tr>\n",
              "      <th>1336</th>\n",
              "      <td>21</td>\n",
              "      <td>female</td>\n",
              "      <td>25.800</td>\n",
              "      <td>0</td>\n",
              "      <td>no</td>\n",
              "      <td>southwest</td>\n",
              "      <td>2007.94500</td>\n",
              "    </tr>\n",
              "    <tr>\n",
              "      <th>1337</th>\n",
              "      <td>61</td>\n",
              "      <td>female</td>\n",
              "      <td>29.070</td>\n",
              "      <td>0</td>\n",
              "      <td>yes</td>\n",
              "      <td>northwest</td>\n",
              "      <td>29141.36030</td>\n",
              "    </tr>\n",
              "  </tbody>\n",
              "</table>\n",
              "<p>1338 rows × 7 columns</p>\n",
              "</div>\n",
              "      <button class=\"colab-df-convert\" onclick=\"convertToInteractive('df-d982c2dd-b8a8-4189-93a3-edb504333936')\"\n",
              "              title=\"Convert this dataframe to an interactive table.\"\n",
              "              style=\"display:none;\">\n",
              "        \n",
              "  <svg xmlns=\"http://www.w3.org/2000/svg\" height=\"24px\"viewBox=\"0 0 24 24\"\n",
              "       width=\"24px\">\n",
              "    <path d=\"M0 0h24v24H0V0z\" fill=\"none\"/>\n",
              "    <path d=\"M18.56 5.44l.94 2.06.94-2.06 2.06-.94-2.06-.94-.94-2.06-.94 2.06-2.06.94zm-11 1L8.5 8.5l.94-2.06 2.06-.94-2.06-.94L8.5 2.5l-.94 2.06-2.06.94zm10 10l.94 2.06.94-2.06 2.06-.94-2.06-.94-.94-2.06-.94 2.06-2.06.94z\"/><path d=\"M17.41 7.96l-1.37-1.37c-.4-.4-.92-.59-1.43-.59-.52 0-1.04.2-1.43.59L10.3 9.45l-7.72 7.72c-.78.78-.78 2.05 0 2.83L4 21.41c.39.39.9.59 1.41.59.51 0 1.02-.2 1.41-.59l7.78-7.78 2.81-2.81c.8-.78.8-2.07 0-2.86zM5.41 20L4 18.59l7.72-7.72 1.47 1.35L5.41 20z\"/>\n",
              "  </svg>\n",
              "      </button>\n",
              "      \n",
              "  <style>\n",
              "    .colab-df-container {\n",
              "      display:flex;\n",
              "      flex-wrap:wrap;\n",
              "      gap: 12px;\n",
              "    }\n",
              "\n",
              "    .colab-df-convert {\n",
              "      background-color: #E8F0FE;\n",
              "      border: none;\n",
              "      border-radius: 50%;\n",
              "      cursor: pointer;\n",
              "      display: none;\n",
              "      fill: #1967D2;\n",
              "      height: 32px;\n",
              "      padding: 0 0 0 0;\n",
              "      width: 32px;\n",
              "    }\n",
              "\n",
              "    .colab-df-convert:hover {\n",
              "      background-color: #E2EBFA;\n",
              "      box-shadow: 0px 1px 2px rgba(60, 64, 67, 0.3), 0px 1px 3px 1px rgba(60, 64, 67, 0.15);\n",
              "      fill: #174EA6;\n",
              "    }\n",
              "\n",
              "    [theme=dark] .colab-df-convert {\n",
              "      background-color: #3B4455;\n",
              "      fill: #D2E3FC;\n",
              "    }\n",
              "\n",
              "    [theme=dark] .colab-df-convert:hover {\n",
              "      background-color: #434B5C;\n",
              "      box-shadow: 0px 1px 3px 1px rgba(0, 0, 0, 0.15);\n",
              "      filter: drop-shadow(0px 1px 2px rgba(0, 0, 0, 0.3));\n",
              "      fill: #FFFFFF;\n",
              "    }\n",
              "  </style>\n",
              "\n",
              "      <script>\n",
              "        const buttonEl =\n",
              "          document.querySelector('#df-d982c2dd-b8a8-4189-93a3-edb504333936 button.colab-df-convert');\n",
              "        buttonEl.style.display =\n",
              "          google.colab.kernel.accessAllowed ? 'block' : 'none';\n",
              "\n",
              "        async function convertToInteractive(key) {\n",
              "          const element = document.querySelector('#df-d982c2dd-b8a8-4189-93a3-edb504333936');\n",
              "          const dataTable =\n",
              "            await google.colab.kernel.invokeFunction('convertToInteractive',\n",
              "                                                     [key], {});\n",
              "          if (!dataTable) return;\n",
              "\n",
              "          const docLinkHtml = 'Like what you see? Visit the ' +\n",
              "            '<a target=\"_blank\" href=https://colab.research.google.com/notebooks/data_table.ipynb>data table notebook</a>'\n",
              "            + ' to learn more about interactive tables.';\n",
              "          element.innerHTML = '';\n",
              "          dataTable['output_type'] = 'display_data';\n",
              "          await google.colab.output.renderOutput(dataTable, element);\n",
              "          const docLink = document.createElement('div');\n",
              "          docLink.innerHTML = docLinkHtml;\n",
              "          element.appendChild(docLink);\n",
              "        }\n",
              "      </script>\n",
              "    </div>\n",
              "  </div>\n",
              "  "
            ]
          },
          "metadata": {},
          "execution_count": 40
        }
      ]
    },
    {
      "cell_type": "code",
      "source": [
        "set(insurance[\"region\"])"
      ],
      "metadata": {
        "colab": {
          "base_uri": "https://localhost:8080/"
        },
        "id": "Zo3fotzYInuP",
        "outputId": "2b0ae1a2-2757-4f91-8577-e45ec17abd82"
      },
      "execution_count": 41,
      "outputs": [
        {
          "output_type": "execute_result",
          "data": {
            "text/plain": [
              "{'northeast', 'northwest', 'southeast', 'southwest'}"
            ]
          },
          "metadata": {},
          "execution_count": 41
        }
      ]
    },
    {
      "cell_type": "markdown",
      "source": [
        "## one hot encoding\n",
        "In Pandas, the function for onehot encoding a DataFrame is `pd.get_dummies(DATAFRAME)`"
      ],
      "metadata": {
        "id": "PW6j450xIopQ"
      }
    },
    {
      "cell_type": "code",
      "source": [
        "insurance_onehot = pd.get_dummies(insurance)\n",
        "insurance_onehot"
      ],
      "metadata": {
        "colab": {
          "base_uri": "https://localhost:8080/",
          "height": 468
        },
        "id": "r45oBVQ_LIc_",
        "outputId": "914c0c90-78db-46ae-e3d9-f21bcda97821"
      },
      "execution_count": 42,
      "outputs": [
        {
          "output_type": "execute_result",
          "data": {
            "text/plain": [
              "      age     bmi  children      charges  sex_female  sex_male  smoker_no  \\\n",
              "0      19  27.900         0  16884.92400           1         0          0   \n",
              "1      18  33.770         1   1725.55230           0         1          1   \n",
              "2      28  33.000         3   4449.46200           0         1          1   \n",
              "3      33  22.705         0  21984.47061           0         1          1   \n",
              "4      32  28.880         0   3866.85520           0         1          1   \n",
              "...   ...     ...       ...          ...         ...       ...        ...   \n",
              "1333   50  30.970         3  10600.54830           0         1          1   \n",
              "1334   18  31.920         0   2205.98080           1         0          1   \n",
              "1335   18  36.850         0   1629.83350           1         0          1   \n",
              "1336   21  25.800         0   2007.94500           1         0          1   \n",
              "1337   61  29.070         0  29141.36030           1         0          0   \n",
              "\n",
              "      smoker_yes  region_northeast  region_northwest  region_southeast  \\\n",
              "0              1                 0                 0                 0   \n",
              "1              0                 0                 0                 1   \n",
              "2              0                 0                 0                 1   \n",
              "3              0                 0                 1                 0   \n",
              "4              0                 0                 1                 0   \n",
              "...          ...               ...               ...               ...   \n",
              "1333           0                 0                 1                 0   \n",
              "1334           0                 1                 0                 0   \n",
              "1335           0                 0                 0                 1   \n",
              "1336           0                 0                 0                 0   \n",
              "1337           1                 0                 1                 0   \n",
              "\n",
              "      region_southwest  \n",
              "0                    1  \n",
              "1                    0  \n",
              "2                    0  \n",
              "3                    0  \n",
              "4                    0  \n",
              "...                ...  \n",
              "1333                 0  \n",
              "1334                 0  \n",
              "1335                 0  \n",
              "1336                 1  \n",
              "1337                 0  \n",
              "\n",
              "[1338 rows x 12 columns]"
            ],
            "text/html": [
              "\n",
              "  <div id=\"df-3130dcae-19d0-4c57-ac86-e34531c1fe8a\">\n",
              "    <div class=\"colab-df-container\">\n",
              "      <div>\n",
              "<style scoped>\n",
              "    .dataframe tbody tr th:only-of-type {\n",
              "        vertical-align: middle;\n",
              "    }\n",
              "\n",
              "    .dataframe tbody tr th {\n",
              "        vertical-align: top;\n",
              "    }\n",
              "\n",
              "    .dataframe thead th {\n",
              "        text-align: right;\n",
              "    }\n",
              "</style>\n",
              "<table border=\"1\" class=\"dataframe\">\n",
              "  <thead>\n",
              "    <tr style=\"text-align: right;\">\n",
              "      <th></th>\n",
              "      <th>age</th>\n",
              "      <th>bmi</th>\n",
              "      <th>children</th>\n",
              "      <th>charges</th>\n",
              "      <th>sex_female</th>\n",
              "      <th>sex_male</th>\n",
              "      <th>smoker_no</th>\n",
              "      <th>smoker_yes</th>\n",
              "      <th>region_northeast</th>\n",
              "      <th>region_northwest</th>\n",
              "      <th>region_southeast</th>\n",
              "      <th>region_southwest</th>\n",
              "    </tr>\n",
              "  </thead>\n",
              "  <tbody>\n",
              "    <tr>\n",
              "      <th>0</th>\n",
              "      <td>19</td>\n",
              "      <td>27.900</td>\n",
              "      <td>0</td>\n",
              "      <td>16884.92400</td>\n",
              "      <td>1</td>\n",
              "      <td>0</td>\n",
              "      <td>0</td>\n",
              "      <td>1</td>\n",
              "      <td>0</td>\n",
              "      <td>0</td>\n",
              "      <td>0</td>\n",
              "      <td>1</td>\n",
              "    </tr>\n",
              "    <tr>\n",
              "      <th>1</th>\n",
              "      <td>18</td>\n",
              "      <td>33.770</td>\n",
              "      <td>1</td>\n",
              "      <td>1725.55230</td>\n",
              "      <td>0</td>\n",
              "      <td>1</td>\n",
              "      <td>1</td>\n",
              "      <td>0</td>\n",
              "      <td>0</td>\n",
              "      <td>0</td>\n",
              "      <td>1</td>\n",
              "      <td>0</td>\n",
              "    </tr>\n",
              "    <tr>\n",
              "      <th>2</th>\n",
              "      <td>28</td>\n",
              "      <td>33.000</td>\n",
              "      <td>3</td>\n",
              "      <td>4449.46200</td>\n",
              "      <td>0</td>\n",
              "      <td>1</td>\n",
              "      <td>1</td>\n",
              "      <td>0</td>\n",
              "      <td>0</td>\n",
              "      <td>0</td>\n",
              "      <td>1</td>\n",
              "      <td>0</td>\n",
              "    </tr>\n",
              "    <tr>\n",
              "      <th>3</th>\n",
              "      <td>33</td>\n",
              "      <td>22.705</td>\n",
              "      <td>0</td>\n",
              "      <td>21984.47061</td>\n",
              "      <td>0</td>\n",
              "      <td>1</td>\n",
              "      <td>1</td>\n",
              "      <td>0</td>\n",
              "      <td>0</td>\n",
              "      <td>1</td>\n",
              "      <td>0</td>\n",
              "      <td>0</td>\n",
              "    </tr>\n",
              "    <tr>\n",
              "      <th>4</th>\n",
              "      <td>32</td>\n",
              "      <td>28.880</td>\n",
              "      <td>0</td>\n",
              "      <td>3866.85520</td>\n",
              "      <td>0</td>\n",
              "      <td>1</td>\n",
              "      <td>1</td>\n",
              "      <td>0</td>\n",
              "      <td>0</td>\n",
              "      <td>1</td>\n",
              "      <td>0</td>\n",
              "      <td>0</td>\n",
              "    </tr>\n",
              "    <tr>\n",
              "      <th>...</th>\n",
              "      <td>...</td>\n",
              "      <td>...</td>\n",
              "      <td>...</td>\n",
              "      <td>...</td>\n",
              "      <td>...</td>\n",
              "      <td>...</td>\n",
              "      <td>...</td>\n",
              "      <td>...</td>\n",
              "      <td>...</td>\n",
              "      <td>...</td>\n",
              "      <td>...</td>\n",
              "      <td>...</td>\n",
              "    </tr>\n",
              "    <tr>\n",
              "      <th>1333</th>\n",
              "      <td>50</td>\n",
              "      <td>30.970</td>\n",
              "      <td>3</td>\n",
              "      <td>10600.54830</td>\n",
              "      <td>0</td>\n",
              "      <td>1</td>\n",
              "      <td>1</td>\n",
              "      <td>0</td>\n",
              "      <td>0</td>\n",
              "      <td>1</td>\n",
              "      <td>0</td>\n",
              "      <td>0</td>\n",
              "    </tr>\n",
              "    <tr>\n",
              "      <th>1334</th>\n",
              "      <td>18</td>\n",
              "      <td>31.920</td>\n",
              "      <td>0</td>\n",
              "      <td>2205.98080</td>\n",
              "      <td>1</td>\n",
              "      <td>0</td>\n",
              "      <td>1</td>\n",
              "      <td>0</td>\n",
              "      <td>1</td>\n",
              "      <td>0</td>\n",
              "      <td>0</td>\n",
              "      <td>0</td>\n",
              "    </tr>\n",
              "    <tr>\n",
              "      <th>1335</th>\n",
              "      <td>18</td>\n",
              "      <td>36.850</td>\n",
              "      <td>0</td>\n",
              "      <td>1629.83350</td>\n",
              "      <td>1</td>\n",
              "      <td>0</td>\n",
              "      <td>1</td>\n",
              "      <td>0</td>\n",
              "      <td>0</td>\n",
              "      <td>0</td>\n",
              "      <td>1</td>\n",
              "      <td>0</td>\n",
              "    </tr>\n",
              "    <tr>\n",
              "      <th>1336</th>\n",
              "      <td>21</td>\n",
              "      <td>25.800</td>\n",
              "      <td>0</td>\n",
              "      <td>2007.94500</td>\n",
              "      <td>1</td>\n",
              "      <td>0</td>\n",
              "      <td>1</td>\n",
              "      <td>0</td>\n",
              "      <td>0</td>\n",
              "      <td>0</td>\n",
              "      <td>0</td>\n",
              "      <td>1</td>\n",
              "    </tr>\n",
              "    <tr>\n",
              "      <th>1337</th>\n",
              "      <td>61</td>\n",
              "      <td>29.070</td>\n",
              "      <td>0</td>\n",
              "      <td>29141.36030</td>\n",
              "      <td>1</td>\n",
              "      <td>0</td>\n",
              "      <td>0</td>\n",
              "      <td>1</td>\n",
              "      <td>0</td>\n",
              "      <td>1</td>\n",
              "      <td>0</td>\n",
              "      <td>0</td>\n",
              "    </tr>\n",
              "  </tbody>\n",
              "</table>\n",
              "<p>1338 rows × 12 columns</p>\n",
              "</div>\n",
              "      <button class=\"colab-df-convert\" onclick=\"convertToInteractive('df-3130dcae-19d0-4c57-ac86-e34531c1fe8a')\"\n",
              "              title=\"Convert this dataframe to an interactive table.\"\n",
              "              style=\"display:none;\">\n",
              "        \n",
              "  <svg xmlns=\"http://www.w3.org/2000/svg\" height=\"24px\"viewBox=\"0 0 24 24\"\n",
              "       width=\"24px\">\n",
              "    <path d=\"M0 0h24v24H0V0z\" fill=\"none\"/>\n",
              "    <path d=\"M18.56 5.44l.94 2.06.94-2.06 2.06-.94-2.06-.94-.94-2.06-.94 2.06-2.06.94zm-11 1L8.5 8.5l.94-2.06 2.06-.94-2.06-.94L8.5 2.5l-.94 2.06-2.06.94zm10 10l.94 2.06.94-2.06 2.06-.94-2.06-.94-.94-2.06-.94 2.06-2.06.94z\"/><path d=\"M17.41 7.96l-1.37-1.37c-.4-.4-.92-.59-1.43-.59-.52 0-1.04.2-1.43.59L10.3 9.45l-7.72 7.72c-.78.78-.78 2.05 0 2.83L4 21.41c.39.39.9.59 1.41.59.51 0 1.02-.2 1.41-.59l7.78-7.78 2.81-2.81c.8-.78.8-2.07 0-2.86zM5.41 20L4 18.59l7.72-7.72 1.47 1.35L5.41 20z\"/>\n",
              "  </svg>\n",
              "      </button>\n",
              "      \n",
              "  <style>\n",
              "    .colab-df-container {\n",
              "      display:flex;\n",
              "      flex-wrap:wrap;\n",
              "      gap: 12px;\n",
              "    }\n",
              "\n",
              "    .colab-df-convert {\n",
              "      background-color: #E8F0FE;\n",
              "      border: none;\n",
              "      border-radius: 50%;\n",
              "      cursor: pointer;\n",
              "      display: none;\n",
              "      fill: #1967D2;\n",
              "      height: 32px;\n",
              "      padding: 0 0 0 0;\n",
              "      width: 32px;\n",
              "    }\n",
              "\n",
              "    .colab-df-convert:hover {\n",
              "      background-color: #E2EBFA;\n",
              "      box-shadow: 0px 1px 2px rgba(60, 64, 67, 0.3), 0px 1px 3px 1px rgba(60, 64, 67, 0.15);\n",
              "      fill: #174EA6;\n",
              "    }\n",
              "\n",
              "    [theme=dark] .colab-df-convert {\n",
              "      background-color: #3B4455;\n",
              "      fill: #D2E3FC;\n",
              "    }\n",
              "\n",
              "    [theme=dark] .colab-df-convert:hover {\n",
              "      background-color: #434B5C;\n",
              "      box-shadow: 0px 1px 3px 1px rgba(0, 0, 0, 0.15);\n",
              "      filter: drop-shadow(0px 1px 2px rgba(0, 0, 0, 0.3));\n",
              "      fill: #FFFFFF;\n",
              "    }\n",
              "  </style>\n",
              "\n",
              "      <script>\n",
              "        const buttonEl =\n",
              "          document.querySelector('#df-3130dcae-19d0-4c57-ac86-e34531c1fe8a button.colab-df-convert');\n",
              "        buttonEl.style.display =\n",
              "          google.colab.kernel.accessAllowed ? 'block' : 'none';\n",
              "\n",
              "        async function convertToInteractive(key) {\n",
              "          const element = document.querySelector('#df-3130dcae-19d0-4c57-ac86-e34531c1fe8a');\n",
              "          const dataTable =\n",
              "            await google.colab.kernel.invokeFunction('convertToInteractive',\n",
              "                                                     [key], {});\n",
              "          if (!dataTable) return;\n",
              "\n",
              "          const docLinkHtml = 'Like what you see? Visit the ' +\n",
              "            '<a target=\"_blank\" href=https://colab.research.google.com/notebooks/data_table.ipynb>data table notebook</a>'\n",
              "            + ' to learn more about interactive tables.';\n",
              "          element.innerHTML = '';\n",
              "          dataTable['output_type'] = 'display_data';\n",
              "          await google.colab.output.renderOutput(dataTable, element);\n",
              "          const docLink = document.createElement('div');\n",
              "          docLink.innerHTML = docLinkHtml;\n",
              "          element.appendChild(docLink);\n",
              "        }\n",
              "      </script>\n",
              "    </div>\n",
              "  </div>\n",
              "  "
            ]
          },
          "metadata": {},
          "execution_count": 42
        }
      ]
    },
    {
      "cell_type": "code",
      "source": [
        "pd.get_dummies(insurance[\"region\"])"
      ],
      "metadata": {
        "colab": {
          "base_uri": "https://localhost:8080/",
          "height": 424
        },
        "id": "bCuTqjnxLO30",
        "outputId": "2828cb7e-cbbb-4241-eae3-f4aa3669e6ee"
      },
      "execution_count": 43,
      "outputs": [
        {
          "output_type": "execute_result",
          "data": {
            "text/plain": [
              "      northeast  northwest  southeast  southwest\n",
              "0             0          0          0          1\n",
              "1             0          0          1          0\n",
              "2             0          0          1          0\n",
              "3             0          1          0          0\n",
              "4             0          1          0          0\n",
              "...         ...        ...        ...        ...\n",
              "1333          0          1          0          0\n",
              "1334          1          0          0          0\n",
              "1335          0          0          1          0\n",
              "1336          0          0          0          1\n",
              "1337          0          1          0          0\n",
              "\n",
              "[1338 rows x 4 columns]"
            ],
            "text/html": [
              "\n",
              "  <div id=\"df-a5e92515-0ac8-415b-8531-38bbc1366fce\">\n",
              "    <div class=\"colab-df-container\">\n",
              "      <div>\n",
              "<style scoped>\n",
              "    .dataframe tbody tr th:only-of-type {\n",
              "        vertical-align: middle;\n",
              "    }\n",
              "\n",
              "    .dataframe tbody tr th {\n",
              "        vertical-align: top;\n",
              "    }\n",
              "\n",
              "    .dataframe thead th {\n",
              "        text-align: right;\n",
              "    }\n",
              "</style>\n",
              "<table border=\"1\" class=\"dataframe\">\n",
              "  <thead>\n",
              "    <tr style=\"text-align: right;\">\n",
              "      <th></th>\n",
              "      <th>northeast</th>\n",
              "      <th>northwest</th>\n",
              "      <th>southeast</th>\n",
              "      <th>southwest</th>\n",
              "    </tr>\n",
              "  </thead>\n",
              "  <tbody>\n",
              "    <tr>\n",
              "      <th>0</th>\n",
              "      <td>0</td>\n",
              "      <td>0</td>\n",
              "      <td>0</td>\n",
              "      <td>1</td>\n",
              "    </tr>\n",
              "    <tr>\n",
              "      <th>1</th>\n",
              "      <td>0</td>\n",
              "      <td>0</td>\n",
              "      <td>1</td>\n",
              "      <td>0</td>\n",
              "    </tr>\n",
              "    <tr>\n",
              "      <th>2</th>\n",
              "      <td>0</td>\n",
              "      <td>0</td>\n",
              "      <td>1</td>\n",
              "      <td>0</td>\n",
              "    </tr>\n",
              "    <tr>\n",
              "      <th>3</th>\n",
              "      <td>0</td>\n",
              "      <td>1</td>\n",
              "      <td>0</td>\n",
              "      <td>0</td>\n",
              "    </tr>\n",
              "    <tr>\n",
              "      <th>4</th>\n",
              "      <td>0</td>\n",
              "      <td>1</td>\n",
              "      <td>0</td>\n",
              "      <td>0</td>\n",
              "    </tr>\n",
              "    <tr>\n",
              "      <th>...</th>\n",
              "      <td>...</td>\n",
              "      <td>...</td>\n",
              "      <td>...</td>\n",
              "      <td>...</td>\n",
              "    </tr>\n",
              "    <tr>\n",
              "      <th>1333</th>\n",
              "      <td>0</td>\n",
              "      <td>1</td>\n",
              "      <td>0</td>\n",
              "      <td>0</td>\n",
              "    </tr>\n",
              "    <tr>\n",
              "      <th>1334</th>\n",
              "      <td>1</td>\n",
              "      <td>0</td>\n",
              "      <td>0</td>\n",
              "      <td>0</td>\n",
              "    </tr>\n",
              "    <tr>\n",
              "      <th>1335</th>\n",
              "      <td>0</td>\n",
              "      <td>0</td>\n",
              "      <td>1</td>\n",
              "      <td>0</td>\n",
              "    </tr>\n",
              "    <tr>\n",
              "      <th>1336</th>\n",
              "      <td>0</td>\n",
              "      <td>0</td>\n",
              "      <td>0</td>\n",
              "      <td>1</td>\n",
              "    </tr>\n",
              "    <tr>\n",
              "      <th>1337</th>\n",
              "      <td>0</td>\n",
              "      <td>1</td>\n",
              "      <td>0</td>\n",
              "      <td>0</td>\n",
              "    </tr>\n",
              "  </tbody>\n",
              "</table>\n",
              "<p>1338 rows × 4 columns</p>\n",
              "</div>\n",
              "      <button class=\"colab-df-convert\" onclick=\"convertToInteractive('df-a5e92515-0ac8-415b-8531-38bbc1366fce')\"\n",
              "              title=\"Convert this dataframe to an interactive table.\"\n",
              "              style=\"display:none;\">\n",
              "        \n",
              "  <svg xmlns=\"http://www.w3.org/2000/svg\" height=\"24px\"viewBox=\"0 0 24 24\"\n",
              "       width=\"24px\">\n",
              "    <path d=\"M0 0h24v24H0V0z\" fill=\"none\"/>\n",
              "    <path d=\"M18.56 5.44l.94 2.06.94-2.06 2.06-.94-2.06-.94-.94-2.06-.94 2.06-2.06.94zm-11 1L8.5 8.5l.94-2.06 2.06-.94-2.06-.94L8.5 2.5l-.94 2.06-2.06.94zm10 10l.94 2.06.94-2.06 2.06-.94-2.06-.94-.94-2.06-.94 2.06-2.06.94z\"/><path d=\"M17.41 7.96l-1.37-1.37c-.4-.4-.92-.59-1.43-.59-.52 0-1.04.2-1.43.59L10.3 9.45l-7.72 7.72c-.78.78-.78 2.05 0 2.83L4 21.41c.39.39.9.59 1.41.59.51 0 1.02-.2 1.41-.59l7.78-7.78 2.81-2.81c.8-.78.8-2.07 0-2.86zM5.41 20L4 18.59l7.72-7.72 1.47 1.35L5.41 20z\"/>\n",
              "  </svg>\n",
              "      </button>\n",
              "      \n",
              "  <style>\n",
              "    .colab-df-container {\n",
              "      display:flex;\n",
              "      flex-wrap:wrap;\n",
              "      gap: 12px;\n",
              "    }\n",
              "\n",
              "    .colab-df-convert {\n",
              "      background-color: #E8F0FE;\n",
              "      border: none;\n",
              "      border-radius: 50%;\n",
              "      cursor: pointer;\n",
              "      display: none;\n",
              "      fill: #1967D2;\n",
              "      height: 32px;\n",
              "      padding: 0 0 0 0;\n",
              "      width: 32px;\n",
              "    }\n",
              "\n",
              "    .colab-df-convert:hover {\n",
              "      background-color: #E2EBFA;\n",
              "      box-shadow: 0px 1px 2px rgba(60, 64, 67, 0.3), 0px 1px 3px 1px rgba(60, 64, 67, 0.15);\n",
              "      fill: #174EA6;\n",
              "    }\n",
              "\n",
              "    [theme=dark] .colab-df-convert {\n",
              "      background-color: #3B4455;\n",
              "      fill: #D2E3FC;\n",
              "    }\n",
              "\n",
              "    [theme=dark] .colab-df-convert:hover {\n",
              "      background-color: #434B5C;\n",
              "      box-shadow: 0px 1px 3px 1px rgba(0, 0, 0, 0.15);\n",
              "      filter: drop-shadow(0px 1px 2px rgba(0, 0, 0, 0.3));\n",
              "      fill: #FFFFFF;\n",
              "    }\n",
              "  </style>\n",
              "\n",
              "      <script>\n",
              "        const buttonEl =\n",
              "          document.querySelector('#df-a5e92515-0ac8-415b-8531-38bbc1366fce button.colab-df-convert');\n",
              "        buttonEl.style.display =\n",
              "          google.colab.kernel.accessAllowed ? 'block' : 'none';\n",
              "\n",
              "        async function convertToInteractive(key) {\n",
              "          const element = document.querySelector('#df-a5e92515-0ac8-415b-8531-38bbc1366fce');\n",
              "          const dataTable =\n",
              "            await google.colab.kernel.invokeFunction('convertToInteractive',\n",
              "                                                     [key], {});\n",
              "          if (!dataTable) return;\n",
              "\n",
              "          const docLinkHtml = 'Like what you see? Visit the ' +\n",
              "            '<a target=\"_blank\" href=https://colab.research.google.com/notebooks/data_table.ipynb>data table notebook</a>'\n",
              "            + ' to learn more about interactive tables.';\n",
              "          element.innerHTML = '';\n",
              "          dataTable['output_type'] = 'display_data';\n",
              "          await google.colab.output.renderOutput(dataTable, element);\n",
              "          const docLink = document.createElement('div');\n",
              "          docLink.innerHTML = docLinkHtml;\n",
              "          element.appendChild(docLink);\n",
              "        }\n",
              "      </script>\n",
              "    </div>\n",
              "  </div>\n",
              "  "
            ]
          },
          "metadata": {},
          "execution_count": 43
        }
      ]
    },
    {
      "cell_type": "code",
      "source": [
        "# Create X & y labels:\n",
        "X = insurance_onehot.drop(\"charges\",axis=1)\n",
        "y = insurance_onehot[\"charges\"]"
      ],
      "metadata": {
        "id": "vRjGJFK_LnqI"
      },
      "execution_count": 44,
      "outputs": []
    },
    {
      "cell_type": "code",
      "source": [
        "#Create training and test sets\n",
        "from sklearn.model_selection import train_test_split\n",
        "X_train, X_test, y_train, y_test = train_test_split(X,y,test_size=0.2)\n",
        "# Convert to tensors (This is actually not required for Pandas DataFrame which is built on NumPy. So converting to tensors is redundant!)\n",
        "X_train = tf.constant(X_train)\n",
        "X_test = tf.constant(X_test)\n",
        "y_train = tf.constant(y_train)\n",
        "y_test = tf.constant(y_test)\n",
        "                "
      ],
      "metadata": {
        "id": "fp5iGA1nL8_u"
      },
      "execution_count": 45,
      "outputs": []
    },
    {
      "cell_type": "code",
      "source": [
        "X_test[:5]"
      ],
      "metadata": {
        "colab": {
          "base_uri": "https://localhost:8080/"
        },
        "id": "3UonKUYerQif",
        "outputId": "97646951-7974-490e-dcc3-2f6bf6496f77"
      },
      "execution_count": 46,
      "outputs": [
        {
          "output_type": "execute_result",
          "data": {
            "text/plain": [
              "<tf.Tensor: shape=(5, 11), dtype=float64, numpy=\n",
              "array([[24.   , 29.3  ,  0.   ,  0.   ,  1.   ,  1.   ,  0.   ,  0.   ,\n",
              "         0.   ,  0.   ,  1.   ],\n",
              "       [19.   , 28.31 ,  0.   ,  1.   ,  0.   ,  0.   ,  1.   ,  0.   ,\n",
              "         1.   ,  0.   ,  0.   ],\n",
              "       [19.   , 27.6  ,  0.   ,  0.   ,  1.   ,  1.   ,  0.   ,  0.   ,\n",
              "         0.   ,  0.   ,  1.   ],\n",
              "       [29.   , 38.94 ,  1.   ,  0.   ,  1.   ,  1.   ,  0.   ,  0.   ,\n",
              "         0.   ,  1.   ,  0.   ],\n",
              "       [36.   , 28.595,  3.   ,  0.   ,  1.   ,  1.   ,  0.   ,  0.   ,\n",
              "         1.   ,  0.   ,  0.   ]])>"
            ]
          },
          "metadata": {},
          "execution_count": 46
        }
      ]
    },
    {
      "cell_type": "code",
      "source": [
        "insurance_onehot.head(1)"
      ],
      "metadata": {
        "colab": {
          "base_uri": "https://localhost:8080/",
          "height": 81
        },
        "id": "WJZpkONJrV9T",
        "outputId": "edfde988-a821-4f5e-c9bc-666629ae27ae"
      },
      "execution_count": 47,
      "outputs": [
        {
          "output_type": "execute_result",
          "data": {
            "text/plain": [
              "   age   bmi  children    charges  sex_female  sex_male  smoker_no  \\\n",
              "0   19  27.9         0  16884.924           1         0          0   \n",
              "\n",
              "   smoker_yes  region_northeast  region_northwest  region_southeast  \\\n",
              "0           1                 0                 0                 0   \n",
              "\n",
              "   region_southwest  \n",
              "0                 1  "
            ],
            "text/html": [
              "\n",
              "  <div id=\"df-ee5d12dd-4e29-4b94-9749-95d3cc5f64dc\">\n",
              "    <div class=\"colab-df-container\">\n",
              "      <div>\n",
              "<style scoped>\n",
              "    .dataframe tbody tr th:only-of-type {\n",
              "        vertical-align: middle;\n",
              "    }\n",
              "\n",
              "    .dataframe tbody tr th {\n",
              "        vertical-align: top;\n",
              "    }\n",
              "\n",
              "    .dataframe thead th {\n",
              "        text-align: right;\n",
              "    }\n",
              "</style>\n",
              "<table border=\"1\" class=\"dataframe\">\n",
              "  <thead>\n",
              "    <tr style=\"text-align: right;\">\n",
              "      <th></th>\n",
              "      <th>age</th>\n",
              "      <th>bmi</th>\n",
              "      <th>children</th>\n",
              "      <th>charges</th>\n",
              "      <th>sex_female</th>\n",
              "      <th>sex_male</th>\n",
              "      <th>smoker_no</th>\n",
              "      <th>smoker_yes</th>\n",
              "      <th>region_northeast</th>\n",
              "      <th>region_northwest</th>\n",
              "      <th>region_southeast</th>\n",
              "      <th>region_southwest</th>\n",
              "    </tr>\n",
              "  </thead>\n",
              "  <tbody>\n",
              "    <tr>\n",
              "      <th>0</th>\n",
              "      <td>19</td>\n",
              "      <td>27.9</td>\n",
              "      <td>0</td>\n",
              "      <td>16884.924</td>\n",
              "      <td>1</td>\n",
              "      <td>0</td>\n",
              "      <td>0</td>\n",
              "      <td>1</td>\n",
              "      <td>0</td>\n",
              "      <td>0</td>\n",
              "      <td>0</td>\n",
              "      <td>1</td>\n",
              "    </tr>\n",
              "  </tbody>\n",
              "</table>\n",
              "</div>\n",
              "      <button class=\"colab-df-convert\" onclick=\"convertToInteractive('df-ee5d12dd-4e29-4b94-9749-95d3cc5f64dc')\"\n",
              "              title=\"Convert this dataframe to an interactive table.\"\n",
              "              style=\"display:none;\">\n",
              "        \n",
              "  <svg xmlns=\"http://www.w3.org/2000/svg\" height=\"24px\"viewBox=\"0 0 24 24\"\n",
              "       width=\"24px\">\n",
              "    <path d=\"M0 0h24v24H0V0z\" fill=\"none\"/>\n",
              "    <path d=\"M18.56 5.44l.94 2.06.94-2.06 2.06-.94-2.06-.94-.94-2.06-.94 2.06-2.06.94zm-11 1L8.5 8.5l.94-2.06 2.06-.94-2.06-.94L8.5 2.5l-.94 2.06-2.06.94zm10 10l.94 2.06.94-2.06 2.06-.94-2.06-.94-.94-2.06-.94 2.06-2.06.94z\"/><path d=\"M17.41 7.96l-1.37-1.37c-.4-.4-.92-.59-1.43-.59-.52 0-1.04.2-1.43.59L10.3 9.45l-7.72 7.72c-.78.78-.78 2.05 0 2.83L4 21.41c.39.39.9.59 1.41.59.51 0 1.02-.2 1.41-.59l7.78-7.78 2.81-2.81c.8-.78.8-2.07 0-2.86zM5.41 20L4 18.59l7.72-7.72 1.47 1.35L5.41 20z\"/>\n",
              "  </svg>\n",
              "      </button>\n",
              "      \n",
              "  <style>\n",
              "    .colab-df-container {\n",
              "      display:flex;\n",
              "      flex-wrap:wrap;\n",
              "      gap: 12px;\n",
              "    }\n",
              "\n",
              "    .colab-df-convert {\n",
              "      background-color: #E8F0FE;\n",
              "      border: none;\n",
              "      border-radius: 50%;\n",
              "      cursor: pointer;\n",
              "      display: none;\n",
              "      fill: #1967D2;\n",
              "      height: 32px;\n",
              "      padding: 0 0 0 0;\n",
              "      width: 32px;\n",
              "    }\n",
              "\n",
              "    .colab-df-convert:hover {\n",
              "      background-color: #E2EBFA;\n",
              "      box-shadow: 0px 1px 2px rgba(60, 64, 67, 0.3), 0px 1px 3px 1px rgba(60, 64, 67, 0.15);\n",
              "      fill: #174EA6;\n",
              "    }\n",
              "\n",
              "    [theme=dark] .colab-df-convert {\n",
              "      background-color: #3B4455;\n",
              "      fill: #D2E3FC;\n",
              "    }\n",
              "\n",
              "    [theme=dark] .colab-df-convert:hover {\n",
              "      background-color: #434B5C;\n",
              "      box-shadow: 0px 1px 3px 1px rgba(0, 0, 0, 0.15);\n",
              "      filter: drop-shadow(0px 1px 2px rgba(0, 0, 0, 0.3));\n",
              "      fill: #FFFFFF;\n",
              "    }\n",
              "  </style>\n",
              "\n",
              "      <script>\n",
              "        const buttonEl =\n",
              "          document.querySelector('#df-ee5d12dd-4e29-4b94-9749-95d3cc5f64dc button.colab-df-convert');\n",
              "        buttonEl.style.display =\n",
              "          google.colab.kernel.accessAllowed ? 'block' : 'none';\n",
              "\n",
              "        async function convertToInteractive(key) {\n",
              "          const element = document.querySelector('#df-ee5d12dd-4e29-4b94-9749-95d3cc5f64dc');\n",
              "          const dataTable =\n",
              "            await google.colab.kernel.invokeFunction('convertToInteractive',\n",
              "                                                     [key], {});\n",
              "          if (!dataTable) return;\n",
              "\n",
              "          const docLinkHtml = 'Like what you see? Visit the ' +\n",
              "            '<a target=\"_blank\" href=https://colab.research.google.com/notebooks/data_table.ipynb>data table notebook</a>'\n",
              "            + ' to learn more about interactive tables.';\n",
              "          element.innerHTML = '';\n",
              "          dataTable['output_type'] = 'display_data';\n",
              "          await google.colab.output.renderOutput(dataTable, element);\n",
              "          const docLink = document.createElement('div');\n",
              "          docLink.innerHTML = docLinkHtml;\n",
              "          element.appendChild(docLink);\n",
              "        }\n",
              "      </script>\n",
              "    </div>\n",
              "  </div>\n",
              "  "
            ]
          },
          "metadata": {},
          "execution_count": 47
        }
      ]
    },
    {
      "cell_type": "code",
      "source": [
        "# Build a neural network\":\n",
        "# Create the model, compile the model, run the model summary then fit...\n",
        "tf.random.set_seed(42)\n",
        "model = tf.keras.Sequential([\n",
        "    tf.keras.layers.Dense(10, name=\"input_layer\", input_shape=[11]),\n",
        "    tf.keras.layers.Dense(1, name=\"hidden_layer\")\n",
        "], name=\"model_insurance\")\n",
        "\n",
        "model.compile(loss=tf.keras.losses.mean_absolute_error,\n",
        "              optimizer=tf.keras.optimizers.SGD(),\n",
        "              metrics=\"mae\")\n",
        "\n",
        "model.summary()"
      ],
      "metadata": {
        "colab": {
          "base_uri": "https://localhost:8080/"
        },
        "id": "lFyEMQJIMnCe",
        "outputId": "12622c27-d13e-4903-fca3-ee3c4d4160fb"
      },
      "execution_count": 48,
      "outputs": [
        {
          "output_type": "stream",
          "name": "stdout",
          "text": [
            "Model: \"model_insurance\"\n",
            "_________________________________________________________________\n",
            " Layer (type)                Output Shape              Param #   \n",
            "=================================================================\n",
            " input_layer (Dense)         (None, 10)                120       \n",
            "                                                                 \n",
            " hidden_layer (Dense)        (None, 1)                 11        \n",
            "                                                                 \n",
            "=================================================================\n",
            "Total params: 131\n",
            "Trainable params: 131\n",
            "Non-trainable params: 0\n",
            "_________________________________________________________________\n"
          ]
        }
      ]
    },
    {
      "cell_type": "code",
      "source": [
        "model.fit(tf.expand_dims(X_train, axis=-1), y_train, epochs=100)"
      ],
      "metadata": {
        "colab": {
          "base_uri": "https://localhost:8080/"
        },
        "id": "JV1ZCRpoNjJx",
        "outputId": "f58605ae-bc58-4629-ed44-29dad86cec5a"
      },
      "execution_count": 49,
      "outputs": [
        {
          "output_type": "stream",
          "name": "stdout",
          "text": [
            "Epoch 1/100\n",
            "34/34 [==============================] - 1s 3ms/step - loss: 8332.6250 - mae: 8332.6250\n",
            "Epoch 2/100\n",
            "34/34 [==============================] - 0s 2ms/step - loss: 7723.8203 - mae: 7723.8203\n",
            "Epoch 3/100\n",
            "34/34 [==============================] - 0s 2ms/step - loss: 7579.9717 - mae: 7579.9717\n",
            "Epoch 4/100\n",
            "34/34 [==============================] - 0s 2ms/step - loss: 7622.2407 - mae: 7622.2407\n",
            "Epoch 5/100\n",
            "34/34 [==============================] - 0s 2ms/step - loss: 7693.0298 - mae: 7693.0298\n",
            "Epoch 6/100\n",
            "34/34 [==============================] - 0s 2ms/step - loss: 7541.5962 - mae: 7541.5962\n",
            "Epoch 7/100\n",
            "34/34 [==============================] - 0s 2ms/step - loss: 7643.0757 - mae: 7643.0757\n",
            "Epoch 8/100\n",
            "34/34 [==============================] - 0s 2ms/step - loss: 7433.6631 - mae: 7433.6631\n",
            "Epoch 9/100\n",
            "34/34 [==============================] - 0s 2ms/step - loss: 7649.1030 - mae: 7649.1030\n",
            "Epoch 10/100\n",
            "34/34 [==============================] - 0s 2ms/step - loss: 7513.7505 - mae: 7513.7505\n",
            "Epoch 11/100\n",
            "34/34 [==============================] - 0s 2ms/step - loss: 7355.0234 - mae: 7355.0234\n",
            "Epoch 12/100\n",
            "34/34 [==============================] - 0s 2ms/step - loss: 7564.3125 - mae: 7564.3125\n",
            "Epoch 13/100\n",
            "34/34 [==============================] - 0s 2ms/step - loss: 7590.2876 - mae: 7590.2876\n",
            "Epoch 14/100\n",
            "34/34 [==============================] - 0s 2ms/step - loss: 7474.2729 - mae: 7474.2729\n",
            "Epoch 15/100\n",
            "34/34 [==============================] - 0s 2ms/step - loss: 7428.9390 - mae: 7428.9390\n",
            "Epoch 16/100\n",
            "34/34 [==============================] - 0s 2ms/step - loss: 7511.6235 - mae: 7511.6235\n",
            "Epoch 17/100\n",
            "34/34 [==============================] - 0s 2ms/step - loss: 7533.2866 - mae: 7533.2866\n",
            "Epoch 18/100\n",
            "34/34 [==============================] - 0s 2ms/step - loss: 7499.1865 - mae: 7499.1865\n",
            "Epoch 19/100\n",
            "34/34 [==============================] - 0s 2ms/step - loss: 7366.9858 - mae: 7366.9858\n",
            "Epoch 20/100\n",
            "34/34 [==============================] - 0s 2ms/step - loss: 7609.7876 - mae: 7609.7876\n",
            "Epoch 21/100\n",
            "34/34 [==============================] - 0s 2ms/step - loss: 7704.5552 - mae: 7704.5552\n",
            "Epoch 22/100\n",
            "34/34 [==============================] - 0s 2ms/step - loss: 7622.7803 - mae: 7622.7803\n",
            "Epoch 23/100\n",
            "34/34 [==============================] - 0s 2ms/step - loss: 7348.4995 - mae: 7348.4995\n",
            "Epoch 24/100\n",
            "34/34 [==============================] - 0s 2ms/step - loss: 7472.6895 - mae: 7472.6895\n",
            "Epoch 25/100\n",
            "34/34 [==============================] - 0s 2ms/step - loss: 7476.3022 - mae: 7476.3022\n",
            "Epoch 26/100\n",
            "34/34 [==============================] - 0s 2ms/step - loss: 7400.9565 - mae: 7400.9565\n",
            "Epoch 27/100\n",
            "34/34 [==============================] - 0s 2ms/step - loss: 7466.8770 - mae: 7466.8770\n",
            "Epoch 28/100\n",
            "34/34 [==============================] - 0s 2ms/step - loss: 7513.8159 - mae: 7513.8159\n",
            "Epoch 29/100\n",
            "34/34 [==============================] - 0s 2ms/step - loss: 7286.3276 - mae: 7286.3276\n",
            "Epoch 30/100\n",
            "34/34 [==============================] - 0s 2ms/step - loss: 7511.5293 - mae: 7511.5293\n",
            "Epoch 31/100\n",
            "34/34 [==============================] - 0s 2ms/step - loss: 7399.7207 - mae: 7399.7207\n",
            "Epoch 32/100\n",
            "34/34 [==============================] - 0s 2ms/step - loss: 7367.8140 - mae: 7367.8140\n",
            "Epoch 33/100\n",
            "34/34 [==============================] - 0s 2ms/step - loss: 7548.5576 - mae: 7548.5576\n",
            "Epoch 34/100\n",
            "34/34 [==============================] - 0s 2ms/step - loss: 7311.3774 - mae: 7311.3774\n",
            "Epoch 35/100\n",
            "34/34 [==============================] - 0s 2ms/step - loss: 7486.0112 - mae: 7486.0112\n",
            "Epoch 36/100\n",
            "34/34 [==============================] - 0s 2ms/step - loss: 7194.4150 - mae: 7194.4150\n",
            "Epoch 37/100\n",
            "34/34 [==============================] - 0s 2ms/step - loss: 7326.4443 - mae: 7326.4443\n",
            "Epoch 38/100\n",
            "34/34 [==============================] - 0s 2ms/step - loss: 7482.8311 - mae: 7482.8311\n",
            "Epoch 39/100\n",
            "34/34 [==============================] - 0s 2ms/step - loss: 7348.7378 - mae: 7348.7378\n",
            "Epoch 40/100\n",
            "34/34 [==============================] - 0s 2ms/step - loss: 7492.5181 - mae: 7492.5181\n",
            "Epoch 41/100\n",
            "34/34 [==============================] - 0s 2ms/step - loss: 7463.3145 - mae: 7463.3145\n",
            "Epoch 42/100\n",
            "34/34 [==============================] - 0s 2ms/step - loss: 7514.7915 - mae: 7514.7915\n",
            "Epoch 43/100\n",
            "34/34 [==============================] - 0s 2ms/step - loss: 7283.8652 - mae: 7283.8652\n",
            "Epoch 44/100\n",
            "34/34 [==============================] - 0s 2ms/step - loss: 7224.1567 - mae: 7224.1567\n",
            "Epoch 45/100\n",
            "34/34 [==============================] - 0s 2ms/step - loss: 7233.1089 - mae: 7233.1089\n",
            "Epoch 46/100\n",
            "34/34 [==============================] - 0s 2ms/step - loss: 7542.6519 - mae: 7542.6519\n",
            "Epoch 47/100\n",
            "34/34 [==============================] - 0s 2ms/step - loss: 7486.0083 - mae: 7486.0083\n",
            "Epoch 48/100\n",
            "34/34 [==============================] - 0s 2ms/step - loss: 7526.1855 - mae: 7526.1855\n",
            "Epoch 49/100\n",
            "34/34 [==============================] - 0s 2ms/step - loss: 7515.8428 - mae: 7515.8428\n",
            "Epoch 50/100\n",
            "34/34 [==============================] - 0s 3ms/step - loss: 7454.8286 - mae: 7454.8286\n",
            "Epoch 51/100\n",
            "34/34 [==============================] - 0s 2ms/step - loss: 7307.7148 - mae: 7307.7148\n",
            "Epoch 52/100\n",
            "34/34 [==============================] - 0s 2ms/step - loss: 7407.9858 - mae: 7407.9858\n",
            "Epoch 53/100\n",
            "34/34 [==============================] - 0s 2ms/step - loss: 7292.0400 - mae: 7292.0400\n",
            "Epoch 54/100\n",
            "34/34 [==============================] - 0s 2ms/step - loss: 7310.4912 - mae: 7310.4912\n",
            "Epoch 55/100\n",
            "34/34 [==============================] - 0s 2ms/step - loss: 7431.7598 - mae: 7431.7598\n",
            "Epoch 56/100\n",
            "34/34 [==============================] - 0s 2ms/step - loss: 7280.6938 - mae: 7280.6938\n",
            "Epoch 57/100\n",
            "34/34 [==============================] - 0s 2ms/step - loss: 7220.8247 - mae: 7220.8247\n",
            "Epoch 58/100\n",
            "34/34 [==============================] - 0s 2ms/step - loss: 7185.1792 - mae: 7185.1792\n",
            "Epoch 59/100\n",
            "34/34 [==============================] - 0s 2ms/step - loss: 7336.4868 - mae: 7336.4868\n",
            "Epoch 60/100\n",
            "34/34 [==============================] - 0s 2ms/step - loss: 7109.4824 - mae: 7109.4824\n",
            "Epoch 61/100\n",
            "34/34 [==============================] - 0s 2ms/step - loss: 7330.4458 - mae: 7330.4458\n",
            "Epoch 62/100\n",
            "34/34 [==============================] - 0s 2ms/step - loss: 7365.6289 - mae: 7365.6289\n",
            "Epoch 63/100\n",
            "34/34 [==============================] - 0s 2ms/step - loss: 7510.4771 - mae: 7510.4771\n",
            "Epoch 64/100\n",
            "34/34 [==============================] - 0s 2ms/step - loss: 7353.6045 - mae: 7353.6045\n",
            "Epoch 65/100\n",
            "34/34 [==============================] - 0s 2ms/step - loss: 7118.6313 - mae: 7118.6313\n",
            "Epoch 66/100\n",
            "34/34 [==============================] - 0s 2ms/step - loss: 7021.5186 - mae: 7021.5186\n",
            "Epoch 67/100\n",
            "34/34 [==============================] - 0s 2ms/step - loss: 7183.9551 - mae: 7183.9551\n",
            "Epoch 68/100\n",
            "34/34 [==============================] - 0s 2ms/step - loss: 7299.2549 - mae: 7299.2549\n",
            "Epoch 69/100\n",
            "34/34 [==============================] - 0s 2ms/step - loss: 7354.2441 - mae: 7354.2441\n",
            "Epoch 70/100\n",
            "34/34 [==============================] - 0s 2ms/step - loss: 7215.8892 - mae: 7215.8892\n",
            "Epoch 71/100\n",
            "34/34 [==============================] - 0s 2ms/step - loss: 7242.2534 - mae: 7242.2534\n",
            "Epoch 72/100\n",
            "34/34 [==============================] - 0s 2ms/step - loss: 7212.3784 - mae: 7212.3784\n",
            "Epoch 73/100\n",
            "34/34 [==============================] - 0s 2ms/step - loss: 7207.8794 - mae: 7207.8794\n",
            "Epoch 74/100\n",
            "34/34 [==============================] - 0s 2ms/step - loss: 7380.1738 - mae: 7380.1738\n",
            "Epoch 75/100\n",
            "34/34 [==============================] - 0s 2ms/step - loss: 7098.4712 - mae: 7098.4712\n",
            "Epoch 76/100\n",
            "34/34 [==============================] - 0s 2ms/step - loss: 6790.1484 - mae: 6790.1484\n",
            "Epoch 77/100\n",
            "34/34 [==============================] - 0s 2ms/step - loss: 7098.3394 - mae: 7098.3394\n",
            "Epoch 78/100\n",
            "34/34 [==============================] - 0s 2ms/step - loss: 7297.2861 - mae: 7297.2861\n",
            "Epoch 79/100\n",
            "34/34 [==============================] - 0s 2ms/step - loss: 7169.3101 - mae: 7169.3101\n",
            "Epoch 80/100\n",
            "34/34 [==============================] - 0s 2ms/step - loss: 7033.0000 - mae: 7033.0000\n",
            "Epoch 81/100\n",
            "34/34 [==============================] - 0s 2ms/step - loss: 7187.0786 - mae: 7187.0786\n",
            "Epoch 82/100\n",
            "34/34 [==============================] - 0s 2ms/step - loss: 7174.1792 - mae: 7174.1792\n",
            "Epoch 83/100\n",
            "34/34 [==============================] - 0s 2ms/step - loss: 7020.7524 - mae: 7020.7524\n",
            "Epoch 84/100\n",
            "34/34 [==============================] - 0s 2ms/step - loss: 7358.5771 - mae: 7358.5771\n",
            "Epoch 85/100\n",
            "34/34 [==============================] - 0s 2ms/step - loss: 7151.4956 - mae: 7151.4956\n",
            "Epoch 86/100\n",
            "34/34 [==============================] - 0s 2ms/step - loss: 7148.2500 - mae: 7148.2500\n",
            "Epoch 87/100\n",
            "34/34 [==============================] - 0s 2ms/step - loss: 7082.1914 - mae: 7082.1914\n",
            "Epoch 88/100\n",
            "34/34 [==============================] - 0s 2ms/step - loss: 7118.4175 - mae: 7118.4175\n",
            "Epoch 89/100\n",
            "34/34 [==============================] - 0s 2ms/step - loss: 7166.2344 - mae: 7166.2344\n",
            "Epoch 90/100\n",
            "34/34 [==============================] - 0s 2ms/step - loss: 7393.9746 - mae: 7393.9746\n",
            "Epoch 91/100\n",
            "34/34 [==============================] - 0s 2ms/step - loss: 7110.8364 - mae: 7110.8364\n",
            "Epoch 92/100\n",
            "34/34 [==============================] - 0s 2ms/step - loss: 6945.7300 - mae: 6945.7300\n",
            "Epoch 93/100\n",
            "34/34 [==============================] - 0s 2ms/step - loss: 7250.4854 - mae: 7250.4854\n",
            "Epoch 94/100\n",
            "34/34 [==============================] - 0s 2ms/step - loss: 7100.3496 - mae: 7100.3496\n",
            "Epoch 95/100\n",
            "34/34 [==============================] - 0s 2ms/step - loss: 7125.3511 - mae: 7125.3511\n",
            "Epoch 96/100\n",
            "34/34 [==============================] - 0s 2ms/step - loss: 7008.7866 - mae: 7008.7866\n",
            "Epoch 97/100\n",
            "34/34 [==============================] - 0s 2ms/step - loss: 7324.9473 - mae: 7324.9473\n",
            "Epoch 98/100\n",
            "34/34 [==============================] - 0s 2ms/step - loss: 7334.5723 - mae: 7334.5723\n",
            "Epoch 99/100\n",
            "34/34 [==============================] - 0s 2ms/step - loss: 7223.0864 - mae: 7223.0864\n",
            "Epoch 100/100\n",
            "34/34 [==============================] - 0s 2ms/step - loss: 7052.6846 - mae: 7052.6846\n"
          ]
        },
        {
          "output_type": "execute_result",
          "data": {
            "text/plain": [
              "<keras.callbacks.History at 0x7efdc0e9f400>"
            ]
          },
          "metadata": {},
          "execution_count": 49
        }
      ]
    },
    {
      "cell_type": "code",
      "source": [
        "# Copy / pasting my predictions function from the previous notebook:\n",
        "def prediction_function (model, \n",
        "                         X_test=X_test,\n",
        "                         y_true=y_test):\n",
        "  \n",
        "  \"\"\"Function for evaluating the model. \n",
        "  Prints the data and reports the MAE & MSE.\n",
        "  Return the predicted labels.\n",
        "  \"\"\"\n",
        "  y_pred = model.predict(X_test)\n",
        "  plt.scatter(y_test, y_test, c=\"g\", label=\"Groundtruth\")\n",
        "  plt.scatter(y_test, y_pred, c=\"r\", label=\"Predictions\")\n",
        "  plt.legend();\n",
        "  mae_ = mae(y_true, y_pred).numpy()\n",
        "  mse_ = mse(y_true, y_pred).numpy()\n",
        "  print(f\"The MAE is: {mae_}\")\n",
        "  print(f\"The MSE is: {mse_}\")\n",
        "  return (y_pred, mae_, mse_)\n",
        "\n",
        "\n",
        "\n",
        "def mae(y_true, y_preds):\n",
        "  return tf.metrics.mean_absolute_error(y_true, tf.squeeze(tf.constant(y_preds)))\n",
        "\n",
        "def mse(y_true, y_preds):\n",
        "  return tf.metrics.mean_squared_error(y_true, tf.squeeze(tf.constant(y_preds)))"
      ],
      "metadata": {
        "id": "Xf2o-tKNNm4B"
      },
      "execution_count": 50,
      "outputs": []
    },
    {
      "cell_type": "code",
      "source": [
        "prediction_function(model);"
      ],
      "metadata": {
        "colab": {
          "base_uri": "https://localhost:8080/",
          "height": 319
        },
        "id": "K2R4yJqzPRc7",
        "outputId": "a08c2b36-5558-4308-e346-784aec20f5cf"
      },
      "execution_count": 51,
      "outputs": [
        {
          "output_type": "stream",
          "name": "stdout",
          "text": [
            "9/9 [==============================] - 0s 2ms/step\n",
            "The MAE is: 6547.32421875\n",
            "The MSE is: 144298720.0\n"
          ]
        },
        {
          "output_type": "display_data",
          "data": {
            "text/plain": [
              "<Figure size 432x288 with 1 Axes>"
            ],
            "image/png": "[encoded data removed]"
          },
          "metadata": {
            "needs_background": "light"
          }
        }
      ]
    },
    {
      "cell_type": "code",
      "source": [
        "y_train.ndim"
      ],
      "metadata": {
        "colab": {
          "base_uri": "https://localhost:8080/"
        },
        "id": "JSX2k41LPc4j",
        "outputId": "d587d736-2d30-4a83-e4c9-7d70be60bfe6"
      },
      "execution_count": 52,
      "outputs": [
        {
          "output_type": "execute_result",
          "data": {
            "text/plain": [
              "1"
            ]
          },
          "metadata": {},
          "execution_count": 52
        }
      ]
    },
    {
      "cell_type": "code",
      "source": [
        "y_pred = model.predict(X_test)\n",
        "y_pred[:5]"
      ],
      "metadata": {
        "colab": {
          "base_uri": "https://localhost:8080/"
        },
        "id": "mPTccF4SPhAc",
        "outputId": "d5a65ce4-7f4a-402d-8398-0f45800da841"
      },
      "execution_count": 53,
      "outputs": [
        {
          "output_type": "stream",
          "name": "stdout",
          "text": [
            "9/9 [==============================] - 0s 2ms/step\n"
          ]
        },
        {
          "output_type": "execute_result",
          "data": {
            "text/plain": [
              "array([[3455.1619],\n",
              "       [5684.687 ],\n",
              "       [2121.7412],\n",
              "       [5228.7417],\n",
              "       [8195.472 ]], dtype=float32)"
            ]
          },
          "metadata": {},
          "execution_count": 53
        }
      ]
    },
    {
      "cell_type": "code",
      "source": [
        "y_test.shape"
      ],
      "metadata": {
        "colab": {
          "base_uri": "https://localhost:8080/"
        },
        "id": "eINq4VBxQMs3",
        "outputId": "0193466d-ba4c-41f0-f01d-fff8fe6f9fa0"
      },
      "execution_count": 54,
      "outputs": [
        {
          "output_type": "execute_result",
          "data": {
            "text/plain": [
              "TensorShape([268])"
            ]
          },
          "metadata": {},
          "execution_count": 54
        }
      ]
    },
    {
      "cell_type": "code",
      "source": [
        "y_pred.shape"
      ],
      "metadata": {
        "colab": {
          "base_uri": "https://localhost:8080/"
        },
        "id": "vpGSPiLDQO8v",
        "outputId": "f310b2ba-6eb3-4936-8d59-a5745a0a9cba"
      },
      "execution_count": 55,
      "outputs": [
        {
          "output_type": "execute_result",
          "data": {
            "text/plain": [
              "(268, 1)"
            ]
          },
          "metadata": {},
          "execution_count": 55
        }
      ]
    },
    {
      "cell_type": "markdown",
      "source": [
        "**Note to self**: Looks like the model sucks. Let's try to improve it.insurance_onehot\n",
        "\n",
        "## Improving The Model.\n",
        "\n",
        "*Base model*: 2 layers, SGD optimizer, 100 epochs\n",
        "Strategies:\n",
        "\n",
        "* Change the number of epochs to 250, then 200.\n",
        "\n",
        "* Change the optimizer to Adam.\n",
        "\n",
        "** Choose the best optimizer between Adam and SGD, and change the learning_rate:\n",
        "\n",
        "* Change the number of layers:\n",
        "** 1 layer\n",
        "** 3 layers\n",
        "\n",
        "* Pick the best of the above and change the number of epochs:\n",
        "** 500 epochs (if overfitting, try 250 epochs) \n"
      ],
      "metadata": {
        "id": "gyO0EGhtQRkS"
      }
    },
    {
      "cell_type": "code",
      "source": [
        "# Step. Changing the number of epochs.\n",
        "\n",
        "model_epoch_tuning = tf.keras.Sequential([\n",
        "    tf.keras.layers.Dense(10, input_shape=[11]),\n",
        "    tf.keras.layers.Dense(1)\n",
        "],name=\"model_epoch_tuning\")\n",
        "\n",
        "model_epoch_tuning.compile(loss=tf.keras.losses.mean_absolute_error,\n",
        "              optimizer=tf.keras.optimizers.SGD(),\n",
        "              metrics=\"mae\")\n",
        "\n",
        "model_epoch_tuning.summary()"
      ],
      "metadata": {
        "colab": {
          "base_uri": "https://localhost:8080/"
        },
        "id": "4XuRZrd9i7eo",
        "outputId": "2d9bd581-fdcf-405b-80bb-763033843dc6"
      },
      "execution_count": 72,
      "outputs": [
        {
          "output_type": "stream",
          "name": "stdout",
          "text": [
            "Model: \"model_epoch_tuning\"\n",
            "_________________________________________________________________\n",
            " Layer (type)                Output Shape              Param #   \n",
            "=================================================================\n",
            " dense_33 (Dense)            (None, 10)                120       \n",
            "                                                                 \n",
            " dense_34 (Dense)            (None, 1)                 11        \n",
            "                                                                 \n",
            "=================================================================\n",
            "Total params: 131\n",
            "Trainable params: 131\n",
            "Non-trainable params: 0\n",
            "_________________________________________________________________\n"
          ]
        }
      ]
    },
    {
      "cell_type": "code",
      "source": [
        "model_epoch_tuning.fit(tf.expand_dims(X_train, axis=-1), y_train, epochs=100)"
      ],
      "metadata": {
        "id": "6hEuAOQmkKS_"
      },
      "execution_count": null,
      "outputs": []
    },
    {
      "cell_type": "code",
      "source": [
        "# Epoch Tuning =250\n",
        "results_epoch_tuning=prediction_function(model_epoch_tuning)"
      ],
      "metadata": {
        "colab": {
          "base_uri": "https://localhost:8080/",
          "height": 319
        },
        "id": "aWm-Xuv5lKn1",
        "outputId": "1e72d136-b2f3-48f6-95a6-e0f02f6f6729"
      },
      "execution_count": 74,
      "outputs": [
        {
          "output_type": "stream",
          "name": "stdout",
          "text": [
            "9/9 [==============================] - 0s 2ms/step\n",
            "The MAE is: 6827.44189453125\n",
            "The MSE is: 83361400.0\n"
          ]
        },
        {
          "output_type": "display_data",
          "data": {
            "text/plain": [
              "<Figure size 432x288 with 1 Axes>"
            ],
            "image/png": "[encoded data removed]"
          },
          "metadata": {
            "needs_background": "light"
          }
        }
      ]
    },
    {
      "cell_type": "code",
      "source": [
        "# Epoch Tuning = 100\n",
        "results_epoch_tuning=prediction_function(model_epoch_tuning)"
      ],
      "metadata": {
        "colab": {
          "base_uri": "https://localhost:8080/",
          "height": 319
        },
        "id": "NM3LnAbjKcrq",
        "outputId": "80ca8f77-cebb-4989-9542-396d51138c09"
      },
      "execution_count": 76,
      "outputs": [
        {
          "output_type": "stream",
          "name": "stdout",
          "text": [
            "9/9 [==============================] - 0s 2ms/step\n",
            "The MAE is: 4797.35205078125\n",
            "The MSE is: 83126904.0\n"
          ]
        },
        {
          "output_type": "display_data",
          "data": {
            "text/plain": [
              "<Figure size 432x288 with 1 Axes>"
            ],
            "image/png": "[encoded data removed]"
          },
          "metadata": {
            "needs_background": "light"
          }
        }
      ]
    },
    {
      "cell_type": "markdown",
      "source": [
        "#### Observation: \n",
        "Better results at epochs = 100 over epochs = 250. Overfitting."
      ],
      "metadata": {
        "id": "YUO-sXLMKq_t"
      }
    },
    {
      "cell_type": "markdown",
      "source": [
        "#### Changing the optimizer...."
      ],
      "metadata": {
        "id": "1ZJHoLTzK9np"
      }
    },
    {
      "cell_type": "code",
      "source": [
        "# Run the model with Adam optimizer \n",
        "model_optimizer_tuning = tf.keras.Sequential([\n",
        "    tf.keras.layers.Dense(10, input_shape=[11]),\n",
        "    tf.keras.layers.Dense(1)\n",
        "],name=\"model_optimizer_Adam_tuning\")\n",
        "\n",
        "model_optimizer_tuning.compile(loss=tf.keras.losses.mean_absolute_error,\n",
        "              optimizer=tf.keras.optimizers.Adam(),\n",
        "              metrics=\"mae\")\n",
        "\n",
        "model_optimizer_tuning.fit(tf.expand_dims(X_train, axis=-1), y_train, epochs=100)"
      ],
      "metadata": {
        "id": "K5bSCDhHlTss"
      },
      "execution_count": null,
      "outputs": []
    },
    {
      "cell_type": "code",
      "source": [
        "# Results with Adam optimizer\n",
        "results_optimizer_tuning = prediction_function(model_optimizer_tuning)"
      ],
      "metadata": {
        "colab": {
          "base_uri": "https://localhost:8080/",
          "height": 319
        },
        "id": "NQH9SeX5lbTi",
        "outputId": "41105bba-ad8f-4178-9067-e399d92a8845"
      },
      "execution_count": 80,
      "outputs": [
        {
          "output_type": "stream",
          "name": "stdout",
          "text": [
            "9/9 [==============================] - 0s 2ms/step\n",
            "The MAE is: 7914.2265625\n",
            "The MSE is: 173731888.0\n"
          ]
        },
        {
          "output_type": "display_data",
          "data": {
            "text/plain": [
              "<Figure size 432x288 with 1 Axes>"
            ],
            "image/png": "[encoded data removed]"
          },
          "metadata": {
            "needs_background": "light"
          }
        }
      ]
    },
    {
      "cell_type": "markdown",
      "source": [
        "####Observation: \n",
        "Adam optimizer performed worse. Will now change the layers, by adding an additional layer with 100 neurons"
      ],
      "metadata": {
        "id": "RD0ce5k0Lr_t"
      }
    },
    {
      "cell_type": "code",
      "source": [
        "model_layers = tf.keras.Sequential([\n",
        "    tf.keras.layers.Dense(100, input_shape=[11]),\n",
        "    tf.keras.layers.Dense(10),\n",
        "    tf.keras.layers.Dense(1)\n",
        "])\n",
        "model_layers.compile(loss=tf.keras.losses.mean_absolute_error,\n",
        "                     optimizer=tf.keras.optimizers.Adam(),\n",
        "                     metrics=\"mae\")\n",
        "model_layers.summary()"
      ],
      "metadata": {
        "colab": {
          "base_uri": "https://localhost:8080/"
        },
        "id": "cs98VVozLr6_",
        "outputId": "bffec1ad-c929-4021-ad57-05046f554376"
      },
      "execution_count": 117,
      "outputs": [
        {
          "output_type": "stream",
          "name": "stdout",
          "text": [
            "Model: \"sequential_11\"\n",
            "_________________________________________________________________\n",
            " Layer (type)                Output Shape              Param #   \n",
            "=================================================================\n",
            " dense_72 (Dense)            (None, 100)               1200      \n",
            "                                                                 \n",
            " dense_73 (Dense)            (None, 10)                1010      \n",
            "                                                                 \n",
            " dense_74 (Dense)            (None, 1)                 11        \n",
            "                                                                 \n",
            "=================================================================\n",
            "Total params: 2,221\n",
            "Trainable params: 2,221\n",
            "Non-trainable params: 0\n",
            "_________________________________________________________________\n"
          ]
        }
      ]
    },
    {
      "cell_type": "code",
      "source": [
        "history = model_layers.fit(X_train, y_train, epochs=200, verbose=2)"
      ],
      "metadata": {
        "colab": {
          "base_uri": "https://localhost:8080/"
        },
        "id": "OZ1OvKIALlbT",
        "outputId": "f8dc7429-2e3b-4fe8-ba31-d5f4058a52eb"
      },
      "execution_count": 118,
      "outputs": [
        {
          "output_type": "stream",
          "name": "stdout",
          "text": [
            "Epoch 1/200\n",
            "34/34 - 1s - loss: 13140.1650 - mae: 13140.1650 - 767ms/epoch - 23ms/step\n",
            "Epoch 2/200\n",
            "34/34 - 0s - loss: 13003.6748 - mae: 13003.6748 - 59ms/epoch - 2ms/step\n",
            "Epoch 3/200\n",
            "34/34 - 0s - loss: 12709.3984 - mae: 12709.3984 - 56ms/epoch - 2ms/step\n",
            "Epoch 4/200\n",
            "34/34 - 0s - loss: 12114.7646 - mae: 12114.7646 - 56ms/epoch - 2ms/step\n",
            "Epoch 5/200\n",
            "34/34 - 0s - loss: 11074.5527 - mae: 11074.5527 - 56ms/epoch - 2ms/step\n",
            "Epoch 6/200\n",
            "34/34 - 0s - loss: 9644.3418 - mae: 9644.3418 - 59ms/epoch - 2ms/step\n",
            "Epoch 7/200\n",
            "34/34 - 0s - loss: 8261.0342 - mae: 8261.0342 - 61ms/epoch - 2ms/step\n",
            "Epoch 8/200\n",
            "34/34 - 0s - loss: 7487.6772 - mae: 7487.6772 - 56ms/epoch - 2ms/step\n",
            "Epoch 9/200\n",
            "34/34 - 0s - loss: 7343.2480 - mae: 7343.2480 - 56ms/epoch - 2ms/step\n",
            "Epoch 10/200\n",
            "34/34 - 0s - loss: 7319.5742 - mae: 7319.5742 - 60ms/epoch - 2ms/step\n",
            "Epoch 11/200\n",
            "34/34 - 0s - loss: 7300.1289 - mae: 7300.1289 - 55ms/epoch - 2ms/step\n",
            "Epoch 12/200\n",
            "34/34 - 0s - loss: 7278.2734 - mae: 7278.2734 - 58ms/epoch - 2ms/step\n",
            "Epoch 13/200\n",
            "34/34 - 0s - loss: 7254.5771 - mae: 7254.5771 - 65ms/epoch - 2ms/step\n",
            "Epoch 14/200\n",
            "34/34 - 0s - loss: 7236.0996 - mae: 7236.0996 - 67ms/epoch - 2ms/step\n",
            "Epoch 15/200\n",
            "34/34 - 0s - loss: 7210.8647 - mae: 7210.8647 - 55ms/epoch - 2ms/step\n",
            "Epoch 16/200\n",
            "34/34 - 0s - loss: 7187.2871 - mae: 7187.2871 - 54ms/epoch - 2ms/step\n",
            "Epoch 17/200\n",
            "34/34 - 0s - loss: 7165.2642 - mae: 7165.2642 - 73ms/epoch - 2ms/step\n",
            "Epoch 18/200\n",
            "34/34 - 0s - loss: 7142.0591 - mae: 7142.0591 - 55ms/epoch - 2ms/step\n",
            "Epoch 19/200\n",
            "34/34 - 0s - loss: 7120.1919 - mae: 7120.1919 - 53ms/epoch - 2ms/step\n",
            "Epoch 20/200\n",
            "34/34 - 0s - loss: 7093.7349 - mae: 7093.7349 - 65ms/epoch - 2ms/step\n",
            "Epoch 21/200\n",
            "34/34 - 0s - loss: 7069.8276 - mae: 7069.8276 - 55ms/epoch - 2ms/step\n",
            "Epoch 22/200\n",
            "34/34 - 0s - loss: 7045.2861 - mae: 7045.2861 - 57ms/epoch - 2ms/step\n",
            "Epoch 23/200\n",
            "34/34 - 0s - loss: 7017.6724 - mae: 7017.6724 - 57ms/epoch - 2ms/step\n",
            "Epoch 24/200\n",
            "34/34 - 0s - loss: 6990.8369 - mae: 6990.8369 - 56ms/epoch - 2ms/step\n",
            "Epoch 25/200\n",
            "34/34 - 0s - loss: 6963.6196 - mae: 6963.6196 - 58ms/epoch - 2ms/step\n",
            "Epoch 26/200\n",
            "34/34 - 0s - loss: 6934.9429 - mae: 6934.9429 - 55ms/epoch - 2ms/step\n",
            "Epoch 27/200\n",
            "34/34 - 0s - loss: 6906.1064 - mae: 6906.1064 - 55ms/epoch - 2ms/step\n",
            "Epoch 28/200\n",
            "34/34 - 0s - loss: 6875.3340 - mae: 6875.3340 - 61ms/epoch - 2ms/step\n",
            "Epoch 29/200\n",
            "34/34 - 0s - loss: 6845.2090 - mae: 6845.2090 - 68ms/epoch - 2ms/step\n",
            "Epoch 30/200\n",
            "34/34 - 0s - loss: 6813.8506 - mae: 6813.8506 - 58ms/epoch - 2ms/step\n",
            "Epoch 31/200\n",
            "34/34 - 0s - loss: 6783.7759 - mae: 6783.7759 - 59ms/epoch - 2ms/step\n",
            "Epoch 32/200\n",
            "34/34 - 0s - loss: 6749.8750 - mae: 6749.8750 - 54ms/epoch - 2ms/step\n",
            "Epoch 33/200\n",
            "34/34 - 0s - loss: 6717.3218 - mae: 6717.3218 - 54ms/epoch - 2ms/step\n",
            "Epoch 34/200\n",
            "34/34 - 0s - loss: 6679.5767 - mae: 6679.5767 - 63ms/epoch - 2ms/step\n",
            "Epoch 35/200\n",
            "34/34 - 0s - loss: 6646.9985 - mae: 6646.9985 - 56ms/epoch - 2ms/step\n",
            "Epoch 36/200\n",
            "34/34 - 0s - loss: 6605.7573 - mae: 6605.7573 - 55ms/epoch - 2ms/step\n",
            "Epoch 37/200\n",
            "34/34 - 0s - loss: 6568.0562 - mae: 6568.0562 - 62ms/epoch - 2ms/step\n",
            "Epoch 38/200\n",
            "34/34 - 0s - loss: 6534.8252 - mae: 6534.8252 - 57ms/epoch - 2ms/step\n",
            "Epoch 39/200\n",
            "34/34 - 0s - loss: 6496.5176 - mae: 6496.5176 - 58ms/epoch - 2ms/step\n",
            "Epoch 40/200\n",
            "34/34 - 0s - loss: 6464.9268 - mae: 6464.9268 - 64ms/epoch - 2ms/step\n",
            "Epoch 41/200\n",
            "34/34 - 0s - loss: 6433.0752 - mae: 6433.0752 - 58ms/epoch - 2ms/step\n",
            "Epoch 42/200\n",
            "34/34 - 0s - loss: 6408.9854 - mae: 6408.9854 - 58ms/epoch - 2ms/step\n",
            "Epoch 43/200\n",
            "34/34 - 0s - loss: 6385.6270 - mae: 6385.6270 - 76ms/epoch - 2ms/step\n",
            "Epoch 44/200\n",
            "34/34 - 0s - loss: 6368.2202 - mae: 6368.2202 - 56ms/epoch - 2ms/step\n",
            "Epoch 45/200\n",
            "34/34 - 0s - loss: 6350.2817 - mae: 6350.2817 - 64ms/epoch - 2ms/step\n",
            "Epoch 46/200\n",
            "34/34 - 0s - loss: 6336.5015 - mae: 6336.5015 - 53ms/epoch - 2ms/step\n",
            "Epoch 47/200\n",
            "34/34 - 0s - loss: 6317.8931 - mae: 6317.8931 - 54ms/epoch - 2ms/step\n",
            "Epoch 48/200\n",
            "34/34 - 0s - loss: 6305.0962 - mae: 6305.0962 - 67ms/epoch - 2ms/step\n",
            "Epoch 49/200\n",
            "34/34 - 0s - loss: 6290.2051 - mae: 6290.2051 - 87ms/epoch - 3ms/step\n",
            "Epoch 50/200\n",
            "34/34 - 0s - loss: 6278.9058 - mae: 6278.9058 - 81ms/epoch - 2ms/step\n",
            "Epoch 51/200\n",
            "34/34 - 0s - loss: 6263.1743 - mae: 6263.1743 - 84ms/epoch - 2ms/step\n",
            "Epoch 52/200\n",
            "34/34 - 0s - loss: 6250.5039 - mae: 6250.5039 - 88ms/epoch - 3ms/step\n",
            "Epoch 53/200\n",
            "34/34 - 0s - loss: 6237.3252 - mae: 6237.3252 - 87ms/epoch - 3ms/step\n",
            "Epoch 54/200\n",
            "34/34 - 0s - loss: 6222.0063 - mae: 6222.0063 - 86ms/epoch - 3ms/step\n",
            "Epoch 55/200\n",
            "34/34 - 0s - loss: 6213.0850 - mae: 6213.0850 - 83ms/epoch - 2ms/step\n",
            "Epoch 56/200\n",
            "34/34 - 0s - loss: 6200.1997 - mae: 6200.1997 - 81ms/epoch - 2ms/step\n",
            "Epoch 57/200\n",
            "34/34 - 0s - loss: 6183.9175 - mae: 6183.9175 - 84ms/epoch - 2ms/step\n",
            "Epoch 58/200\n",
            "34/34 - 0s - loss: 6168.9692 - mae: 6168.9692 - 82ms/epoch - 2ms/step\n",
            "Epoch 59/200\n",
            "34/34 - 0s - loss: 6156.2231 - mae: 6156.2231 - 81ms/epoch - 2ms/step\n",
            "Epoch 60/200\n",
            "34/34 - 0s - loss: 6141.7422 - mae: 6141.7422 - 84ms/epoch - 2ms/step\n",
            "Epoch 61/200\n",
            "34/34 - 0s - loss: 6122.6470 - mae: 6122.6470 - 90ms/epoch - 3ms/step\n",
            "Epoch 62/200\n",
            "34/34 - 0s - loss: 6110.2666 - mae: 6110.2666 - 88ms/epoch - 3ms/step\n",
            "Epoch 63/200\n",
            "34/34 - 0s - loss: 6093.1689 - mae: 6093.1689 - 87ms/epoch - 3ms/step\n",
            "Epoch 64/200\n",
            "34/34 - 0s - loss: 6078.7988 - mae: 6078.7988 - 83ms/epoch - 2ms/step\n",
            "Epoch 65/200\n",
            "34/34 - 0s - loss: 6062.4453 - mae: 6062.4453 - 82ms/epoch - 2ms/step\n",
            "Epoch 66/200\n",
            "34/34 - 0s - loss: 6041.6660 - mae: 6041.6660 - 80ms/epoch - 2ms/step\n",
            "Epoch 67/200\n",
            "34/34 - 0s - loss: 6029.1396 - mae: 6029.1396 - 76ms/epoch - 2ms/step\n",
            "Epoch 68/200\n",
            "34/34 - 0s - loss: 6006.6929 - mae: 6006.6929 - 80ms/epoch - 2ms/step\n",
            "Epoch 69/200\n",
            "34/34 - 0s - loss: 5989.5610 - mae: 5989.5610 - 82ms/epoch - 2ms/step\n",
            "Epoch 70/200\n",
            "34/34 - 0s - loss: 5970.1240 - mae: 5970.1240 - 77ms/epoch - 2ms/step\n",
            "Epoch 71/200\n",
            "34/34 - 0s - loss: 5952.5127 - mae: 5952.5127 - 122ms/epoch - 4ms/step\n",
            "Epoch 72/200\n",
            "34/34 - 0s - loss: 5934.1470 - mae: 5934.1470 - 129ms/epoch - 4ms/step\n",
            "Epoch 73/200\n",
            "34/34 - 0s - loss: 5912.7373 - mae: 5912.7373 - 134ms/epoch - 4ms/step\n",
            "Epoch 74/200\n",
            "34/34 - 0s - loss: 5890.5898 - mae: 5890.5898 - 156ms/epoch - 5ms/step\n",
            "Epoch 75/200\n",
            "34/34 - 0s - loss: 5869.5908 - mae: 5869.5908 - 147ms/epoch - 4ms/step\n",
            "Epoch 76/200\n",
            "34/34 - 0s - loss: 5843.5728 - mae: 5843.5728 - 138ms/epoch - 4ms/step\n",
            "Epoch 77/200\n",
            "34/34 - 0s - loss: 5820.9038 - mae: 5820.9038 - 145ms/epoch - 4ms/step\n",
            "Epoch 78/200\n",
            "34/34 - 0s - loss: 5796.8145 - mae: 5796.8145 - 126ms/epoch - 4ms/step\n",
            "Epoch 79/200\n",
            "34/34 - 0s - loss: 5770.8867 - mae: 5770.8867 - 80ms/epoch - 2ms/step\n",
            "Epoch 80/200\n",
            "34/34 - 0s - loss: 5744.1782 - mae: 5744.1782 - 81ms/epoch - 2ms/step\n",
            "Epoch 81/200\n",
            "34/34 - 0s - loss: 5720.9487 - mae: 5720.9487 - 119ms/epoch - 3ms/step\n",
            "Epoch 82/200\n",
            "34/34 - 0s - loss: 5691.5640 - mae: 5691.5640 - 100ms/epoch - 3ms/step\n",
            "Epoch 83/200\n",
            "34/34 - 0s - loss: 5663.2881 - mae: 5663.2881 - 92ms/epoch - 3ms/step\n",
            "Epoch 84/200\n",
            "34/34 - 0s - loss: 5628.1748 - mae: 5628.1748 - 80ms/epoch - 2ms/step\n",
            "Epoch 85/200\n",
            "34/34 - 0s - loss: 5601.2246 - mae: 5601.2246 - 68ms/epoch - 2ms/step\n",
            "Epoch 86/200\n",
            "34/34 - 0s - loss: 5566.5054 - mae: 5566.5054 - 55ms/epoch - 2ms/step\n",
            "Epoch 87/200\n",
            "34/34 - 0s - loss: 5531.5815 - mae: 5531.5815 - 55ms/epoch - 2ms/step\n",
            "Epoch 88/200\n",
            "34/34 - 0s - loss: 5495.0586 - mae: 5495.0586 - 100ms/epoch - 3ms/step\n",
            "Epoch 89/200\n",
            "34/34 - 0s - loss: 5457.7358 - mae: 5457.7358 - 153ms/epoch - 5ms/step\n",
            "Epoch 90/200\n",
            "34/34 - 0s - loss: 5415.8760 - mae: 5415.8760 - 72ms/epoch - 2ms/step\n",
            "Epoch 91/200\n",
            "34/34 - 0s - loss: 5374.3057 - mae: 5374.3057 - 59ms/epoch - 2ms/step\n",
            "Epoch 92/200\n",
            "34/34 - 0s - loss: 5327.8359 - mae: 5327.8359 - 59ms/epoch - 2ms/step\n",
            "Epoch 93/200\n",
            "34/34 - 0s - loss: 5282.8662 - mae: 5282.8662 - 59ms/epoch - 2ms/step\n",
            "Epoch 94/200\n",
            "34/34 - 0s - loss: 5235.9185 - mae: 5235.9185 - 57ms/epoch - 2ms/step\n",
            "Epoch 95/200\n",
            "34/34 - 0s - loss: 5182.0781 - mae: 5182.0781 - 72ms/epoch - 2ms/step\n",
            "Epoch 96/200\n",
            "34/34 - 0s - loss: 5141.5210 - mae: 5141.5210 - 119ms/epoch - 4ms/step\n",
            "Epoch 97/200\n",
            "34/34 - 0s - loss: 5076.3267 - mae: 5076.3267 - 94ms/epoch - 3ms/step\n",
            "Epoch 98/200\n",
            "34/34 - 0s - loss: 5016.0332 - mae: 5016.0332 - 91ms/epoch - 3ms/step\n",
            "Epoch 99/200\n",
            "34/34 - 0s - loss: 4958.8398 - mae: 4958.8398 - 63ms/epoch - 2ms/step\n",
            "Epoch 100/200\n",
            "34/34 - 0s - loss: 4891.2710 - mae: 4891.2710 - 61ms/epoch - 2ms/step\n",
            "Epoch 101/200\n",
            "34/34 - 0s - loss: 4823.7417 - mae: 4823.7417 - 78ms/epoch - 2ms/step\n",
            "Epoch 102/200\n",
            "34/34 - 0s - loss: 4754.5771 - mae: 4754.5771 - 59ms/epoch - 2ms/step\n",
            "Epoch 103/200\n",
            "34/34 - 0s - loss: 4683.4727 - mae: 4683.4727 - 55ms/epoch - 2ms/step\n",
            "Epoch 104/200\n",
            "34/34 - 0s - loss: 4599.9126 - mae: 4599.9126 - 63ms/epoch - 2ms/step\n",
            "Epoch 105/200\n",
            "34/34 - 0s - loss: 4522.8506 - mae: 4522.8506 - 55ms/epoch - 2ms/step\n",
            "Epoch 106/200\n",
            "34/34 - 0s - loss: 4432.0830 - mae: 4432.0830 - 54ms/epoch - 2ms/step\n",
            "Epoch 107/200\n",
            "34/34 - 0s - loss: 4343.1504 - mae: 4343.1504 - 82ms/epoch - 2ms/step\n",
            "Epoch 108/200\n",
            "34/34 - 0s - loss: 4257.8091 - mae: 4257.8091 - 91ms/epoch - 3ms/step\n",
            "Epoch 109/200\n",
            "34/34 - 0s - loss: 4172.2559 - mae: 4172.2559 - 89ms/epoch - 3ms/step\n",
            "Epoch 110/200\n",
            "34/34 - 0s - loss: 4077.5317 - mae: 4077.5317 - 94ms/epoch - 3ms/step\n",
            "Epoch 111/200\n",
            "34/34 - 0s - loss: 4011.4980 - mae: 4011.4980 - 84ms/epoch - 2ms/step\n",
            "Epoch 112/200\n",
            "34/34 - 0s - loss: 3935.5950 - mae: 3935.5950 - 101ms/epoch - 3ms/step\n",
            "Epoch 113/200\n",
            "34/34 - 0s - loss: 3870.3613 - mae: 3870.3613 - 93ms/epoch - 3ms/step\n",
            "Epoch 114/200\n",
            "34/34 - 0s - loss: 3821.5078 - mae: 3821.5078 - 101ms/epoch - 3ms/step\n",
            "Epoch 115/200\n",
            "34/34 - 0s - loss: 3777.6482 - mae: 3777.6482 - 59ms/epoch - 2ms/step\n",
            "Epoch 116/200\n",
            "34/34 - 0s - loss: 3750.9377 - mae: 3750.9377 - 55ms/epoch - 2ms/step\n",
            "Epoch 117/200\n",
            "34/34 - 0s - loss: 3729.7759 - mae: 3729.7759 - 60ms/epoch - 2ms/step\n",
            "Epoch 118/200\n",
            "34/34 - 0s - loss: 3731.7461 - mae: 3731.7461 - 92ms/epoch - 3ms/step\n",
            "Epoch 119/200\n",
            "34/34 - 0s - loss: 3701.6028 - mae: 3701.6028 - 113ms/epoch - 3ms/step\n",
            "Epoch 120/200\n",
            "34/34 - 0s - loss: 3692.6995 - mae: 3692.6995 - 58ms/epoch - 2ms/step\n",
            "Epoch 121/200\n",
            "34/34 - 0s - loss: 3678.2595 - mae: 3678.2595 - 61ms/epoch - 2ms/step\n",
            "Epoch 122/200\n",
            "34/34 - 0s - loss: 3671.7478 - mae: 3671.7478 - 91ms/epoch - 3ms/step\n",
            "Epoch 123/200\n",
            "34/34 - 0s - loss: 3662.0608 - mae: 3662.0608 - 55ms/epoch - 2ms/step\n",
            "Epoch 124/200\n",
            "34/34 - 0s - loss: 3655.7913 - mae: 3655.7913 - 56ms/epoch - 2ms/step\n",
            "Epoch 125/200\n",
            "34/34 - 0s - loss: 3658.8455 - mae: 3658.8455 - 72ms/epoch - 2ms/step\n",
            "Epoch 126/200\n",
            "34/34 - 0s - loss: 3654.7236 - mae: 3654.7236 - 111ms/epoch - 3ms/step\n",
            "Epoch 127/200\n",
            "34/34 - 0s - loss: 3646.3071 - mae: 3646.3071 - 69ms/epoch - 2ms/step\n",
            "Epoch 128/200\n",
            "34/34 - 0s - loss: 3646.6648 - mae: 3646.6648 - 57ms/epoch - 2ms/step\n",
            "Epoch 129/200\n",
            "34/34 - 0s - loss: 3643.2256 - mae: 3643.2256 - 55ms/epoch - 2ms/step\n",
            "Epoch 130/200\n",
            "34/34 - 0s - loss: 3640.0234 - mae: 3640.0234 - 85ms/epoch - 2ms/step\n",
            "Epoch 131/200\n",
            "34/34 - 0s - loss: 3643.3040 - mae: 3643.3040 - 58ms/epoch - 2ms/step\n",
            "Epoch 132/200\n",
            "34/34 - 0s - loss: 3637.3062 - mae: 3637.3062 - 64ms/epoch - 2ms/step\n",
            "Epoch 133/200\n",
            "34/34 - 0s - loss: 3635.7742 - mae: 3635.7742 - 74ms/epoch - 2ms/step\n",
            "Epoch 134/200\n",
            "34/34 - 0s - loss: 3636.2893 - mae: 3636.2893 - 56ms/epoch - 2ms/step\n",
            "Epoch 135/200\n",
            "34/34 - 0s - loss: 3633.3169 - mae: 3633.3169 - 57ms/epoch - 2ms/step\n",
            "Epoch 136/200\n",
            "34/34 - 0s - loss: 3633.9875 - mae: 3633.9875 - 59ms/epoch - 2ms/step\n",
            "Epoch 137/200\n",
            "34/34 - 0s - loss: 3631.4434 - mae: 3631.4434 - 91ms/epoch - 3ms/step\n",
            "Epoch 138/200\n",
            "34/34 - 0s - loss: 3637.7773 - mae: 3637.7773 - 124ms/epoch - 4ms/step\n",
            "Epoch 139/200\n",
            "34/34 - 0s - loss: 3631.5962 - mae: 3631.5962 - 101ms/epoch - 3ms/step\n",
            "Epoch 140/200\n",
            "34/34 - 0s - loss: 3629.1797 - mae: 3629.1797 - 93ms/epoch - 3ms/step\n",
            "Epoch 141/200\n",
            "34/34 - 0s - loss: 3631.2170 - mae: 3631.2170 - 88ms/epoch - 3ms/step\n",
            "Epoch 142/200\n",
            "34/34 - 0s - loss: 3619.7390 - mae: 3619.7390 - 102ms/epoch - 3ms/step\n",
            "Epoch 143/200\n",
            "34/34 - 0s - loss: 3621.8970 - mae: 3621.8970 - 92ms/epoch - 3ms/step\n",
            "Epoch 144/200\n",
            "34/34 - 0s - loss: 3614.8594 - mae: 3614.8594 - 95ms/epoch - 3ms/step\n",
            "Epoch 145/200\n",
            "34/34 - 0s - loss: 3620.1663 - mae: 3620.1663 - 80ms/epoch - 2ms/step\n",
            "Epoch 146/200\n",
            "34/34 - 0s - loss: 3617.5859 - mae: 3617.5859 - 89ms/epoch - 3ms/step\n",
            "Epoch 147/200\n",
            "34/34 - 0s - loss: 3613.9043 - mae: 3613.9043 - 86ms/epoch - 3ms/step\n",
            "Epoch 148/200\n",
            "34/34 - 0s - loss: 3607.2959 - mae: 3607.2959 - 86ms/epoch - 3ms/step\n",
            "Epoch 149/200\n",
            "34/34 - 0s - loss: 3620.9646 - mae: 3620.9646 - 97ms/epoch - 3ms/step\n",
            "Epoch 150/200\n",
            "34/34 - 0s - loss: 3615.6606 - mae: 3615.6606 - 100ms/epoch - 3ms/step\n",
            "Epoch 151/200\n",
            "34/34 - 0s - loss: 3607.3542 - mae: 3607.3542 - 99ms/epoch - 3ms/step\n",
            "Epoch 152/200\n",
            "34/34 - 0s - loss: 3609.7344 - mae: 3609.7344 - 93ms/epoch - 3ms/step\n",
            "Epoch 153/200\n",
            "34/34 - 0s - loss: 3607.6982 - mae: 3607.6982 - 93ms/epoch - 3ms/step\n",
            "Epoch 154/200\n",
            "34/34 - 0s - loss: 3609.7388 - mae: 3609.7388 - 82ms/epoch - 2ms/step\n",
            "Epoch 155/200\n",
            "34/34 - 0s - loss: 3613.2327 - mae: 3613.2327 - 84ms/epoch - 2ms/step\n",
            "Epoch 156/200\n",
            "34/34 - 0s - loss: 3601.7693 - mae: 3601.7693 - 121ms/epoch - 4ms/step\n",
            "Epoch 157/200\n",
            "34/34 - 0s - loss: 3606.4202 - mae: 3606.4202 - 134ms/epoch - 4ms/step\n",
            "Epoch 158/200\n",
            "34/34 - 0s - loss: 3598.1221 - mae: 3598.1221 - 196ms/epoch - 6ms/step\n",
            "Epoch 159/200\n",
            "34/34 - 0s - loss: 3603.1023 - mae: 3603.1023 - 179ms/epoch - 5ms/step\n",
            "Epoch 160/200\n",
            "34/34 - 0s - loss: 3610.5569 - mae: 3610.5569 - 279ms/epoch - 8ms/step\n",
            "Epoch 161/200\n",
            "34/34 - 0s - loss: 3597.7371 - mae: 3597.7371 - 123ms/epoch - 4ms/step\n",
            "Epoch 162/200\n",
            "34/34 - 0s - loss: 3616.5789 - mae: 3616.5789 - 88ms/epoch - 3ms/step\n",
            "Epoch 163/200\n",
            "34/34 - 0s - loss: 3603.3669 - mae: 3603.3669 - 75ms/epoch - 2ms/step\n",
            "Epoch 164/200\n",
            "34/34 - 0s - loss: 3594.2290 - mae: 3594.2290 - 80ms/epoch - 2ms/step\n",
            "Epoch 165/200\n",
            "34/34 - 0s - loss: 3593.2173 - mae: 3593.2173 - 96ms/epoch - 3ms/step\n",
            "Epoch 166/200\n",
            "34/34 - 0s - loss: 3592.2432 - mae: 3592.2432 - 65ms/epoch - 2ms/step\n",
            "Epoch 167/200\n",
            "34/34 - 0s - loss: 3594.8047 - mae: 3594.8047 - 76ms/epoch - 2ms/step\n",
            "Epoch 168/200\n",
            "34/34 - 0s - loss: 3595.0061 - mae: 3595.0061 - 68ms/epoch - 2ms/step\n",
            "Epoch 169/200\n",
            "34/34 - 0s - loss: 3592.7625 - mae: 3592.7625 - 72ms/epoch - 2ms/step\n",
            "Epoch 170/200\n",
            "34/34 - 0s - loss: 3596.8669 - mae: 3596.8669 - 67ms/epoch - 2ms/step\n",
            "Epoch 171/200\n",
            "34/34 - 0s - loss: 3593.8596 - mae: 3593.8596 - 74ms/epoch - 2ms/step\n",
            "Epoch 172/200\n",
            "34/34 - 0s - loss: 3584.7791 - mae: 3584.7791 - 85ms/epoch - 2ms/step\n",
            "Epoch 173/200\n",
            "34/34 - 0s - loss: 3597.7869 - mae: 3597.7869 - 82ms/epoch - 2ms/step\n",
            "Epoch 174/200\n",
            "34/34 - 0s - loss: 3590.2908 - mae: 3590.2908 - 76ms/epoch - 2ms/step\n",
            "Epoch 175/200\n",
            "34/34 - 0s - loss: 3584.7332 - mae: 3584.7332 - 84ms/epoch - 2ms/step\n",
            "Epoch 176/200\n",
            "34/34 - 0s - loss: 3585.1287 - mae: 3585.1287 - 85ms/epoch - 3ms/step\n",
            "Epoch 177/200\n",
            "34/34 - 0s - loss: 3592.6284 - mae: 3592.6284 - 82ms/epoch - 2ms/step\n",
            "Epoch 178/200\n",
            "34/34 - 0s - loss: 3584.2056 - mae: 3584.2056 - 74ms/epoch - 2ms/step\n",
            "Epoch 179/200\n",
            "34/34 - 0s - loss: 3585.2651 - mae: 3585.2651 - 63ms/epoch - 2ms/step\n",
            "Epoch 180/200\n",
            "34/34 - 0s - loss: 3588.7134 - mae: 3588.7134 - 65ms/epoch - 2ms/step\n",
            "Epoch 181/200\n",
            "34/34 - 0s - loss: 3579.3831 - mae: 3579.3831 - 79ms/epoch - 2ms/step\n",
            "Epoch 182/200\n",
            "34/34 - 0s - loss: 3584.0559 - mae: 3584.0559 - 70ms/epoch - 2ms/step\n",
            "Epoch 183/200\n",
            "34/34 - 0s - loss: 3579.3191 - mae: 3579.3191 - 69ms/epoch - 2ms/step\n",
            "Epoch 184/200\n",
            "34/34 - 0s - loss: 3591.0115 - mae: 3591.0115 - 82ms/epoch - 2ms/step\n",
            "Epoch 185/200\n",
            "34/34 - 0s - loss: 3587.2473 - mae: 3587.2473 - 73ms/epoch - 2ms/step\n",
            "Epoch 186/200\n",
            "34/34 - 0s - loss: 3578.5564 - mae: 3578.5564 - 84ms/epoch - 2ms/step\n",
            "Epoch 187/200\n",
            "34/34 - 0s - loss: 3600.1162 - mae: 3600.1162 - 68ms/epoch - 2ms/step\n",
            "Epoch 188/200\n",
            "34/34 - 0s - loss: 3572.5583 - mae: 3572.5583 - 112ms/epoch - 3ms/step\n",
            "Epoch 189/200\n",
            "34/34 - 0s - loss: 3579.8982 - mae: 3579.8982 - 137ms/epoch - 4ms/step\n",
            "Epoch 190/200\n",
            "34/34 - 0s - loss: 3583.8787 - mae: 3583.8787 - 134ms/epoch - 4ms/step\n",
            "Epoch 191/200\n",
            "34/34 - 0s - loss: 3576.8560 - mae: 3576.8560 - 140ms/epoch - 4ms/step\n",
            "Epoch 192/200\n",
            "34/34 - 0s - loss: 3577.8999 - mae: 3577.8999 - 134ms/epoch - 4ms/step\n",
            "Epoch 193/200\n",
            "34/34 - 0s - loss: 3573.0181 - mae: 3573.0181 - 118ms/epoch - 3ms/step\n",
            "Epoch 194/200\n",
            "34/34 - 0s - loss: 3571.9531 - mae: 3571.9531 - 114ms/epoch - 3ms/step\n",
            "Epoch 195/200\n",
            "34/34 - 0s - loss: 3573.5398 - mae: 3573.5398 - 111ms/epoch - 3ms/step\n",
            "Epoch 196/200\n",
            "34/34 - 0s - loss: 3570.8638 - mae: 3570.8638 - 131ms/epoch - 4ms/step\n",
            "Epoch 197/200\n",
            "34/34 - 0s - loss: 3567.1855 - mae: 3567.1855 - 156ms/epoch - 5ms/step\n",
            "Epoch 198/200\n",
            "34/34 - 0s - loss: 3569.0510 - mae: 3569.0510 - 126ms/epoch - 4ms/step\n",
            "Epoch 199/200\n",
            "34/34 - 0s - loss: 3575.5701 - mae: 3575.5701 - 125ms/epoch - 4ms/step\n",
            "Epoch 200/200\n",
            "34/34 - 0s - loss: 3573.6753 - mae: 3573.6753 - 138ms/epoch - 4ms/step\n"
          ]
        }
      ]
    },
    {
      "cell_type": "markdown",
      "source": [
        "#### Observation:\n",
        "the intial attempt to use `SGD()` gave `nan` for loss and mae, showing that the network was too complex for that optimizer\n",
        "Therefore we switched it to the `Adam()` optimizer and got better results.\n",
        "Ran the `model.fit` twice at several epochs setting to compare results."
      ],
      "metadata": {
        "id": "V0e882paM94Q"
      }
    },
    {
      "cell_type": "code",
      "source": [
        "# epochs = 150\n",
        "y=prediction_function(model_layers)"
      ],
      "metadata": {
        "colab": {
          "base_uri": "https://localhost:8080/",
          "height": 319
        },
        "id": "5qn5DiE3N6XR",
        "outputId": "510bf5bf-693e-4912-e34a-ed12df3a136e"
      },
      "execution_count": 113,
      "outputs": [
        {
          "output_type": "stream",
          "name": "stdout",
          "text": [
            "9/9 [==============================] - 0s 2ms/step\n",
            "The MAE is: 4161.9736328125\n",
            "The MSE is: 65417972.0\n"
          ]
        },
        {
          "output_type": "display_data",
          "data": {
            "text/plain": [
              "<Figure size 432x288 with 1 Axes>"
            ],
            "image/png": "[encoded data removed]"
          },
          "metadata": {
            "needs_background": "light"
          }
        }
      ]
    },
    {
      "cell_type": "code",
      "source": [
        "# epochs= 100\n",
        "y=prediction_function(model_layers)"
      ],
      "metadata": {
        "colab": {
          "base_uri": "https://localhost:8080/",
          "height": 319
        },
        "id": "ojjJnVsQN9JS",
        "outputId": "810e02c6-941b-40c6-aab8-dc7c9e35a3bc"
      },
      "execution_count": 116,
      "outputs": [
        {
          "output_type": "stream",
          "name": "stdout",
          "text": [
            "9/9 [==============================] - 0s 2ms/step\n",
            "The MAE is: 5409.4638671875\n",
            "The MSE is: 116856056.0\n"
          ]
        },
        {
          "output_type": "display_data",
          "data": {
            "text/plain": [
              "<Figure size 432x288 with 1 Axes>"
            ],
            "image/png": "[encoded data removed]"
          },
          "metadata": {
            "needs_background": "light"
          }
        }
      ]
    },
    {
      "cell_type": "code",
      "source": [
        "# epochs = 200\n",
        "y=prediction_function(model_layers)"
      ],
      "metadata": {
        "colab": {
          "base_uri": "https://localhost:8080/",
          "height": 319
        },
        "id": "7K4m6whTOIrp",
        "outputId": "32d73d48-ff29-4236-e026-e569bc2fc040"
      },
      "execution_count": 119,
      "outputs": [
        {
          "output_type": "stream",
          "name": "stdout",
          "text": [
            "9/9 [==============================] - 0s 2ms/step\n",
            "The MAE is: 4037.33203125\n",
            "The MSE is: 59380040.0\n"
          ]
        },
        {
          "output_type": "display_data",
          "data": {
            "text/plain": [
              "<Figure size 432x288 with 1 Axes>"
            ],
            "image/png": "[encoded data removed]"
          },
          "metadata": {
            "needs_background": "light"
          }
        }
      ]
    },
    {
      "cell_type": "markdown",
      "source": [
        "### Model `History` member\n",
        "\n",
        "`History` logs the `loss` function against the `epochs` so by turning it into a DataFrame, you can create a graph showing how the Loss went down with each `model.fit()` run."
      ],
      "metadata": {
        "id": "nELMGSEXO6HW"
      }
    },
    {
      "cell_type": "code",
      "source": [
        "pd.DataFrame(history.history).plot()\n",
        "plt.ylabel(\"Loss\")\n",
        "plt.xlabel(\"epochs\")"
      ],
      "metadata": {
        "colab": {
          "base_uri": "https://localhost:8080/",
          "height": 297
        },
        "id": "e2detg61OqsM",
        "outputId": "54cb24d4-9a98-4163-98c2-3a263e62aa10"
      },
      "execution_count": 120,
      "outputs": [
        {
          "output_type": "execute_result",
          "data": {
            "text/plain": [
              "Text(0.5, 0, 'epochs')"
            ]
          },
          "metadata": {},
          "execution_count": 120
        },
        {
          "output_type": "display_data",
          "data": {
            "text/plain": [
              "<Figure size 432x288 with 1 Axes>"
            ],
            "image/png": "[encoded data removed]"
          },
          "metadata": {
            "needs_background": "light"
          }
        }
      ]
    },
    {
      "cell_type": "markdown",
      "source": [
        "## `EarlyStopping` Callback\n",
        "\n",
        "**Question**: How long should we train for?\n",
        "\n",
        "**Answer**: When the model stops improving\n",
        "\n",
        "**Question**: How do we know that?\n",
        "\n",
        "**Answer**: EarlyStopping Callback. It is a TensorFlow component you can add to your model to stop training once it stops improving a certain metric."
      ],
      "metadata": {
        "id": "ndp2Pq0QQK8t"
      }
    },
    {
      "cell_type": "markdown",
      "source": [
        "## Preprocessing Data - Normalization and Standardization\n",
        "\n",
        "* Normalization - Converting all values from 0 to 1 while preserving the distribution of the data. `MinMaxScaler`\n",
        "\n",
        "* Standardization - removes the mean and divides each value by the standard deviation. `StandardScaler`. This is used to deal outlier data. \n",
        "\n",
        "both functions are from SKLern \n",
        "\n",
        "In terms of scaling values, neural networks prefer normalization. \n",
        "\n",
        "**WHY should we do this?**\n",
        "Because Algorithms converge faster and perform better when features are on a relatively similar scale. https://towardsdatascience.com/scale-standardize-or-normalize-with-scikit-learn-6ccc7d176a02\n"
      ],
      "metadata": {
        "id": "ZqpTnjUsQwT_"
      }
    },
    {
      "cell_type": "code",
      "source": [
        "y = insurance_onehot[\"charges\"].head()"
      ],
      "metadata": {
        "id": "l1xuWUelei-f"
      },
      "execution_count": 128,
      "outputs": []
    },
    {
      "cell_type": "code",
      "source": [
        "X.head()"
      ],
      "metadata": {
        "colab": {
          "base_uri": "https://localhost:8080/",
          "height": 270
        },
        "id": "duUg_m17e2DQ",
        "outputId": "37527f33-2b23-44e1-8643-718ba88c1017"
      },
      "execution_count": 124,
      "outputs": [
        {
          "output_type": "execute_result",
          "data": {
            "text/plain": [
              "   age     bmi  children  sex_female  sex_male  smoker_no  smoker_yes  \\\n",
              "0   19  27.900         0           1         0          0           1   \n",
              "1   18  33.770         1           0         1          1           0   \n",
              "2   28  33.000         3           0         1          1           0   \n",
              "3   33  22.705         0           0         1          1           0   \n",
              "4   32  28.880         0           0         1          1           0   \n",
              "\n",
              "   region_northeast  region_northwest  region_southeast  region_southwest  \n",
              "0                 0                 0                 0                 1  \n",
              "1                 0                 0                 1                 0  \n",
              "2                 0                 0                 1                 0  \n",
              "3                 0                 1                 0                 0  \n",
              "4                 0                 1                 0                 0  "
            ],
            "text/html": [
              "\n",
              "  <div id=\"df-7b143198-eaeb-4cc0-86ad-2cdd6fba8fa9\">\n",
              "    <div class=\"colab-df-container\">\n",
              "      <div>\n",
              "<style scoped>\n",
              "    .dataframe tbody tr th:only-of-type {\n",
              "        vertical-align: middle;\n",
              "    }\n",
              "\n",
              "    .dataframe tbody tr th {\n",
              "        vertical-align: top;\n",
              "    }\n",
              "\n",
              "    .dataframe thead th {\n",
              "        text-align: right;\n",
              "    }\n",
              "</style>\n",
              "<table border=\"1\" class=\"dataframe\">\n",
              "  <thead>\n",
              "    <tr style=\"text-align: right;\">\n",
              "      <th></th>\n",
              "      <th>age</th>\n",
              "      <th>bmi</th>\n",
              "      <th>children</th>\n",
              "      <th>sex_female</th>\n",
              "      <th>sex_male</th>\n",
              "      <th>smoker_no</th>\n",
              "      <th>smoker_yes</th>\n",
              "      <th>region_northeast</th>\n",
              "      <th>region_northwest</th>\n",
              "      <th>region_southeast</th>\n",
              "      <th>region_southwest</th>\n",
              "    </tr>\n",
              "  </thead>\n",
              "  <tbody>\n",
              "    <tr>\n",
              "      <th>0</th>\n",
              "      <td>19</td>\n",
              "      <td>27.900</td>\n",
              "      <td>0</td>\n",
              "      <td>1</td>\n",
              "      <td>0</td>\n",
              "      <td>0</td>\n",
              "      <td>1</td>\n",
              "      <td>0</td>\n",
              "      <td>0</td>\n",
              "      <td>0</td>\n",
              "      <td>1</td>\n",
              "    </tr>\n",
              "    <tr>\n",
              "      <th>1</th>\n",
              "      <td>18</td>\n",
              "      <td>33.770</td>\n",
              "      <td>1</td>\n",
              "      <td>0</td>\n",
              "      <td>1</td>\n",
              "      <td>1</td>\n",
              "      <td>0</td>\n",
              "      <td>0</td>\n",
              "      <td>0</td>\n",
              "      <td>1</td>\n",
              "      <td>0</td>\n",
              "    </tr>\n",
              "    <tr>\n",
              "      <th>2</th>\n",
              "      <td>28</td>\n",
              "      <td>33.000</td>\n",
              "      <td>3</td>\n",
              "      <td>0</td>\n",
              "      <td>1</td>\n",
              "      <td>1</td>\n",
              "      <td>0</td>\n",
              "      <td>0</td>\n",
              "      <td>0</td>\n",
              "      <td>1</td>\n",
              "      <td>0</td>\n",
              "    </tr>\n",
              "    <tr>\n",
              "      <th>3</th>\n",
              "      <td>33</td>\n",
              "      <td>22.705</td>\n",
              "      <td>0</td>\n",
              "      <td>0</td>\n",
              "      <td>1</td>\n",
              "      <td>1</td>\n",
              "      <td>0</td>\n",
              "      <td>0</td>\n",
              "      <td>1</td>\n",
              "      <td>0</td>\n",
              "      <td>0</td>\n",
              "    </tr>\n",
              "    <tr>\n",
              "      <th>4</th>\n",
              "      <td>32</td>\n",
              "      <td>28.880</td>\n",
              "      <td>0</td>\n",
              "      <td>0</td>\n",
              "      <td>1</td>\n",
              "      <td>1</td>\n",
              "      <td>0</td>\n",
              "      <td>0</td>\n",
              "      <td>1</td>\n",
              "      <td>0</td>\n",
              "      <td>0</td>\n",
              "    </tr>\n",
              "  </tbody>\n",
              "</table>\n",
              "</div>\n",
              "      <button class=\"colab-df-convert\" onclick=\"convertToInteractive('df-7b143198-eaeb-4cc0-86ad-2cdd6fba8fa9')\"\n",
              "              title=\"Convert this dataframe to an interactive table.\"\n",
              "              style=\"display:none;\">\n",
              "        \n",
              "  <svg xmlns=\"http://www.w3.org/2000/svg\" height=\"24px\"viewBox=\"0 0 24 24\"\n",
              "       width=\"24px\">\n",
              "    <path d=\"M0 0h24v24H0V0z\" fill=\"none\"/>\n",
              "    <path d=\"M18.56 5.44l.94 2.06.94-2.06 2.06-.94-2.06-.94-.94-2.06-.94 2.06-2.06.94zm-11 1L8.5 8.5l.94-2.06 2.06-.94-2.06-.94L8.5 2.5l-.94 2.06-2.06.94zm10 10l.94 2.06.94-2.06 2.06-.94-2.06-.94-.94-2.06-.94 2.06-2.06.94z\"/><path d=\"M17.41 7.96l-1.37-1.37c-.4-.4-.92-.59-1.43-.59-.52 0-1.04.2-1.43.59L10.3 9.45l-7.72 7.72c-.78.78-.78 2.05 0 2.83L4 21.41c.39.39.9.59 1.41.59.51 0 1.02-.2 1.41-.59l7.78-7.78 2.81-2.81c.8-.78.8-2.07 0-2.86zM5.41 20L4 18.59l7.72-7.72 1.47 1.35L5.41 20z\"/>\n",
              "  </svg>\n",
              "      </button>\n",
              "      \n",
              "  <style>\n",
              "    .colab-df-container {\n",
              "      display:flex;\n",
              "      flex-wrap:wrap;\n",
              "      gap: 12px;\n",
              "    }\n",
              "\n",
              "    .colab-df-convert {\n",
              "      background-color: #E8F0FE;\n",
              "      border: none;\n",
              "      border-radius: 50%;\n",
              "      cursor: pointer;\n",
              "      display: none;\n",
              "      fill: #1967D2;\n",
              "      height: 32px;\n",
              "      padding: 0 0 0 0;\n",
              "      width: 32px;\n",
              "    }\n",
              "\n",
              "    .colab-df-convert:hover {\n",
              "      background-color: #E2EBFA;\n",
              "      box-shadow: 0px 1px 2px rgba(60, 64, 67, 0.3), 0px 1px 3px 1px rgba(60, 64, 67, 0.15);\n",
              "      fill: #174EA6;\n",
              "    }\n",
              "\n",
              "    [theme=dark] .colab-df-convert {\n",
              "      background-color: #3B4455;\n",
              "      fill: #D2E3FC;\n",
              "    }\n",
              "\n",
              "    [theme=dark] .colab-df-convert:hover {\n",
              "      background-color: #434B5C;\n",
              "      box-shadow: 0px 1px 3px 1px rgba(0, 0, 0, 0.15);\n",
              "      filter: drop-shadow(0px 1px 2px rgba(0, 0, 0, 0.3));\n",
              "      fill: #FFFFFF;\n",
              "    }\n",
              "  </style>\n",
              "\n",
              "      <script>\n",
              "        const buttonEl =\n",
              "          document.querySelector('#df-7b143198-eaeb-4cc0-86ad-2cdd6fba8fa9 button.colab-df-convert');\n",
              "        buttonEl.style.display =\n",
              "          google.colab.kernel.accessAllowed ? 'block' : 'none';\n",
              "\n",
              "        async function convertToInteractive(key) {\n",
              "          const element = document.querySelector('#df-7b143198-eaeb-4cc0-86ad-2cdd6fba8fa9');\n",
              "          const dataTable =\n",
              "            await google.colab.kernel.invokeFunction('convertToInteractive',\n",
              "                                                     [key], {});\n",
              "          if (!dataTable) return;\n",
              "\n",
              "          const docLinkHtml = 'Like what you see? Visit the ' +\n",
              "            '<a target=\"_blank\" href=https://colab.research.google.com/notebooks/data_table.ipynb>data table notebook</a>'\n",
              "            + ' to learn more about interactive tables.';\n",
              "          element.innerHTML = '';\n",
              "          dataTable['output_type'] = 'display_data';\n",
              "          await google.colab.output.renderOutput(dataTable, element);\n",
              "          const docLink = document.createElement('div');\n",
              "          docLink.innerHTML = docLinkHtml;\n",
              "          element.appendChild(docLink);\n",
              "        }\n",
              "      </script>\n",
              "    </div>\n",
              "  </div>\n",
              "  "
            ]
          },
          "metadata": {},
          "execution_count": 124
        }
      ]
    },
    {
      "cell_type": "code",
      "source": [
        "X.age.plot(kind=\"hist\")"
      ],
      "metadata": {
        "colab": {
          "base_uri": "https://localhost:8080/",
          "height": 283
        },
        "id": "5A5L35e-e3nj",
        "outputId": "4f6cde52-3ee3-4a26-fbba-7e90c17cad21"
      },
      "execution_count": 129,
      "outputs": [
        {
          "output_type": "execute_result",
          "data": {
            "text/plain": [
              "<matplotlib.axes._subplots.AxesSubplot at 0x7efdb66dabb0>"
            ]
          },
          "metadata": {},
          "execution_count": 129
        },
        {
          "output_type": "display_data",
          "data": {
            "text/plain": [
              "<Figure size 432x288 with 1 Axes>"
            ],
            "image/png": "[encoded data removed]"
          },
          "metadata": {
            "needs_background": "light"
          }
        }
      ]
    },
    {
      "cell_type": "code",
      "source": [
        "X.bmi.plot(kind=\"hist\")"
      ],
      "metadata": {
        "colab": {
          "base_uri": "https://localhost:8080/",
          "height": 283
        },
        "id": "Gna50Rk_fGDI",
        "outputId": "15b385ea-c109-476e-fe02-2a8d4ab13ad1"
      },
      "execution_count": 130,
      "outputs": [
        {
          "output_type": "execute_result",
          "data": {
            "text/plain": [
              "<matplotlib.axes._subplots.AxesSubplot at 0x7efdb6432940>"
            ]
          },
          "metadata": {},
          "execution_count": 130
        },
        {
          "output_type": "display_data",
          "data": {
            "text/plain": [
              "<Figure size 432x288 with 1 Axes>"
            ],
            "image/png": "[encoded data removed]"
          },
          "metadata": {
            "needs_background": "light"
          }
        }
      ]
    },
    {
      "cell_type": "code",
      "source": [
        "X.children.value_counts()"
      ],
      "metadata": {
        "colab": {
          "base_uri": "https://localhost:8080/"
        },
        "id": "NSzFhjCffJDb",
        "outputId": "3ac676ec-20da-416a-c725-ead5b07fbb19"
      },
      "execution_count": 131,
      "outputs": [
        {
          "output_type": "execute_result",
          "data": {
            "text/plain": [
              "0    574\n",
              "1    324\n",
              "2    240\n",
              "3    157\n",
              "4     25\n",
              "5     18\n",
              "Name: children, dtype: int64"
            ]
          },
          "metadata": {},
          "execution_count": 131
        }
      ]
    },
    {
      "cell_type": "code",
      "source": [
        "X.children.plot(kind=\"hist\")"
      ],
      "metadata": {
        "colab": {
          "base_uri": "https://localhost:8080/",
          "height": 286
        },
        "id": "GF06FNenfNCG",
        "outputId": "1e879777-bcef-439d-9cca-669fef9af860"
      },
      "execution_count": 132,
      "outputs": [
        {
          "output_type": "execute_result",
          "data": {
            "text/plain": [
              "<matplotlib.axes._subplots.AxesSubplot at 0x7efdb66dac70>"
            ]
          },
          "metadata": {},
          "execution_count": 132
        },
        {
          "output_type": "display_data",
          "data": {
            "text/plain": [
              "<Figure size 432x288 with 1 Axes>"
            ],
            "image/png": "[encoded data removed]"
          },
          "metadata": {
            "needs_background": "light"
          }
        }
      ]
    },
    {
      "cell_type": "code",
      "source": [],
      "metadata": {
        "id": "3RM1ck7afPTj"
      },
      "execution_count": null,
      "outputs": []
    }
  ]
}